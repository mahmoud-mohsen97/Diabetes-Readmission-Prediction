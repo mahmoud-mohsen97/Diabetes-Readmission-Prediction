{
 "cells": [
  {
   "cell_type": "markdown",
   "id": "37551251",
   "metadata": {
    "papermill": {
     "duration": 0.033978,
     "end_time": "2023-03-15T11:57:28.023043",
     "exception": false,
     "start_time": "2023-03-15T11:57:27.989065",
     "status": "completed"
    },
    "tags": []
   },
   "source": [
    "## You're here! \n",
    "Welcome to your first competition in the [ITI's AI Pro training program](https://ai.iti.gov.eg/epita/ai-engineer/)! We hope you enjoy and learn as much as we did prepairing this competition.\n",
    "\n",
    "\n",
    "## Introduction\n",
    "\n",
    "In the competition, it's required to predict the whether an inpatient is`Readmitted` within 30 days given info about the encounter.\n",
    "\n",
    "This is the getting started notebook. Things are kept simple so that it's easier to understand the steps and modify it.\n",
    "\n",
    "Feel free to `Fork` this notebook and share it with your modifications **OR** use it to create your submissions.\n",
    "\n",
    "### Prerequisites\n",
    "You should know how to use python and a little bit of Machine Learning. You can apply the techniques you learned in the training program and submit the new solutions! \n",
    "\n",
    "### Checklist\n",
    "You can participate in this competition the way you perefer. However, I recommend following these steps if this is your first time joining a competition on Kaggle.\n",
    "\n",
    "* Fork this notebook and run the cells in order.\n",
    "* Submit this solution.\n",
    "* Make changes to the data processing step as you see fit.\n",
    "* Submit the new solutions.\n",
    "\n",
    "*You can submit up to 5 submissions per day. You can select only one of the submission you make to be considered in the final ranking.*\n",
    "\n",
    "\n",
    "Don't hesitate to leave a comment or contact me if you have any question!"
   ]
  },
  {
   "cell_type": "code",
   "execution_count": 1,
   "id": "c4de9795",
   "metadata": {
    "execution": {
     "iopub.execute_input": "2023-03-15T11:57:28.090139Z",
     "iopub.status.busy": "2023-03-15T11:57:28.089616Z",
     "iopub.status.idle": "2023-03-15T11:57:29.434836Z",
     "shell.execute_reply": "2023-03-15T11:57:29.433819Z"
    },
    "papermill": {
     "duration": 1.382658,
     "end_time": "2023-03-15T11:57:29.437809",
     "exception": false,
     "start_time": "2023-03-15T11:57:28.055151",
     "status": "completed"
    },
    "tags": []
   },
   "outputs": [],
   "source": [
    "import pandas as pd\n",
    "import numpy as np\n",
    "import matplotlib.pyplot as plt\n",
    "import seaborn as sns\n",
    "from sklearn.preprocessing import MinMaxScaler\n",
    "import os"
   ]
  },
  {
   "cell_type": "code",
   "execution_count": 2,
   "id": "2945d1e6",
   "metadata": {
    "execution": {
     "iopub.execute_input": "2023-03-15T11:57:29.504866Z",
     "iopub.status.busy": "2023-03-15T11:57:29.503488Z",
     "iopub.status.idle": "2023-03-15T11:57:30.578578Z",
     "shell.execute_reply": "2023-03-15T11:57:30.576641Z"
    },
    "id": "jXQ1P-QNrlaw",
    "papermill": {
     "duration": 1.111223,
     "end_time": "2023-03-15T11:57:30.581273",
     "exception": false,
     "start_time": "2023-03-15T11:57:29.470050",
     "status": "completed"
    },
    "tags": []
   },
   "outputs": [
    {
     "name": "stdout",
     "output_type": "stream",
     "text": [
      "The shape of the train dataset is (71236, 50).\n",
      "\n",
      "\n",
      "The shape of the test dataset is (30530, 49).\n",
      "\n",
      "\n"
     ]
    },
    {
     "data": {
      "text/html": [
       "<div>\n",
       "<style scoped>\n",
       "    .dataframe tbody tr th:only-of-type {\n",
       "        vertical-align: middle;\n",
       "    }\n",
       "\n",
       "    .dataframe tbody tr th {\n",
       "        vertical-align: top;\n",
       "    }\n",
       "\n",
       "    .dataframe thead th {\n",
       "        text-align: right;\n",
       "    }\n",
       "</style>\n",
       "<table border=\"1\" class=\"dataframe\">\n",
       "  <thead>\n",
       "    <tr style=\"text-align: right;\">\n",
       "      <th></th>\n",
       "      <th>encounter_id</th>\n",
       "      <th>patient_nbr</th>\n",
       "      <th>race</th>\n",
       "      <th>gender</th>\n",
       "      <th>age</th>\n",
       "      <th>weight</th>\n",
       "      <th>admission_type_id</th>\n",
       "      <th>discharge_disposition_id</th>\n",
       "      <th>admission_source_id</th>\n",
       "      <th>time_in_hospital</th>\n",
       "      <th>...</th>\n",
       "      <th>citoglipton</th>\n",
       "      <th>insulin</th>\n",
       "      <th>glyburide-metformin</th>\n",
       "      <th>glipizide-metformin</th>\n",
       "      <th>glimepiride-pioglitazone</th>\n",
       "      <th>metformin-rosiglitazone</th>\n",
       "      <th>metformin-pioglitazone</th>\n",
       "      <th>change</th>\n",
       "      <th>diabetesMed</th>\n",
       "      <th>readmitted</th>\n",
       "    </tr>\n",
       "  </thead>\n",
       "  <tbody>\n",
       "    <tr>\n",
       "      <th>0</th>\n",
       "      <td>197920182</td>\n",
       "      <td>110382426</td>\n",
       "      <td>Caucasian</td>\n",
       "      <td>Female</td>\n",
       "      <td>[80-90)</td>\n",
       "      <td>?</td>\n",
       "      <td>3</td>\n",
       "      <td>1</td>\n",
       "      <td>7</td>\n",
       "      <td>5</td>\n",
       "      <td>...</td>\n",
       "      <td>No</td>\n",
       "      <td>No</td>\n",
       "      <td>No</td>\n",
       "      <td>No</td>\n",
       "      <td>No</td>\n",
       "      <td>No</td>\n",
       "      <td>No</td>\n",
       "      <td>Ch</td>\n",
       "      <td>Yes</td>\n",
       "      <td>&gt;30</td>\n",
       "    </tr>\n",
       "    <tr>\n",
       "      <th>1</th>\n",
       "      <td>30870324</td>\n",
       "      <td>1276911</td>\n",
       "      <td>Caucasian</td>\n",
       "      <td>Male</td>\n",
       "      <td>[70-80)</td>\n",
       "      <td>?</td>\n",
       "      <td>3</td>\n",
       "      <td>5</td>\n",
       "      <td>1</td>\n",
       "      <td>3</td>\n",
       "      <td>...</td>\n",
       "      <td>No</td>\n",
       "      <td>No</td>\n",
       "      <td>No</td>\n",
       "      <td>No</td>\n",
       "      <td>No</td>\n",
       "      <td>No</td>\n",
       "      <td>No</td>\n",
       "      <td>No</td>\n",
       "      <td>Yes</td>\n",
       "      <td>NO</td>\n",
       "    </tr>\n",
       "    <tr>\n",
       "      <th>2</th>\n",
       "      <td>126616944</td>\n",
       "      <td>92115693</td>\n",
       "      <td>Caucasian</td>\n",
       "      <td>Female</td>\n",
       "      <td>[70-80)</td>\n",
       "      <td>?</td>\n",
       "      <td>3</td>\n",
       "      <td>3</td>\n",
       "      <td>1</td>\n",
       "      <td>8</td>\n",
       "      <td>...</td>\n",
       "      <td>No</td>\n",
       "      <td>Up</td>\n",
       "      <td>No</td>\n",
       "      <td>No</td>\n",
       "      <td>No</td>\n",
       "      <td>No</td>\n",
       "      <td>No</td>\n",
       "      <td>Ch</td>\n",
       "      <td>Yes</td>\n",
       "      <td>NO</td>\n",
       "    </tr>\n",
       "    <tr>\n",
       "      <th>3</th>\n",
       "      <td>303646118</td>\n",
       "      <td>32010471</td>\n",
       "      <td>Caucasian</td>\n",
       "      <td>Male</td>\n",
       "      <td>[50-60)</td>\n",
       "      <td>?</td>\n",
       "      <td>6</td>\n",
       "      <td>1</td>\n",
       "      <td>7</td>\n",
       "      <td>7</td>\n",
       "      <td>...</td>\n",
       "      <td>No</td>\n",
       "      <td>No</td>\n",
       "      <td>No</td>\n",
       "      <td>No</td>\n",
       "      <td>No</td>\n",
       "      <td>No</td>\n",
       "      <td>No</td>\n",
       "      <td>No</td>\n",
       "      <td>No</td>\n",
       "      <td>&gt;30</td>\n",
       "    </tr>\n",
       "    <tr>\n",
       "      <th>4</th>\n",
       "      <td>109444026</td>\n",
       "      <td>2402271</td>\n",
       "      <td>Caucasian</td>\n",
       "      <td>Male</td>\n",
       "      <td>[40-50)</td>\n",
       "      <td>?</td>\n",
       "      <td>1</td>\n",
       "      <td>1</td>\n",
       "      <td>6</td>\n",
       "      <td>2</td>\n",
       "      <td>...</td>\n",
       "      <td>No</td>\n",
       "      <td>Steady</td>\n",
       "      <td>No</td>\n",
       "      <td>No</td>\n",
       "      <td>No</td>\n",
       "      <td>No</td>\n",
       "      <td>No</td>\n",
       "      <td>No</td>\n",
       "      <td>Yes</td>\n",
       "      <td>NO</td>\n",
       "    </tr>\n",
       "  </tbody>\n",
       "</table>\n",
       "<p>5 rows × 50 columns</p>\n",
       "</div>"
      ],
      "text/plain": [
       "   encounter_id  patient_nbr       race  gender      age weight  \\\n",
       "0     197920182    110382426  Caucasian  Female  [80-90)      ?   \n",
       "1      30870324      1276911  Caucasian    Male  [70-80)      ?   \n",
       "2     126616944     92115693  Caucasian  Female  [70-80)      ?   \n",
       "3     303646118     32010471  Caucasian    Male  [50-60)      ?   \n",
       "4     109444026      2402271  Caucasian    Male  [40-50)      ?   \n",
       "\n",
       "   admission_type_id  discharge_disposition_id  admission_source_id  \\\n",
       "0                  3                         1                    7   \n",
       "1                  3                         5                    1   \n",
       "2                  3                         3                    1   \n",
       "3                  6                         1                    7   \n",
       "4                  1                         1                    6   \n",
       "\n",
       "   time_in_hospital  ... citoglipton insulin  glyburide-metformin  \\\n",
       "0                 5  ...          No      No                   No   \n",
       "1                 3  ...          No      No                   No   \n",
       "2                 8  ...          No      Up                   No   \n",
       "3                 7  ...          No      No                   No   \n",
       "4                 2  ...          No  Steady                   No   \n",
       "\n",
       "   glipizide-metformin  glimepiride-pioglitazone  metformin-rosiglitazone  \\\n",
       "0                   No                        No                       No   \n",
       "1                   No                        No                       No   \n",
       "2                   No                        No                       No   \n",
       "3                   No                        No                       No   \n",
       "4                   No                        No                       No   \n",
       "\n",
       "   metformin-pioglitazone  change diabetesMed readmitted  \n",
       "0                      No      Ch         Yes        >30  \n",
       "1                      No      No         Yes         NO  \n",
       "2                      No      Ch         Yes         NO  \n",
       "3                      No      No          No        >30  \n",
       "4                      No      No         Yes         NO  \n",
       "\n",
       "[5 rows x 50 columns]"
      ]
     },
     "execution_count": 2,
     "metadata": {},
     "output_type": "execute_result"
    }
   ],
   "source": [
    "dataset_path = '/kaggle/input/diabetes-readmission-prediction-i43/'\n",
    "\n",
    "train = pd.read_csv(os.path.join(dataset_path, 'train.csv'))\n",
    "test = pd.read_csv(os.path.join(dataset_path, 'test.csv'))\n",
    "print(\"The shape of the train dataset is {}.\\n\\n\".format(train.shape))\n",
    "print(\"The shape of the test dataset is {}.\\n\\n\".format(test.shape))\n",
    "train.head()"
   ]
  },
  {
   "cell_type": "code",
   "execution_count": 3,
   "id": "30c57abf",
   "metadata": {
    "execution": {
     "iopub.execute_input": "2023-03-15T11:57:30.648550Z",
     "iopub.status.busy": "2023-03-15T11:57:30.648052Z",
     "iopub.status.idle": "2023-03-15T11:57:30.654488Z",
     "shell.execute_reply": "2023-03-15T11:57:30.652829Z"
    },
    "id": "i759lbu9CVFI",
    "outputId": "ecd76162-1336-47e4-d338-c511453ce052",
    "papermill": {
     "duration": 0.044142,
     "end_time": "2023-03-15T11:57:30.658023",
     "exception": false,
     "start_time": "2023-03-15T11:57:30.613881",
     "status": "completed"
    },
    "tags": []
   },
   "outputs": [
    {
     "name": "stdout",
     "output_type": "stream",
     "text": [
      "df.shape (71236, 50)\n",
      "df2.shape (30530, 49)\n"
     ]
    }
   ],
   "source": [
    "print('df.shape',train.shape)\n",
    "print('df2.shape', test.shape)"
   ]
  },
  {
   "cell_type": "code",
   "execution_count": 4,
   "id": "e414028f",
   "metadata": {
    "execution": {
     "iopub.execute_input": "2023-03-15T11:57:30.726628Z",
     "iopub.status.busy": "2023-03-15T11:57:30.726155Z",
     "iopub.status.idle": "2023-03-15T11:57:30.810832Z",
     "shell.execute_reply": "2023-03-15T11:57:30.809609Z"
    },
    "id": "CZB9Bx8OCZuY",
    "papermill": {
     "duration": 0.121352,
     "end_time": "2023-03-15T11:57:30.813772",
     "exception": false,
     "start_time": "2023-03-15T11:57:30.692420",
     "status": "completed"
    },
    "tags": []
   },
   "outputs": [],
   "source": [
    "train['readmitted'] = train['readmitted'].replace({'<30': 0, '>30': 1,'NO':2})\n",
    "target=train['readmitted']"
   ]
  },
  {
   "cell_type": "code",
   "execution_count": 5,
   "id": "c029ad92",
   "metadata": {
    "execution": {
     "iopub.execute_input": "2023-03-15T11:57:30.882446Z",
     "iopub.status.busy": "2023-03-15T11:57:30.881969Z",
     "iopub.status.idle": "2023-03-15T11:57:30.888113Z",
     "shell.execute_reply": "2023-03-15T11:57:30.886797Z"
    },
    "papermill": {
     "duration": 0.043854,
     "end_time": "2023-03-15T11:57:30.891320",
     "exception": false,
     "start_time": "2023-03-15T11:57:30.847466",
     "status": "completed"
    },
    "tags": []
   },
   "outputs": [],
   "source": [
    "counter_Id=train['encounter_id']\n",
    "counter_Id2=test['encounter_id']"
   ]
  },
  {
   "cell_type": "code",
   "execution_count": 6,
   "id": "e98d05a7",
   "metadata": {
    "execution": {
     "iopub.execute_input": "2023-03-15T11:57:30.959515Z",
     "iopub.status.busy": "2023-03-15T11:57:30.959078Z",
     "iopub.status.idle": "2023-03-15T11:57:30.973242Z",
     "shell.execute_reply": "2023-03-15T11:57:30.972093Z"
    },
    "papermill": {
     "duration": 0.050889,
     "end_time": "2023-03-15T11:57:30.975655",
     "exception": false,
     "start_time": "2023-03-15T11:57:30.924766",
     "status": "completed"
    },
    "tags": []
   },
   "outputs": [
    {
     "data": {
      "text/plain": [
       "(30530, 26407)"
      ]
     },
     "execution_count": 6,
     "metadata": {},
     "output_type": "execute_result"
    }
   ],
   "source": [
    "# total unique patients\n",
    "len(test.patient_nbr), test.patient_nbr.nunique()"
   ]
  },
  {
   "cell_type": "code",
   "execution_count": 7,
   "id": "9af79e8b",
   "metadata": {
    "execution": {
     "iopub.execute_input": "2023-03-15T11:57:31.043436Z",
     "iopub.status.busy": "2023-03-15T11:57:31.042894Z",
     "iopub.status.idle": "2023-03-15T11:57:31.278796Z",
     "shell.execute_reply": "2023-03-15T11:57:31.277147Z"
    },
    "id": "QuG0zpiYCdGf",
    "outputId": "d7568f2c-76f4-49af-dcca-10d4000dfb91",
    "papermill": {
     "duration": 0.274758,
     "end_time": "2023-03-15T11:57:31.283214",
     "exception": false,
     "start_time": "2023-03-15T11:57:31.008456",
     "status": "completed"
    },
    "tags": []
   },
   "outputs": [
    {
     "data": {
      "text/plain": [
       "<AxesSubplot:title={'center':'Distribution of predicted classes'}, ylabel='readmitted'>"
      ]
     },
     "execution_count": 7,
     "metadata": {},
     "output_type": "execute_result"
    },
    {
     "data": {
      "image/png": "[encoded data removed]",
      "text/plain": [
       "<Figure size 864x576 with 1 Axes>"
      ]
     },
     "metadata": {},
     "output_type": "display_data"
    }
   ],
   "source": [
    "plt.figure(figsize=(12,8))\n",
    "target.value_counts().plot(kind='pie', title='Distribution of predicted classes',autopct='%1.1f%%')"
   ]
  },
  {
   "cell_type": "code",
   "execution_count": 8,
   "id": "654346a1",
   "metadata": {
    "execution": {
     "iopub.execute_input": "2023-03-15T11:57:31.363458Z",
     "iopub.status.busy": "2023-03-15T11:57:31.363007Z",
     "iopub.status.idle": "2023-03-15T11:57:31.371261Z",
     "shell.execute_reply": "2023-03-15T11:57:31.369764Z"
    },
    "papermill": {
     "duration": 0.045687,
     "end_time": "2023-03-15T11:57:31.374096",
     "exception": false,
     "start_time": "2023-03-15T11:57:31.328409",
     "status": "completed"
    },
    "tags": []
   },
   "outputs": [
    {
     "name": "stdout",
     "output_type": "stream",
     "text": [
      "2    38405\n",
      "1    24881\n",
      "0     7950\n",
      "Name: readmitted, dtype: int64\n"
     ]
    }
   ],
   "source": [
    "print(target.value_counts())"
   ]
  },
  {
   "cell_type": "code",
   "execution_count": 9,
   "id": "d5b9e05c",
   "metadata": {
    "execution": {
     "iopub.execute_input": "2023-03-15T11:57:31.443056Z",
     "iopub.status.busy": "2023-03-15T11:57:31.442618Z",
     "iopub.status.idle": "2023-03-15T11:57:31.520524Z",
     "shell.execute_reply": "2023-03-15T11:57:31.519239Z"
    },
    "id": "2uUTO104CiRH",
    "outputId": "3d4611c3-5999-4964-d33f-7b1cab2e5d52",
    "papermill": {
     "duration": 0.115618,
     "end_time": "2023-03-15T11:57:31.522910",
     "exception": false,
     "start_time": "2023-03-15T11:57:31.407292",
     "status": "completed"
    },
    "tags": []
   },
   "outputs": [
    {
     "data": {
      "text/plain": [
       "(71236, 49)"
      ]
     },
     "execution_count": 9,
     "metadata": {},
     "output_type": "execute_result"
    }
   ],
   "source": [
    "train.drop('readmitted',axis=1,inplace=True)\n",
    "train.shape"
   ]
  },
  {
   "cell_type": "code",
   "execution_count": 10,
   "id": "3ef1cc3d",
   "metadata": {
    "execution": {
     "iopub.execute_input": "2023-03-15T11:57:31.592028Z",
     "iopub.status.busy": "2023-03-15T11:57:31.591595Z",
     "iopub.status.idle": "2023-03-15T11:57:31.723514Z",
     "shell.execute_reply": "2023-03-15T11:57:31.722217Z"
    },
    "id": "PXuSSroNtgEJ",
    "outputId": "6d4a23b5-3701-4558-d5a8-323c50a8ea71",
    "papermill": {
     "duration": 0.170363,
     "end_time": "2023-03-15T11:57:31.726458",
     "exception": false,
     "start_time": "2023-03-15T11:57:31.556095",
     "status": "completed"
    },
    "tags": []
   },
   "outputs": [
    {
     "name": "stdout",
     "output_type": "stream",
     "text": [
      "<class 'pandas.core.frame.DataFrame'>\n",
      "RangeIndex: 71236 entries, 0 to 71235\n",
      "Data columns (total 49 columns):\n",
      " #   Column                    Non-Null Count  Dtype \n",
      "---  ------                    --------------  ----- \n",
      " 0   encounter_id              71236 non-null  int64 \n",
      " 1   patient_nbr               71236 non-null  int64 \n",
      " 2   race                      71236 non-null  object\n",
      " 3   gender                    71236 non-null  object\n",
      " 4   age                       71236 non-null  object\n",
      " 5   weight                    71236 non-null  object\n",
      " 6   admission_type_id         71236 non-null  int64 \n",
      " 7   discharge_disposition_id  71236 non-null  int64 \n",
      " 8   admission_source_id       71236 non-null  int64 \n",
      " 9   time_in_hospital          71236 non-null  int64 \n",
      " 10  payer_code                71236 non-null  object\n",
      " 11  medical_specialty         71236 non-null  object\n",
      " 12  num_lab_procedures        71236 non-null  int64 \n",
      " 13  num_procedures            71236 non-null  int64 \n",
      " 14  num_medications           71236 non-null  int64 \n",
      " 15  number_outpatient         71236 non-null  int64 \n",
      " 16  number_emergency          71236 non-null  int64 \n",
      " 17  number_inpatient          71236 non-null  int64 \n",
      " 18  diag_1                    71236 non-null  object\n",
      " 19  diag_2                    71236 non-null  object\n",
      " 20  diag_3                    71236 non-null  object\n",
      " 21  number_diagnoses          71236 non-null  int64 \n",
      " 22  max_glu_serum             71236 non-null  object\n",
      " 23  A1Cresult                 71236 non-null  object\n",
      " 24  metformin                 71236 non-null  object\n",
      " 25  repaglinide               71236 non-null  object\n",
      " 26  nateglinide               71236 non-null  object\n",
      " 27  chlorpropamide            71236 non-null  object\n",
      " 28  glimepiride               71236 non-null  object\n",
      " 29  acetohexamide             71236 non-null  object\n",
      " 30  glipizide                 71236 non-null  object\n",
      " 31  glyburide                 71236 non-null  object\n",
      " 32  tolbutamide               71236 non-null  object\n",
      " 33  pioglitazone              71236 non-null  object\n",
      " 34  rosiglitazone             71236 non-null  object\n",
      " 35  acarbose                  71236 non-null  object\n",
      " 36  miglitol                  71236 non-null  object\n",
      " 37  troglitazone              71236 non-null  object\n",
      " 38  tolazamide                71236 non-null  object\n",
      " 39  examide                   71236 non-null  object\n",
      " 40  citoglipton               71236 non-null  object\n",
      " 41  insulin                   71236 non-null  object\n",
      " 42  glyburide-metformin       71236 non-null  object\n",
      " 43  glipizide-metformin       71236 non-null  object\n",
      " 44  glimepiride-pioglitazone  71236 non-null  object\n",
      " 45  metformin-rosiglitazone   71236 non-null  object\n",
      " 46  metformin-pioglitazone    71236 non-null  object\n",
      " 47  change                    71236 non-null  object\n",
      " 48  diabetesMed               71236 non-null  object\n",
      "dtypes: int64(13), object(36)\n",
      "memory usage: 26.6+ MB\n"
     ]
    }
   ],
   "source": [
    "train.info()"
   ]
  },
  {
   "cell_type": "code",
   "execution_count": 11,
   "id": "509103e1",
   "metadata": {
    "execution": {
     "iopub.execute_input": "2023-03-15T11:57:31.795680Z",
     "iopub.status.busy": "2023-03-15T11:57:31.795255Z",
     "iopub.status.idle": "2023-03-15T11:57:31.860829Z",
     "shell.execute_reply": "2023-03-15T11:57:31.859100Z"
    },
    "papermill": {
     "duration": 0.104592,
     "end_time": "2023-03-15T11:57:31.864599",
     "exception": false,
     "start_time": "2023-03-15T11:57:31.760007",
     "status": "completed"
    },
    "tags": []
   },
   "outputs": [
    {
     "name": "stdout",
     "output_type": "stream",
     "text": [
      "<class 'pandas.core.frame.DataFrame'>\n",
      "RangeIndex: 30530 entries, 0 to 30529\n",
      "Data columns (total 49 columns):\n",
      " #   Column                    Non-Null Count  Dtype \n",
      "---  ------                    --------------  ----- \n",
      " 0   encounter_id              30530 non-null  int64 \n",
      " 1   patient_nbr               30530 non-null  int64 \n",
      " 2   race                      30530 non-null  object\n",
      " 3   gender                    30530 non-null  object\n",
      " 4   age                       30530 non-null  object\n",
      " 5   weight                    30530 non-null  object\n",
      " 6   admission_type_id         30530 non-null  int64 \n",
      " 7   discharge_disposition_id  30530 non-null  int64 \n",
      " 8   admission_source_id       30530 non-null  int64 \n",
      " 9   time_in_hospital          30530 non-null  int64 \n",
      " 10  payer_code                30530 non-null  object\n",
      " 11  medical_specialty         30530 non-null  object\n",
      " 12  num_lab_procedures        30530 non-null  int64 \n",
      " 13  num_procedures            30530 non-null  int64 \n",
      " 14  num_medications           30530 non-null  int64 \n",
      " 15  number_outpatient         30530 non-null  int64 \n",
      " 16  number_emergency          30530 non-null  int64 \n",
      " 17  number_inpatient          30530 non-null  int64 \n",
      " 18  diag_1                    30530 non-null  object\n",
      " 19  diag_2                    30530 non-null  object\n",
      " 20  diag_3                    30530 non-null  object\n",
      " 21  number_diagnoses          30530 non-null  int64 \n",
      " 22  max_glu_serum             30530 non-null  object\n",
      " 23  A1Cresult                 30530 non-null  object\n",
      " 24  metformin                 30530 non-null  object\n",
      " 25  repaglinide               30530 non-null  object\n",
      " 26  nateglinide               30530 non-null  object\n",
      " 27  chlorpropamide            30530 non-null  object\n",
      " 28  glimepiride               30530 non-null  object\n",
      " 29  acetohexamide             30530 non-null  object\n",
      " 30  glipizide                 30530 non-null  object\n",
      " 31  glyburide                 30530 non-null  object\n",
      " 32  tolbutamide               30530 non-null  object\n",
      " 33  pioglitazone              30530 non-null  object\n",
      " 34  rosiglitazone             30530 non-null  object\n",
      " 35  acarbose                  30530 non-null  object\n",
      " 36  miglitol                  30530 non-null  object\n",
      " 37  troglitazone              30530 non-null  object\n",
      " 38  tolazamide                30530 non-null  object\n",
      " 39  examide                   30530 non-null  object\n",
      " 40  citoglipton               30530 non-null  object\n",
      " 41  insulin                   30530 non-null  object\n",
      " 42  glyburide-metformin       30530 non-null  object\n",
      " 43  glipizide-metformin       30530 non-null  object\n",
      " 44  glimepiride-pioglitazone  30530 non-null  object\n",
      " 45  metformin-rosiglitazone   30530 non-null  object\n",
      " 46  metformin-pioglitazone    30530 non-null  object\n",
      " 47  change                    30530 non-null  object\n",
      " 48  diabetesMed               30530 non-null  object\n",
      "dtypes: int64(13), object(36)\n",
      "memory usage: 11.4+ MB\n"
     ]
    }
   ],
   "source": [
    "test.info()"
   ]
  },
  {
   "cell_type": "code",
   "execution_count": 12,
   "id": "29a2a103",
   "metadata": {
    "execution": {
     "iopub.execute_input": "2023-03-15T11:57:31.934333Z",
     "iopub.status.busy": "2023-03-15T11:57:31.933850Z",
     "iopub.status.idle": "2023-03-15T11:57:31.959363Z",
     "shell.execute_reply": "2023-03-15T11:57:31.958234Z"
    },
    "id": "t2OGstBut6jx",
    "outputId": "8673d212-1aaa-4342-ae46-725dbe963b1d",
    "papermill": {
     "duration": 0.063157,
     "end_time": "2023-03-15T11:57:31.961898",
     "exception": false,
     "start_time": "2023-03-15T11:57:31.898741",
     "status": "completed"
    },
    "tags": []
   },
   "outputs": [
    {
     "data": {
      "text/html": [
       "<div>\n",
       "<style scoped>\n",
       "    .dataframe tbody tr th:only-of-type {\n",
       "        vertical-align: middle;\n",
       "    }\n",
       "\n",
       "    .dataframe tbody tr th {\n",
       "        vertical-align: top;\n",
       "    }\n",
       "\n",
       "    .dataframe thead th {\n",
       "        text-align: right;\n",
       "    }\n",
       "</style>\n",
       "<table border=\"1\" class=\"dataframe\">\n",
       "  <thead>\n",
       "    <tr style=\"text-align: right;\">\n",
       "      <th></th>\n",
       "      <th>encounter_id</th>\n",
       "      <th>patient_nbr</th>\n",
       "      <th>race</th>\n",
       "      <th>gender</th>\n",
       "      <th>age</th>\n",
       "      <th>weight</th>\n",
       "      <th>admission_type_id</th>\n",
       "      <th>discharge_disposition_id</th>\n",
       "      <th>admission_source_id</th>\n",
       "      <th>time_in_hospital</th>\n",
       "      <th>...</th>\n",
       "      <th>examide</th>\n",
       "      <th>citoglipton</th>\n",
       "      <th>insulin</th>\n",
       "      <th>glyburide-metformin</th>\n",
       "      <th>glipizide-metformin</th>\n",
       "      <th>glimepiride-pioglitazone</th>\n",
       "      <th>metformin-rosiglitazone</th>\n",
       "      <th>metformin-pioglitazone</th>\n",
       "      <th>change</th>\n",
       "      <th>diabetesMed</th>\n",
       "    </tr>\n",
       "  </thead>\n",
       "  <tbody>\n",
       "    <tr>\n",
       "      <th>0</th>\n",
       "      <td>197920182</td>\n",
       "      <td>110382426</td>\n",
       "      <td>Caucasian</td>\n",
       "      <td>Female</td>\n",
       "      <td>[80-90)</td>\n",
       "      <td>?</td>\n",
       "      <td>3</td>\n",
       "      <td>1</td>\n",
       "      <td>7</td>\n",
       "      <td>5</td>\n",
       "      <td>...</td>\n",
       "      <td>No</td>\n",
       "      <td>No</td>\n",
       "      <td>No</td>\n",
       "      <td>No</td>\n",
       "      <td>No</td>\n",
       "      <td>No</td>\n",
       "      <td>No</td>\n",
       "      <td>No</td>\n",
       "      <td>Ch</td>\n",
       "      <td>Yes</td>\n",
       "    </tr>\n",
       "    <tr>\n",
       "      <th>1</th>\n",
       "      <td>30870324</td>\n",
       "      <td>1276911</td>\n",
       "      <td>Caucasian</td>\n",
       "      <td>Male</td>\n",
       "      <td>[70-80)</td>\n",
       "      <td>?</td>\n",
       "      <td>3</td>\n",
       "      <td>5</td>\n",
       "      <td>1</td>\n",
       "      <td>3</td>\n",
       "      <td>...</td>\n",
       "      <td>No</td>\n",
       "      <td>No</td>\n",
       "      <td>No</td>\n",
       "      <td>No</td>\n",
       "      <td>No</td>\n",
       "      <td>No</td>\n",
       "      <td>No</td>\n",
       "      <td>No</td>\n",
       "      <td>No</td>\n",
       "      <td>Yes</td>\n",
       "    </tr>\n",
       "    <tr>\n",
       "      <th>2</th>\n",
       "      <td>126616944</td>\n",
       "      <td>92115693</td>\n",
       "      <td>Caucasian</td>\n",
       "      <td>Female</td>\n",
       "      <td>[70-80)</td>\n",
       "      <td>?</td>\n",
       "      <td>3</td>\n",
       "      <td>3</td>\n",
       "      <td>1</td>\n",
       "      <td>8</td>\n",
       "      <td>...</td>\n",
       "      <td>No</td>\n",
       "      <td>No</td>\n",
       "      <td>Up</td>\n",
       "      <td>No</td>\n",
       "      <td>No</td>\n",
       "      <td>No</td>\n",
       "      <td>No</td>\n",
       "      <td>No</td>\n",
       "      <td>Ch</td>\n",
       "      <td>Yes</td>\n",
       "    </tr>\n",
       "    <tr>\n",
       "      <th>3</th>\n",
       "      <td>303646118</td>\n",
       "      <td>32010471</td>\n",
       "      <td>Caucasian</td>\n",
       "      <td>Male</td>\n",
       "      <td>[50-60)</td>\n",
       "      <td>?</td>\n",
       "      <td>6</td>\n",
       "      <td>1</td>\n",
       "      <td>7</td>\n",
       "      <td>7</td>\n",
       "      <td>...</td>\n",
       "      <td>No</td>\n",
       "      <td>No</td>\n",
       "      <td>No</td>\n",
       "      <td>No</td>\n",
       "      <td>No</td>\n",
       "      <td>No</td>\n",
       "      <td>No</td>\n",
       "      <td>No</td>\n",
       "      <td>No</td>\n",
       "      <td>No</td>\n",
       "    </tr>\n",
       "    <tr>\n",
       "      <th>4</th>\n",
       "      <td>109444026</td>\n",
       "      <td>2402271</td>\n",
       "      <td>Caucasian</td>\n",
       "      <td>Male</td>\n",
       "      <td>[40-50)</td>\n",
       "      <td>?</td>\n",
       "      <td>1</td>\n",
       "      <td>1</td>\n",
       "      <td>6</td>\n",
       "      <td>2</td>\n",
       "      <td>...</td>\n",
       "      <td>No</td>\n",
       "      <td>No</td>\n",
       "      <td>Steady</td>\n",
       "      <td>No</td>\n",
       "      <td>No</td>\n",
       "      <td>No</td>\n",
       "      <td>No</td>\n",
       "      <td>No</td>\n",
       "      <td>No</td>\n",
       "      <td>Yes</td>\n",
       "    </tr>\n",
       "  </tbody>\n",
       "</table>\n",
       "<p>5 rows × 49 columns</p>\n",
       "</div>"
      ],
      "text/plain": [
       "   encounter_id  patient_nbr       race  gender      age weight  \\\n",
       "0     197920182    110382426  Caucasian  Female  [80-90)      ?   \n",
       "1      30870324      1276911  Caucasian    Male  [70-80)      ?   \n",
       "2     126616944     92115693  Caucasian  Female  [70-80)      ?   \n",
       "3     303646118     32010471  Caucasian    Male  [50-60)      ?   \n",
       "4     109444026      2402271  Caucasian    Male  [40-50)      ?   \n",
       "\n",
       "   admission_type_id  discharge_disposition_id  admission_source_id  \\\n",
       "0                  3                         1                    7   \n",
       "1                  3                         5                    1   \n",
       "2                  3                         3                    1   \n",
       "3                  6                         1                    7   \n",
       "4                  1                         1                    6   \n",
       "\n",
       "   time_in_hospital  ... examide citoglipton  insulin  glyburide-metformin  \\\n",
       "0                 5  ...      No          No       No                   No   \n",
       "1                 3  ...      No          No       No                   No   \n",
       "2                 8  ...      No          No       Up                   No   \n",
       "3                 7  ...      No          No       No                   No   \n",
       "4                 2  ...      No          No   Steady                   No   \n",
       "\n",
       "   glipizide-metformin  glimepiride-pioglitazone  metformin-rosiglitazone  \\\n",
       "0                   No                        No                       No   \n",
       "1                   No                        No                       No   \n",
       "2                   No                        No                       No   \n",
       "3                   No                        No                       No   \n",
       "4                   No                        No                       No   \n",
       "\n",
       "   metformin-pioglitazone change diabetesMed  \n",
       "0                      No     Ch         Yes  \n",
       "1                      No     No         Yes  \n",
       "2                      No     Ch         Yes  \n",
       "3                      No     No          No  \n",
       "4                      No     No         Yes  \n",
       "\n",
       "[5 rows x 49 columns]"
      ]
     },
     "execution_count": 12,
     "metadata": {},
     "output_type": "execute_result"
    }
   ],
   "source": [
    "train.head()"
   ]
  },
  {
   "cell_type": "code",
   "execution_count": 13,
   "id": "1e3d1890",
   "metadata": {
    "execution": {
     "iopub.execute_input": "2023-03-15T11:57:32.032747Z",
     "iopub.status.busy": "2023-03-15T11:57:32.032266Z",
     "iopub.status.idle": "2023-03-15T11:57:32.040081Z",
     "shell.execute_reply": "2023-03-15T11:57:32.038861Z"
    },
    "papermill": {
     "duration": 0.046329,
     "end_time": "2023-03-15T11:57:32.042588",
     "exception": false,
     "start_time": "2023-03-15T11:57:31.996259",
     "status": "completed"
    },
    "tags": []
   },
   "outputs": [],
   "source": [
    "def drop_records(df):\n",
    "    # drop bad data with 3 '?' in diag\n",
    "    drop_ID = set(df[(df['diag_1'] == '?') & (df['diag_2'] == '?') & (df['diag_3'] == '?')].index)\n",
    "    # drop died patient data which 'discharge_disposition_id' == 11 | 19 | 20 | 21 indicates 'Expired'\n",
    "    drop_ID = drop_ID.union(set(df[(df['discharge_disposition_id'] == 11) | (df['discharge_disposition_id'] == 19) | \\\n",
    "                                   (df['discharge_disposition_id'] == 20) | (df['discharge_disposition_id'] == 21)].index))\n",
    "    # drop 3 data with 'Unknown/Invalid' gender\n",
    "    drop_ID = drop_ID.union(df['gender'][df['gender'] == 'Unknown/Invalid'].index)\n",
    "    new_ID = list(set(df.index) - set(drop_ID))\n",
    "    \n",
    "    return new_ID\n"
   ]
  },
  {
   "cell_type": "markdown",
   "id": "e18ccf3f",
   "metadata": {
    "id": "uoaMeD9QC6N3",
    "papermill": {
     "duration": 0.033905,
     "end_time": "2023-03-15T11:57:32.111903",
     "exception": false,
     "start_time": "2023-03-15T11:57:32.077998",
     "status": "completed"
    },
    "tags": []
   },
   "source": [
    "## Selecting features"
   ]
  },
  {
   "cell_type": "code",
   "execution_count": 14,
   "id": "ac1052c0",
   "metadata": {
    "execution": {
     "iopub.execute_input": "2023-03-15T11:57:32.181280Z",
     "iopub.status.busy": "2023-03-15T11:57:32.180757Z",
     "iopub.status.idle": "2023-03-15T11:57:32.190624Z",
     "shell.execute_reply": "2023-03-15T11:57:32.189432Z"
    },
    "id": "oGPOoCSQC5Wv",
    "outputId": "6753f864-652b-42be-ad67-b5196fb7d3c7",
    "papermill": {
     "duration": 0.04741,
     "end_time": "2023-03-15T11:57:32.192999",
     "exception": false,
     "start_time": "2023-03-15T11:57:32.145589",
     "status": "completed"
    },
    "tags": []
   },
   "outputs": [
    {
     "data": {
      "text/plain": [
       "Index(['encounter_id', 'patient_nbr', 'race', 'gender', 'age', 'weight',\n",
       "       'admission_type_id', 'discharge_disposition_id', 'admission_source_id',\n",
       "       'time_in_hospital', 'payer_code', 'medical_specialty',\n",
       "       'num_lab_procedures', 'num_procedures', 'num_medications',\n",
       "       'number_outpatient', 'number_emergency', 'number_inpatient', 'diag_1',\n",
       "       'diag_2', 'diag_3', 'number_diagnoses', 'max_glu_serum', 'A1Cresult',\n",
       "       'metformin', 'repaglinide', 'nateglinide', 'chlorpropamide',\n",
       "       'glimepiride', 'acetohexamide', 'glipizide', 'glyburide', 'tolbutamide',\n",
       "       'pioglitazone', 'rosiglitazone', 'acarbose', 'miglitol', 'troglitazone',\n",
       "       'tolazamide', 'examide', 'citoglipton', 'insulin',\n",
       "       'glyburide-metformin', 'glipizide-metformin',\n",
       "       'glimepiride-pioglitazone', 'metformin-rosiglitazone',\n",
       "       'metformin-pioglitazone', 'change', 'diabetesMed'],\n",
       "      dtype='object')"
      ]
     },
     "execution_count": 14,
     "metadata": {},
     "output_type": "execute_result"
    }
   ],
   "source": [
    "train.columns"
   ]
  },
  {
   "cell_type": "markdown",
   "id": "b431a3c1",
   "metadata": {
    "papermill": {
     "duration": 0.034563,
     "end_time": "2023-03-15T11:57:32.261418",
     "exception": false,
     "start_time": "2023-03-15T11:57:32.226855",
     "status": "completed"
    },
    "tags": []
   },
   "source": [
    "### the medicine features with UPs ans Downs"
   ]
  },
  {
   "cell_type": "code",
   "execution_count": 15,
   "id": "37f841ec",
   "metadata": {
    "execution": {
     "iopub.execute_input": "2023-03-15T11:57:32.331198Z",
     "iopub.status.busy": "2023-03-15T11:57:32.330740Z",
     "iopub.status.idle": "2023-03-15T11:57:32.337087Z",
     "shell.execute_reply": "2023-03-15T11:57:32.335839Z"
    },
    "papermill": {
     "duration": 0.044409,
     "end_time": "2023-03-15T11:57:32.339717",
     "exception": false,
     "start_time": "2023-03-15T11:57:32.295308",
     "status": "completed"
    },
    "tags": []
   },
   "outputs": [],
   "source": [
    "medicine = ['metformin', 'repaglinide', 'nateglinide', 'chlorpropamide', 'glimepiride', 'glipizide', 'glyburide',\n",
    "            'pioglitazone', 'rosiglitazone', 'acarbose', 'miglitol', 'insulin', 'glyburide-metformin', 'tolazamide',\n",
    "            'metformin-pioglitazone', 'metformin-rosiglitazone', 'glimepiride-pioglitazone', 'glipizide-metformin',\n",
    "            'troglitazone', 'tolbutamide', 'acetohexamide']"
   ]
  },
  {
   "cell_type": "code",
   "execution_count": 16,
   "id": "f27ff6bd",
   "metadata": {
    "execution": {
     "iopub.execute_input": "2023-03-15T11:57:32.411953Z",
     "iopub.status.busy": "2023-03-15T11:57:32.411484Z",
     "iopub.status.idle": "2023-03-15T11:57:32.421602Z",
     "shell.execute_reply": "2023-03-15T11:57:32.420279Z"
    },
    "papermill": {
     "duration": 0.049631,
     "end_time": "2023-03-15T11:57:32.423909",
     "exception": false,
     "start_time": "2023-03-15T11:57:32.374278",
     "status": "completed"
    },
    "tags": []
   },
   "outputs": [],
   "source": [
    "def add_two_features(df):\n",
    "    \n",
    "    for med in medicine:\n",
    "        tmp = med + 'temp'\n",
    "        df[tmp] = df[med].apply(lambda x: 1 if (x == 'Down' or x == 'Up') else 0)\n",
    "\n",
    "    # two new feature\n",
    "    df['num_med_changed'] = 0\n",
    "    for med in medicine:\n",
    "        tmp = med + 'temp'\n",
    "        df['num_med_changed'] += df[tmp]\n",
    "        del df[tmp]\n",
    "\n",
    "        \n",
    "        \n",
    "    for i in medicine:\n",
    "        df[i] = df[i].replace('Steady', 1)\n",
    "        df[i] = df[i].replace('No', 0)\n",
    "        df[i] = df[i].replace('Up', 1)\n",
    "        df[i] = df[i].replace('Down', 1)\n",
    "    \n",
    "    df['num_med_taken'] = 0\n",
    "    for med in medicine:\n",
    "        print(med)\n",
    "        df['num_med_taken'] = df['num_med_taken'] + df[med]\n",
    "    \n",
    "    return df"
   ]
  },
  {
   "cell_type": "code",
   "execution_count": 17,
   "id": "9283c51f",
   "metadata": {
    "execution": {
     "iopub.execute_input": "2023-03-15T11:57:32.496080Z",
     "iopub.status.busy": "2023-03-15T11:57:32.495644Z",
     "iopub.status.idle": "2023-03-15T11:57:34.642706Z",
     "shell.execute_reply": "2023-03-15T11:57:34.641001Z"
    },
    "papermill": {
     "duration": 2.185946,
     "end_time": "2023-03-15T11:57:34.645484",
     "exception": false,
     "start_time": "2023-03-15T11:57:32.459538",
     "status": "completed"
    },
    "tags": []
   },
   "outputs": [
    {
     "name": "stdout",
     "output_type": "stream",
     "text": [
      "metformin\n",
      "repaglinide\n",
      "nateglinide\n",
      "chlorpropamide\n",
      "glimepiride\n",
      "glipizide\n",
      "glyburide\n",
      "pioglitazone\n",
      "rosiglitazone\n",
      "acarbose\n",
      "miglitol\n",
      "insulin\n",
      "glyburide-metformin\n",
      "tolazamide\n",
      "metformin-pioglitazone\n",
      "metformin-rosiglitazone\n",
      "glimepiride-pioglitazone\n",
      "glipizide-metformin\n",
      "troglitazone\n",
      "tolbutamide\n",
      "acetohexamide\n",
      "metformin\n",
      "repaglinide\n",
      "nateglinide\n",
      "chlorpropamide\n",
      "glimepiride\n",
      "glipizide\n",
      "glyburide\n",
      "pioglitazone\n",
      "rosiglitazone\n",
      "acarbose\n",
      "miglitol\n",
      "insulin\n",
      "glyburide-metformin\n",
      "tolazamide\n",
      "metformin-pioglitazone\n",
      "metformin-rosiglitazone\n",
      "glimepiride-pioglitazone\n",
      "glipizide-metformin\n",
      "troglitazone\n",
      "tolbutamide\n",
      "acetohexamide\n"
     ]
    }
   ],
   "source": [
    "train=add_two_features(train)\n",
    "test=add_two_features(test)"
   ]
  },
  {
   "cell_type": "markdown",
   "id": "45ce9309",
   "metadata": {
    "papermill": {
     "duration": 0.033946,
     "end_time": "2023-03-15T11:57:34.713588",
     "exception": false,
     "start_time": "2023-03-15T11:57:34.679642",
     "status": "completed"
    },
    "tags": []
   },
   "source": [
    "### create one ( service_utilization) \n",
    "- feature from number_outpatient,number_emergency and number_inpatient"
   ]
  },
  {
   "cell_type": "code",
   "execution_count": 18,
   "id": "95651434",
   "metadata": {
    "execution": {
     "iopub.execute_input": "2023-03-15T11:57:34.783487Z",
     "iopub.status.busy": "2023-03-15T11:57:34.783018Z",
     "iopub.status.idle": "2023-03-15T11:57:34.792096Z",
     "shell.execute_reply": "2023-03-15T11:57:34.790928Z"
    },
    "papermill": {
     "duration": 0.047465,
     "end_time": "2023-03-15T11:57:34.794821",
     "exception": false,
     "start_time": "2023-03-15T11:57:34.747356",
     "status": "completed"
    },
    "tags": []
   },
   "outputs": [],
   "source": [
    "train['service_utilization'] = train['number_outpatient'] + train['number_emergency'] + train['number_inpatient']\n",
    "test['service_utilization']=test['number_outpatient'] + test['number_emergency'] + test['number_inpatient']"
   ]
  },
  {
   "cell_type": "code",
   "execution_count": 19,
   "id": "d109e358",
   "metadata": {
    "execution": {
     "iopub.execute_input": "2023-03-15T11:57:34.866689Z",
     "iopub.status.busy": "2023-03-15T11:57:34.866247Z",
     "iopub.status.idle": "2023-03-15T11:57:34.875772Z",
     "shell.execute_reply": "2023-03-15T11:57:34.874763Z"
    },
    "papermill": {
     "duration": 0.047778,
     "end_time": "2023-03-15T11:57:34.877932",
     "exception": false,
     "start_time": "2023-03-15T11:57:34.830154",
     "status": "completed"
    },
    "tags": []
   },
   "outputs": [
    {
     "data": {
      "text/plain": [
       "28"
      ]
     },
     "execution_count": 19,
     "metadata": {},
     "output_type": "execute_result"
    }
   ],
   "source": [
    "# these features add to the whole features\n",
    "# max_glu_serum,A1Cresult,metformin,repaglinide, pioglitazone, rosiglitazone,\n",
    "features=['service_utilization', 'race', 'gender', 'age','admission_type_id', 'discharge_disposition_id', 'admission_source_id',\n",
    "          'time_in_hospital','num_lab_procedures', 'num_procedures', 'num_medications',\n",
    "           'payer_code', 'medical_specialty','diag_1','diag_2', 'diag_3','number_diagnoses','insulin', 'change', 'diabetesMed','max_glu_serum','A1Cresult','metformin',\n",
    "          'repaglinide','pioglitazone','rosiglitazone' , 'num_med_changed','num_med_taken']\n",
    "len(features)"
   ]
  },
  {
   "cell_type": "code",
   "execution_count": 20,
   "id": "6a5e9788",
   "metadata": {
    "execution": {
     "iopub.execute_input": "2023-03-15T11:57:34.948549Z",
     "iopub.status.busy": "2023-03-15T11:57:34.947797Z",
     "iopub.status.idle": "2023-03-15T11:57:35.055620Z",
     "shell.execute_reply": "2023-03-15T11:57:35.054170Z"
    },
    "papermill": {
     "duration": 0.146421,
     "end_time": "2023-03-15T11:57:35.058662",
     "exception": false,
     "start_time": "2023-03-15T11:57:34.912241",
     "status": "completed"
    },
    "tags": []
   },
   "outputs": [],
   "source": [
    "train=train[features]\n",
    "test=test[features]"
   ]
  },
  {
   "cell_type": "markdown",
   "id": "09c98ba3",
   "metadata": {
    "papermill": {
     "duration": 0.03494,
     "end_time": "2023-03-15T11:57:35.127773",
     "exception": false,
     "start_time": "2023-03-15T11:57:35.092833",
     "status": "completed"
    },
    "tags": []
   },
   "source": [
    "# Data Exploration"
   ]
  },
  {
   "cell_type": "code",
   "execution_count": 21,
   "id": "b0d1399b",
   "metadata": {
    "execution": {
     "iopub.execute_input": "2023-03-15T11:57:35.199171Z",
     "iopub.status.busy": "2023-03-15T11:57:35.198044Z",
     "iopub.status.idle": "2023-03-15T11:57:35.252292Z",
     "shell.execute_reply": "2023-03-15T11:57:35.251277Z"
    },
    "papermill": {
     "duration": 0.094423,
     "end_time": "2023-03-15T11:57:35.256871",
     "exception": false,
     "start_time": "2023-03-15T11:57:35.162448",
     "status": "completed"
    },
    "tags": []
   },
   "outputs": [
    {
     "name": "stdout",
     "output_type": "stream",
     "text": [
      "<class 'pandas.core.frame.DataFrame'>\n",
      "RangeIndex: 71236 entries, 0 to 71235\n",
      "Data columns (total 28 columns):\n",
      " #   Column                    Non-Null Count  Dtype \n",
      "---  ------                    --------------  ----- \n",
      " 0   service_utilization       71236 non-null  int64 \n",
      " 1   race                      71236 non-null  object\n",
      " 2   gender                    71236 non-null  object\n",
      " 3   age                       71236 non-null  object\n",
      " 4   admission_type_id         71236 non-null  int64 \n",
      " 5   discharge_disposition_id  71236 non-null  int64 \n",
      " 6   admission_source_id       71236 non-null  int64 \n",
      " 7   time_in_hospital          71236 non-null  int64 \n",
      " 8   num_lab_procedures        71236 non-null  int64 \n",
      " 9   num_procedures            71236 non-null  int64 \n",
      " 10  num_medications           71236 non-null  int64 \n",
      " 11  payer_code                71236 non-null  object\n",
      " 12  medical_specialty         71236 non-null  object\n",
      " 13  diag_1                    71236 non-null  object\n",
      " 14  diag_2                    71236 non-null  object\n",
      " 15  diag_3                    71236 non-null  object\n",
      " 16  number_diagnoses          71236 non-null  int64 \n",
      " 17  insulin                   71236 non-null  int64 \n",
      " 18  change                    71236 non-null  object\n",
      " 19  diabetesMed               71236 non-null  object\n",
      " 20  max_glu_serum             71236 non-null  object\n",
      " 21  A1Cresult                 71236 non-null  object\n",
      " 22  metformin                 71236 non-null  int64 \n",
      " 23  repaglinide               71236 non-null  int64 \n",
      " 24  pioglitazone              71236 non-null  int64 \n",
      " 25  rosiglitazone             71236 non-null  int64 \n",
      " 26  num_med_changed           71236 non-null  int64 \n",
      " 27  num_med_taken             71236 non-null  int64 \n",
      "dtypes: int64(16), object(12)\n",
      "memory usage: 15.2+ MB\n"
     ]
    }
   ],
   "source": [
    "train.info()"
   ]
  },
  {
   "cell_type": "code",
   "execution_count": 22,
   "id": "ebc9ba88",
   "metadata": {
    "execution": {
     "iopub.execute_input": "2023-03-15T11:57:35.330028Z",
     "iopub.status.busy": "2023-03-15T11:57:35.328834Z",
     "iopub.status.idle": "2023-03-15T11:57:35.377834Z",
     "shell.execute_reply": "2023-03-15T11:57:35.376667Z"
    },
    "papermill": {
     "duration": 0.088004,
     "end_time": "2023-03-15T11:57:35.380470",
     "exception": false,
     "start_time": "2023-03-15T11:57:35.292466",
     "status": "completed"
    },
    "tags": []
   },
   "outputs": [
    {
     "data": {
      "text/plain": [
       "service_utilization         0\n",
       "race                        0\n",
       "gender                      0\n",
       "age                         0\n",
       "admission_type_id           0\n",
       "discharge_disposition_id    0\n",
       "admission_source_id         0\n",
       "time_in_hospital            0\n",
       "num_lab_procedures          0\n",
       "num_procedures              0\n",
       "num_medications             0\n",
       "payer_code                  0\n",
       "medical_specialty           0\n",
       "diag_1                      0\n",
       "diag_2                      0\n",
       "diag_3                      0\n",
       "number_diagnoses            0\n",
       "insulin                     0\n",
       "change                      0\n",
       "diabetesMed                 0\n",
       "max_glu_serum               0\n",
       "A1Cresult                   0\n",
       "metformin                   0\n",
       "repaglinide                 0\n",
       "pioglitazone                0\n",
       "rosiglitazone               0\n",
       "num_med_changed             0\n",
       "num_med_taken               0\n",
       "dtype: int64"
      ]
     },
     "execution_count": 22,
     "metadata": {},
     "output_type": "execute_result"
    }
   ],
   "source": [
    "train.isna().sum()"
   ]
  },
  {
   "cell_type": "code",
   "execution_count": 23,
   "id": "eafa082d",
   "metadata": {
    "execution": {
     "iopub.execute_input": "2023-03-15T11:57:35.452694Z",
     "iopub.status.busy": "2023-03-15T11:57:35.451958Z",
     "iopub.status.idle": "2023-03-15T11:57:35.458108Z",
     "shell.execute_reply": "2023-03-15T11:57:35.457279Z"
    },
    "papermill": {
     "duration": 0.045399,
     "end_time": "2023-03-15T11:57:35.460417",
     "exception": false,
     "start_time": "2023-03-15T11:57:35.415018",
     "status": "completed"
    },
    "tags": []
   },
   "outputs": [],
   "source": [
    "def cout_plot(train):\n",
    "    for col in features:\n",
    "        plt.figure(figsize=(10,7))\n",
    "        sns.countplot(x=col,data=train)\n",
    "        plt.show() \n",
    "        print('************************************************************************************************************')"
   ]
  },
  {
   "cell_type": "code",
   "execution_count": 24,
   "id": "67f73a96",
   "metadata": {
    "execution": {
     "iopub.execute_input": "2023-03-15T11:57:35.533069Z",
     "iopub.status.busy": "2023-03-15T11:57:35.531788Z",
     "iopub.status.idle": "2023-03-15T11:58:05.757144Z",
     "shell.execute_reply": "2023-03-15T11:58:05.756361Z"
    },
    "papermill": {
     "duration": 30.264645,
     "end_time": "2023-03-15T11:58:05.759314",
     "exception": false,
     "start_time": "2023-03-15T11:57:35.494669",
     "status": "completed"
    },
    "tags": []
   },
   "outputs": [
    {
     "data": {
      "image/png": "[encoded data removed]",
      "text/plain": [
       "<Figure size 720x504 with 1 Axes>"
      ]
     },
     "metadata": {
      "needs_background": "light"
     },
     "output_type": "display_data"
    },
    {
     "name": "stdout",
     "output_type": "stream",
     "text": [
      "************************************************************************************************************\n"
     ]
    },
    {
     "data": {
      "image/png": "[encoded data removed]",
      "text/plain": [
       "<Figure size 720x504 with 1 Axes>"
      ]
     },
     "metadata": {
      "needs_background": "light"
     },
     "output_type": "display_data"
    },
    {
     "name": "stdout",
     "output_type": "stream",
     "text": [
      "************************************************************************************************************\n"
     ]
    },
    {
     "data": {
      "image/png": "[encoded data removed]",
      "text/plain": [
       "<Figure size 720x504 with 1 Axes>"
      ]
     },
     "metadata": {
      "needs_background": "light"
     },
     "output_type": "display_data"
    },
    {
     "name": "stdout",
     "output_type": "stream",
     "text": [
      "************************************************************************************************************\n"
     ]
    },
    {
     "data": {
      "image/png": "[encoded data removed]",
      "text/plain": [
       "<Figure size 720x504 with 1 Axes>"
      ]
     },
     "metadata": {
      "needs_background": "light"
     },
     "output_type": "display_data"
    },
    {
     "name": "stdout",
     "output_type": "stream",
     "text": [
      "************************************************************************************************************\n"
     ]
    },
    {
     "data": {
      "image/png": "[encoded data removed]",
      "text/plain": [
       "<Figure size 720x504 with 1 Axes>"
      ]
     },
     "metadata": {
      "needs_background": "light"
     },
     "output_type": "display_data"
    },
    {
     "name": "stdout",
     "output_type": "stream",
     "text": [
      "************************************************************************************************************\n"
     ]
    },
    {
     "data": {
      "image/png": "[encoded data removed]",
      "text/plain": [
       "<Figure size 720x504 with 1 Axes>"
      ]
     },
     "metadata": {
      "needs_background": "light"
     },
     "output_type": "display_data"
    },
    {
     "name": "stdout",
     "output_type": "stream",
     "text": [
      "************************************************************************************************************\n"
     ]
    },
    {
     "data": {
      "image/png": "[encoded data removed]",
      "text/plain": [
       "<Figure size 720x504 with 1 Axes>"
      ]
     },
     "metadata": {
      "needs_background": "light"
     },
     "output_type": "display_data"
    },
    {
     "name": "stdout",
     "output_type": "stream",
     "text": [
      "************************************************************************************************************\n"
     ]
    },
    {
     "data": {
      "image/png": "[encoded data removed]",
      "text/plain": [
       "<Figure size 720x504 with 1 Axes>"
      ]
     },
     "metadata": {
      "needs_background": "light"
     },
     "output_type": "display_data"
    },
    {
     "name": "stdout",
     "output_type": "stream",
     "text": [
      "************************************************************************************************************\n"
     ]
    },
    {
     "data": {
      "image/png": "[encoded data removed]",
      "text/plain": [
       "<Figure size 720x504 with 1 Axes>"
      ]
     },
     "metadata": {
      "needs_background": "light"
     },
     "output_type": "display_data"
    },
    {
     "name": "stdout",
     "output_type": "stream",
     "text": [
      "************************************************************************************************************\n"
     ]
    },
    {
     "data": {
      "image/png": "[encoded data removed]",
      "text/plain": [
       "<Figure size 720x504 with 1 Axes>"
      ]
     },
     "metadata": {
      "needs_background": "light"
     },
     "output_type": "display_data"
    },
    {
     "name": "stdout",
     "output_type": "stream",
     "text": [
      "************************************************************************************************************\n"
     ]
    },
    {
     "data": {
      "image/png": "[encoded data removed]",
      "text/plain": [
       "<Figure size 720x504 with 1 Axes>"
      ]
     },
     "metadata": {
      "needs_background": "light"
     },
     "output_type": "display_data"
    },
    {
     "name": "stdout",
     "output_type": "stream",
     "text": [
      "************************************************************************************************************\n"
     ]
    },
    {
     "data": {
      "image/png": "[encoded data removed]",
      "text/plain": [
       "<Figure size 720x504 with 1 Axes>"
      ]
     },
     "metadata": {
      "needs_background": "light"
     },
     "output_type": "display_data"
    },
    {
     "name": "stdout",
     "output_type": "stream",
     "text": [
      "************************************************************************************************************\n"
     ]
    },
    {
     "data": {
      "image/png": "[encoded data removed]",
      "text/plain": [
       "<Figure size 720x504 with 1 Axes>"
      ]
     },
     "metadata": {
      "needs_background": "light"
     },
     "output_type": "display_data"
    },
    {
     "name": "stdout",
     "output_type": "stream",
     "text": [
      "************************************************************************************************************\n"
     ]
    },
    {
     "data": {
      "image/png": "[encoded data removed]",
      "text/plain": [
       "<Figure size 720x504 with 1 Axes>"
      ]
     },
     "metadata": {
      "needs_background": "light"
     },
     "output_type": "display_data"
    },
    {
     "name": "stdout",
     "output_type": "stream",
     "text": [
      "************************************************************************************************************\n"
     ]
    },
    {
     "data": {
      "image/png": "[encoded data removed]",
      "text/plain": [
       "<Figure size 720x504 with 1 Axes>"
      ]
     },
     "metadata": {
      "needs_background": "light"
     },
     "output_type": "display_data"
    },
    {
     "name": "stdout",
     "output_type": "stream",
     "text": [
      "************************************************************************************************************\n"
     ]
    },
    {
     "data": {
      "image/png": "[encoded data removed]",
      "text/plain": [
       "<Figure size 720x504 with 1 Axes>"
      ]
     },
     "metadata": {
      "needs_background": "light"
     },
     "output_type": "display_data"
    },
    {
     "name": "stdout",
     "output_type": "stream",
     "text": [
      "************************************************************************************************************\n"
     ]
    },
    {
     "data": {
      "image/png": "[encoded data removed]",
      "text/plain": [
       "<Figure size 720x504 with 1 Axes>"
      ]
     },
     "metadata": {
      "needs_background": "light"
     },
     "output_type": "display_data"
    },
    {
     "name": "stdout",
     "output_type": "stream",
     "text": [
      "************************************************************************************************************\n"
     ]
    },
    {
     "data": {
      "image/png": "[encoded data removed]",
      "text/plain": [
       "<Figure size 720x504 with 1 Axes>"
      ]
     },
     "metadata": {
      "needs_background": "light"
     },
     "output_type": "display_data"
    },
    {
     "name": "stdout",
     "output_type": "stream",
     "text": [
      "************************************************************************************************************\n"
     ]
    },
    {
     "data": {
      "image/png": "[encoded data removed]",
      "text/plain": [
       "<Figure size 720x504 with 1 Axes>"
      ]
     },
     "metadata": {
      "needs_background": "light"
     },
     "output_type": "display_data"
    },
    {
     "name": "stdout",
     "output_type": "stream",
     "text": [
      "************************************************************************************************************\n"
     ]
    },
    {
     "data": {
      "image/png": "[encoded data removed]",
      "text/plain": [
       "<Figure size 720x504 with 1 Axes>"
      ]
     },
     "metadata": {
      "needs_background": "light"
     },
     "output_type": "display_data"
    },
    {
     "name": "stdout",
     "output_type": "stream",
     "text": [
      "************************************************************************************************************\n"
     ]
    },
    {
     "data": {
      "image/png": "[encoded data removed]",
      "text/plain": [
       "<Figure size 720x504 with 1 Axes>"
      ]
     },
     "metadata": {
      "needs_background": "light"
     },
     "output_type": "display_data"
    },
    {
     "name": "stdout",
     "output_type": "stream",
     "text": [
      "************************************************************************************************************\n"
     ]
    },
    {
     "data": {
      "image/png": "[encoded data removed]",
      "text/plain": [
       "<Figure size 720x504 with 1 Axes>"
      ]
     },
     "metadata": {
      "needs_background": "light"
     },
     "output_type": "display_data"
    },
    {
     "name": "stdout",
     "output_type": "stream",
     "text": [
      "************************************************************************************************************\n"
     ]
    },
    {
     "data": {
      "image/png": "[encoded data removed]",
      "text/plain": [
       "<Figure size 720x504 with 1 Axes>"
      ]
     },
     "metadata": {
      "needs_background": "light"
     },
     "output_type": "display_data"
    },
    {
     "name": "stdout",
     "output_type": "stream",
     "text": [
      "************************************************************************************************************\n"
     ]
    },
    {
     "data": {
      "image/png": "[encoded data removed]",
      "text/plain": [
       "<Figure size 720x504 with 1 Axes>"
      ]
     },
     "metadata": {
      "needs_background": "light"
     },
     "output_type": "display_data"
    },
    {
     "name": "stdout",
     "output_type": "stream",
     "text": [
      "************************************************************************************************************\n"
     ]
    },
    {
     "data": {
      "image/png": "[encoded data removed]",
      "text/plain": [
       "<Figure size 720x504 with 1 Axes>"
      ]
     },
     "metadata": {
      "needs_background": "light"
     },
     "output_type": "display_data"
    },
    {
     "name": "stdout",
     "output_type": "stream",
     "text": [
      "************************************************************************************************************\n"
     ]
    },
    {
     "data": {
      "image/png": "[encoded data removed]",
      "text/plain": [
       "<Figure size 720x504 with 1 Axes>"
      ]
     },
     "metadata": {
      "needs_background": "light"
     },
     "output_type": "display_data"
    },
    {
     "name": "stdout",
     "output_type": "stream",
     "text": [
      "************************************************************************************************************\n"
     ]
    },
    {
     "data": {
      "image/png": "[encoded data removed]",
      "text/plain": [
       "<Figure size 720x504 with 1 Axes>"
      ]
     },
     "metadata": {
      "needs_background": "light"
     },
     "output_type": "display_data"
    },
    {
     "name": "stdout",
     "output_type": "stream",
     "text": [
      "************************************************************************************************************\n"
     ]
    },
    {
     "data": {
      "image/png": "[encoded data removed]",
      "text/plain": [
       "<Figure size 720x504 with 1 Axes>"
      ]
     },
     "metadata": {
      "needs_background": "light"
     },
     "output_type": "display_data"
    },
    {
     "name": "stdout",
     "output_type": "stream",
     "text": [
      "************************************************************************************************************\n"
     ]
    }
   ],
   "source": [
    "cout_plot(train)"
   ]
  },
  {
   "cell_type": "code",
   "execution_count": 25,
   "id": "6d2ea3ca",
   "metadata": {
    "execution": {
     "iopub.execute_input": "2023-03-15T11:58:05.856578Z",
     "iopub.status.busy": "2023-03-15T11:58:05.855778Z",
     "iopub.status.idle": "2023-03-15T11:58:05.948552Z",
     "shell.execute_reply": "2023-03-15T11:58:05.947289Z"
    },
    "papermill": {
     "duration": 0.146278,
     "end_time": "2023-03-15T11:58:05.952411",
     "exception": false,
     "start_time": "2023-03-15T11:58:05.806133",
     "status": "completed"
    },
    "tags": []
   },
   "outputs": [
    {
     "name": "stdout",
     "output_type": "stream",
     "text": [
      "0     39072\n",
      "1     13900\n",
      "2      7134\n",
      "3      4143\n",
      "4      2528\n",
      "5      1429\n",
      "6       896\n",
      "7       614\n",
      "8       375\n",
      "9       298\n",
      "10      185\n",
      "11      160\n",
      "12       87\n",
      "15       76\n",
      "13       69\n",
      "14       60\n",
      "16       46\n",
      "17       37\n",
      "18       23\n",
      "19       20\n",
      "20       14\n",
      "22       13\n",
      "21       12\n",
      "26        5\n",
      "27        5\n",
      "23        4\n",
      "24        4\n",
      "25        3\n",
      "35        3\n",
      "36        3\n",
      "37        2\n",
      "28        2\n",
      "30        2\n",
      "29        2\n",
      "32        1\n",
      "61        1\n",
      "34        1\n",
      "42        1\n",
      "33        1\n",
      "80        1\n",
      "31        1\n",
      "40        1\n",
      "49        1\n",
      "41        1\n",
      "Name: service_utilization, dtype: int64\n",
      "*********************************************************\n",
      "Caucasian          53269\n",
      "AfricanAmerican    13445\n",
      "?                   1592\n",
      "Hispanic            1427\n",
      "Other               1054\n",
      "Asian                449\n",
      "Name: race, dtype: int64\n",
      "*********************************************************\n",
      "Female             38298\n",
      "Male               32937\n",
      "Unknown/Invalid        1\n",
      "Name: gender, dtype: int64\n",
      "*********************************************************\n",
      "[70-80)     18277\n",
      "[60-70)     15662\n",
      "[50-60)     12125\n",
      "[80-90)     12048\n",
      "[40-50)      6763\n",
      "[30-40)      2659\n",
      "[90-100)     1941\n",
      "[20-30)      1165\n",
      "[10-20)       479\n",
      "[0-10)        117\n",
      "Name: age, dtype: int64\n",
      "*********************************************************\n",
      "1    37822\n",
      "3    13163\n",
      "2    12907\n",
      "6     3690\n",
      "5     3411\n",
      "8      224\n",
      "7       14\n",
      "4        5\n",
      "Name: admission_type_id, dtype: int64\n",
      "*********************************************************\n",
      "1     42164\n",
      "3      9820\n",
      "6      9025\n",
      "18     2600\n",
      "2      1466\n",
      "22     1405\n",
      "11     1147\n",
      "5       829\n",
      "25      667\n",
      "4       566\n",
      "7       427\n",
      "13      274\n",
      "23      274\n",
      "14      263\n",
      "28       99\n",
      "8        80\n",
      "15       44\n",
      "24       33\n",
      "9        17\n",
      "17       12\n",
      "16        7\n",
      "10        6\n",
      "27        4\n",
      "19        4\n",
      "12        2\n",
      "20        1\n",
      "Name: discharge_disposition_id, dtype: int64\n",
      "*********************************************************\n",
      "7     40195\n",
      "1     20683\n",
      "17     4798\n",
      "4      2198\n",
      "6      1590\n",
      "2       790\n",
      "5       603\n",
      "3       135\n",
      "20      118\n",
      "9        94\n",
      "8        13\n",
      "22        8\n",
      "10        7\n",
      "11        2\n",
      "14        1\n",
      "25        1\n",
      "Name: admission_source_id, dtype: int64\n",
      "*********************************************************\n",
      "3     12330\n",
      "2     12117\n",
      "1      9926\n",
      "4      9742\n",
      "5      6980\n",
      "6      5286\n",
      "7      4145\n",
      "8      3078\n",
      "9      2108\n",
      "10     1652\n",
      "11     1310\n",
      "12     1019\n",
      "13      819\n",
      "14      724\n",
      "Name: time_in_hospital, dtype: int64\n",
      "*********************************************************\n",
      "1      2203\n",
      "43     1973\n",
      "44     1716\n",
      "45     1624\n",
      "46     1544\n",
      "       ... \n",
      "111       2\n",
      "108       2\n",
      "114       2\n",
      "104       2\n",
      "132       1\n",
      "Name: num_lab_procedures, Length: 112, dtype: int64\n",
      "*********************************************************\n",
      "0    32676\n",
      "1    14588\n",
      "2     8901\n",
      "3     6537\n",
      "6     3473\n",
      "4     2879\n",
      "5     2182\n",
      "Name: num_procedures, dtype: int64\n",
      "*********************************************************\n",
      "12    4233\n",
      "13    4232\n",
      "15    4090\n",
      "11    4032\n",
      "14    3962\n",
      "      ... \n",
      "79       1\n",
      "66       1\n",
      "74       1\n",
      "75       1\n",
      "81       1\n",
      "Name: num_medications, Length: 75, dtype: int64\n",
      "*********************************************************\n",
      "?     28218\n",
      "MC    22647\n",
      "HM     4380\n",
      "SP     3522\n",
      "BC     3302\n",
      "MD     2469\n",
      "CP     1765\n",
      "UN     1729\n",
      "CM     1328\n",
      "OG      720\n",
      "PO      410\n",
      "DM      388\n",
      "CH      101\n",
      "WC       97\n",
      "OT       63\n",
      "MP       54\n",
      "SI       42\n",
      "FR        1\n",
      "Name: payer_code, dtype: int64\n",
      "*********************************************************\n",
      "?                                   34987\n",
      "InternalMedicine                    10229\n",
      "Family/GeneralPractice               5254\n",
      "Emergency/Trauma                     5252\n",
      "Cardiology                           3786\n",
      "                                    ...  \n",
      "Speech                                  1\n",
      "Surgery-PlasticwithinHeadandNeck        1\n",
      "Dermatology                             1\n",
      "Neurophysiology                         1\n",
      "Pediatrics-InfectiousDiseases           1\n",
      "Name: medical_specialty, Length: 71, dtype: int64\n",
      "*********************************************************\n",
      "428    4825\n",
      "414    4593\n",
      "786    2820\n",
      "410    2505\n",
      "486    2482\n",
      "       ... \n",
      "691       1\n",
      "895       1\n",
      "373       1\n",
      "114       1\n",
      "245       1\n",
      "Name: diag_1, Length: 684, dtype: int64\n",
      "*********************************************************\n",
      "428     4704\n",
      "276     4695\n",
      "250     4211\n",
      "427     3500\n",
      "401     2643\n",
      "        ... \n",
      "869        1\n",
      "E929       1\n",
      "388        1\n",
      "366        1\n",
      "353        1\n",
      "Name: diag_2, Length: 701, dtype: int64\n",
      "*********************************************************\n",
      "250    8158\n",
      "401    5826\n",
      "276    3608\n",
      "428    3219\n",
      "427    2776\n",
      "       ... \n",
      "463       1\n",
      "542       1\n",
      "V25       1\n",
      "893       1\n",
      "811       1\n",
      "Name: diag_3, Length: 750, dtype: int64\n",
      "*********************************************************\n",
      "9     34527\n",
      "5      7983\n",
      "8      7452\n",
      "7      7314\n",
      "6      7150\n",
      "4      3905\n",
      "3      1954\n",
      "2       732\n",
      "1       143\n",
      "16       29\n",
      "13       11\n",
      "10       11\n",
      "11        8\n",
      "15        6\n",
      "12        6\n",
      "14        5\n",
      "Name: number_diagnoses, dtype: int64\n",
      "*********************************************************\n",
      "1    38113\n",
      "0    33123\n",
      "Name: insulin, dtype: int64\n",
      "*********************************************************\n",
      "No    38359\n",
      "Ch    32877\n",
      "Name: change, dtype: int64\n",
      "*********************************************************\n",
      "Yes    54994\n",
      "No     16242\n",
      "Name: diabetesMed, dtype: int64\n",
      "*********************************************************\n",
      "None    67452\n",
      "Norm     1852\n",
      ">200     1041\n",
      ">300      891\n",
      "Name: max_glu_serum, dtype: int64\n",
      "*********************************************************\n",
      "None    59392\n",
      ">8       5749\n",
      "Norm     3453\n",
      ">7       2642\n",
      "Name: A1Cresult, dtype: int64\n",
      "*********************************************************\n",
      "0    57213\n",
      "1    14023\n",
      "Name: metformin, dtype: int64\n",
      "*********************************************************\n",
      "0    70182\n",
      "1     1054\n",
      "Name: repaglinide, dtype: int64\n",
      "*********************************************************\n",
      "0    66088\n",
      "1     5148\n",
      "Name: pioglitazone, dtype: int64\n",
      "*********************************************************\n",
      "0    66801\n",
      "1     4435\n",
      "Name: rosiglitazone, dtype: int64\n",
      "*********************************************************\n",
      "0    51880\n",
      "1    18353\n",
      "2      921\n",
      "3       77\n",
      "4        5\n",
      "Name: num_med_changed, dtype: int64\n",
      "*********************************************************\n",
      "1    33217\n",
      "0    16242\n",
      "2    15369\n",
      "3     5418\n",
      "4      943\n",
      "5       45\n",
      "6        2\n",
      "Name: num_med_taken, dtype: int64\n",
      "*********************************************************\n"
     ]
    }
   ],
   "source": [
    "for f in features:\n",
    "    print(train[f].value_counts())\n",
    "    print('*********************************************************')"
   ]
  },
  {
   "cell_type": "code",
   "execution_count": 26,
   "id": "822156a2",
   "metadata": {
    "execution": {
     "iopub.execute_input": "2023-03-15T11:58:06.050242Z",
     "iopub.status.busy": "2023-03-15T11:58:06.049746Z",
     "iopub.status.idle": "2023-03-15T11:58:07.504199Z",
     "shell.execute_reply": "2023-03-15T11:58:07.502427Z"
    },
    "papermill": {
     "duration": 1.50861,
     "end_time": "2023-03-15T11:58:07.508616",
     "exception": false,
     "start_time": "2023-03-15T11:58:06.000006",
     "status": "completed"
    },
    "tags": []
   },
   "outputs": [
    {
     "data": {
      "image/png": "[encoded data removed]",
      "text/plain": [
       "<Figure size 864x576 with 2 Axes>"
      ]
     },
     "metadata": {
      "needs_background": "light"
     },
     "output_type": "display_data"
    }
   ],
   "source": [
    "plt.figure(figsize=(12,8))\n",
    "sns.heatmap(train.corr(),annot=True)\n",
    "plt.show()"
   ]
  },
  {
   "cell_type": "markdown",
   "id": "93a0e83e",
   "metadata": {
    "papermill": {
     "duration": 0.049393,
     "end_time": "2023-03-15T11:58:07.608473",
     "exception": false,
     "start_time": "2023-03-15T11:58:07.559080",
     "status": "completed"
    },
    "tags": []
   },
   "source": [
    "# Data preprocessing😒"
   ]
  },
  {
   "cell_type": "code",
   "execution_count": 27,
   "id": "8f1f1103",
   "metadata": {
    "execution": {
     "iopub.execute_input": "2023-03-15T11:58:07.710673Z",
     "iopub.status.busy": "2023-03-15T11:58:07.709796Z",
     "iopub.status.idle": "2023-03-15T11:58:07.902091Z",
     "shell.execute_reply": "2023-03-15T11:58:07.900713Z"
    },
    "papermill": {
     "duration": 0.247286,
     "end_time": "2023-03-15T11:58:07.905423",
     "exception": false,
     "start_time": "2023-03-15T11:58:07.658137",
     "status": "completed"
    },
    "tags": []
   },
   "outputs": [],
   "source": [
    "from sklearn.neighbors import KNeighborsClassifier\n",
    "from sklearn.preprocessing import OneHotEncoder"
   ]
  },
  {
   "cell_type": "code",
   "execution_count": 28,
   "id": "4dfef7b2",
   "metadata": {
    "execution": {
     "iopub.execute_input": "2023-03-15T11:58:08.011307Z",
     "iopub.status.busy": "2023-03-15T11:58:08.010842Z",
     "iopub.status.idle": "2023-03-15T11:58:08.018118Z",
     "shell.execute_reply": "2023-03-15T11:58:08.016882Z"
    },
    "papermill": {
     "duration": 0.063699,
     "end_time": "2023-03-15T11:58:08.020767",
     "exception": false,
     "start_time": "2023-03-15T11:58:07.957068",
     "status": "completed"
    },
    "tags": []
   },
   "outputs": [],
   "source": [
    "def OneHot(data):\n",
    "    #data.fillna('missing')\n",
    "    enc = OneHotEncoder()\n",
    "    X=enc.fit_transform(data.values.reshape(-1,1)).toarray()\n",
    "    dfOneHot = pd.DataFrame(X, columns = [data.name+str(int(i)) for i in range(data.nunique())]) \n",
    "    return dfOneHot"
   ]
  },
  {
   "cell_type": "code",
   "execution_count": 29,
   "id": "8ac7b56f",
   "metadata": {
    "execution": {
     "iopub.execute_input": "2023-03-15T11:58:08.124418Z",
     "iopub.status.busy": "2023-03-15T11:58:08.123947Z",
     "iopub.status.idle": "2023-03-15T11:58:08.172020Z",
     "shell.execute_reply": "2023-03-15T11:58:08.170699Z"
    },
    "papermill": {
     "duration": 0.103771,
     "end_time": "2023-03-15T11:58:08.175138",
     "exception": false,
     "start_time": "2023-03-15T11:58:08.071367",
     "status": "completed"
    },
    "tags": []
   },
   "outputs": [],
   "source": [
    "train=train.replace('?',np.NaN)\n",
    "test=test.replace('?',np.NaN)"
   ]
  },
  {
   "cell_type": "code",
   "execution_count": 30,
   "id": "2ea9f64e",
   "metadata": {
    "execution": {
     "iopub.execute_input": "2023-03-15T11:58:08.278952Z",
     "iopub.status.busy": "2023-03-15T11:58:08.278497Z",
     "iopub.status.idle": "2023-03-15T11:58:08.330299Z",
     "shell.execute_reply": "2023-03-15T11:58:08.328997Z"
    },
    "papermill": {
     "duration": 0.107079,
     "end_time": "2023-03-15T11:58:08.333242",
     "exception": false,
     "start_time": "2023-03-15T11:58:08.226163",
     "status": "completed"
    },
    "tags": []
   },
   "outputs": [
    {
     "data": {
      "text/plain": [
       "service_utilization             0\n",
       "race                         1592\n",
       "gender                          0\n",
       "age                             0\n",
       "admission_type_id               0\n",
       "discharge_disposition_id        0\n",
       "admission_source_id             0\n",
       "time_in_hospital                0\n",
       "num_lab_procedures              0\n",
       "num_procedures                  0\n",
       "num_medications                 0\n",
       "payer_code                  28218\n",
       "medical_specialty           34987\n",
       "diag_1                         12\n",
       "diag_2                        245\n",
       "diag_3                       1009\n",
       "number_diagnoses                0\n",
       "insulin                         0\n",
       "change                          0\n",
       "diabetesMed                     0\n",
       "max_glu_serum                   0\n",
       "A1Cresult                       0\n",
       "metformin                       0\n",
       "repaglinide                     0\n",
       "pioglitazone                    0\n",
       "rosiglitazone                   0\n",
       "num_med_changed                 0\n",
       "num_med_taken                   0\n",
       "dtype: int64"
      ]
     },
     "execution_count": 30,
     "metadata": {},
     "output_type": "execute_result"
    }
   ],
   "source": [
    "train.isna().sum()"
   ]
  },
  {
   "cell_type": "code",
   "execution_count": 31,
   "id": "08d95672",
   "metadata": {
    "execution": {
     "iopub.execute_input": "2023-03-15T11:58:08.440342Z",
     "iopub.status.busy": "2023-03-15T11:58:08.438936Z",
     "iopub.status.idle": "2023-03-15T11:58:08.469563Z",
     "shell.execute_reply": "2023-03-15T11:58:08.468370Z"
    },
    "papermill": {
     "duration": 0.087599,
     "end_time": "2023-03-15T11:58:08.472235",
     "exception": false,
     "start_time": "2023-03-15T11:58:08.384636",
     "status": "completed"
    },
    "tags": []
   },
   "outputs": [
    {
     "data": {
      "text/plain": [
       "service_utilization             0\n",
       "race                          681\n",
       "gender                          0\n",
       "age                             0\n",
       "admission_type_id               0\n",
       "discharge_disposition_id        0\n",
       "admission_source_id             0\n",
       "time_in_hospital                0\n",
       "num_lab_procedures              0\n",
       "num_procedures                  0\n",
       "num_medications                 0\n",
       "payer_code                  12038\n",
       "medical_specialty           14962\n",
       "diag_1                          9\n",
       "diag_2                        113\n",
       "diag_3                        414\n",
       "number_diagnoses                0\n",
       "insulin                         0\n",
       "change                          0\n",
       "diabetesMed                     0\n",
       "max_glu_serum                   0\n",
       "A1Cresult                       0\n",
       "metformin                       0\n",
       "repaglinide                     0\n",
       "pioglitazone                    0\n",
       "rosiglitazone                   0\n",
       "num_med_changed                 0\n",
       "num_med_taken                   0\n",
       "dtype: int64"
      ]
     },
     "execution_count": 31,
     "metadata": {},
     "output_type": "execute_result"
    }
   ],
   "source": [
    "test.isna().sum()"
   ]
  },
  {
   "cell_type": "markdown",
   "id": "411f3656",
   "metadata": {
    "papermill": {
     "duration": 0.052137,
     "end_time": "2023-03-15T11:58:08.575607",
     "exception": false,
     "start_time": "2023-03-15T11:58:08.523470",
     "status": "completed"
    },
    "tags": []
   },
   "source": [
    "### service_utilization"
   ]
  },
  {
   "cell_type": "code",
   "execution_count": 32,
   "id": "f0372949",
   "metadata": {
    "execution": {
     "iopub.execute_input": "2023-03-15T11:58:08.679279Z",
     "iopub.status.busy": "2023-03-15T11:58:08.678804Z",
     "iopub.status.idle": "2023-03-15T11:58:08.687270Z",
     "shell.execute_reply": "2023-03-15T11:58:08.686214Z"
    },
    "papermill": {
     "duration": 0.062996,
     "end_time": "2023-03-15T11:58:08.689524",
     "exception": false,
     "start_time": "2023-03-15T11:58:08.626528",
     "status": "completed"
    },
    "tags": []
   },
   "outputs": [
    {
     "data": {
      "text/plain": [
       "array([ 0,  4,  1,  3,  2,  5,  6, 25, 10,  7,  8,  9, 13, 17, 11, 19, 15,\n",
       "       16, 12, 21, 14, 27, 30, 31, 80, 61, 26, 18, 23, 20, 36, 29, 32, 35,\n",
       "       24, 22, 34, 42, 33, 37, 28, 40, 49, 41])"
      ]
     },
     "execution_count": 32,
     "metadata": {},
     "output_type": "execute_result"
    }
   ],
   "source": [
    "train['service_utilization'].unique()"
   ]
  },
  {
   "cell_type": "code",
   "execution_count": 33,
   "id": "f08584dd",
   "metadata": {
    "execution": {
     "iopub.execute_input": "2023-03-15T11:58:08.794445Z",
     "iopub.status.busy": "2023-03-15T11:58:08.793983Z",
     "iopub.status.idle": "2023-03-15T11:58:08.802435Z",
     "shell.execute_reply": "2023-03-15T11:58:08.801347Z"
    },
    "papermill": {
     "duration": 0.063411,
     "end_time": "2023-03-15T11:58:08.804841",
     "exception": false,
     "start_time": "2023-03-15T11:58:08.741430",
     "status": "completed"
    },
    "tags": []
   },
   "outputs": [
    {
     "data": {
      "text/plain": [
       "array([ 0,  4,  1,  3,  2,  7,  9, 13,  6, 17,  8,  5, 19, 11, 10, 12, 22,\n",
       "       16, 18, 14, 48, 36, 29, 27, 26, 15, 68, 42, 20, 24, 38, 35, 30, 25,\n",
       "       33, 21, 31, 32])"
      ]
     },
     "execution_count": 33,
     "metadata": {},
     "output_type": "execute_result"
    }
   ],
   "source": [
    "test['service_utilization'].unique()"
   ]
  },
  {
   "cell_type": "code",
   "execution_count": 34,
   "id": "6830366f",
   "metadata": {
    "execution": {
     "iopub.execute_input": "2023-03-15T11:58:08.910536Z",
     "iopub.status.busy": "2023-03-15T11:58:08.910052Z",
     "iopub.status.idle": "2023-03-15T11:58:08.915095Z",
     "shell.execute_reply": "2023-03-15T11:58:08.914338Z"
    },
    "papermill": {
     "duration": 0.061356,
     "end_time": "2023-03-15T11:58:08.917412",
     "exception": false,
     "start_time": "2023-03-15T11:58:08.856056",
     "status": "completed"
    },
    "tags": []
   },
   "outputs": [],
   "source": [
    "# # One-Hot encoding to 'service_utilization' feature \n",
    "\n",
    "# one_hot_train=OneHot(train['service_utilization'])\n",
    "# # concatenate the one-hot encoded dataframe with the original dataframe\n",
    "# train = pd.concat([train, one_hot_train], axis=1)\n",
    "# train= train.drop(['service_utilization'], axis=1) \n",
    "\n",
    "\n",
    "# one_hot_test=OneHot(test['service_utilization'])\n",
    "# # concatenate the one-hot encoded dataframe with the original dataframe\n",
    "# test = pd.concat([test, one_hot_test], axis=1)\n",
    "# test= test.drop(['service_utilization'], axis=1) "
   ]
  },
  {
   "cell_type": "markdown",
   "id": "4345788f",
   "metadata": {
    "papermill": {
     "duration": 0.050852,
     "end_time": "2023-03-15T11:58:09.018587",
     "exception": false,
     "start_time": "2023-03-15T11:58:08.967735",
     "status": "completed"
    },
    "tags": []
   },
   "source": [
    "### gender"
   ]
  },
  {
   "cell_type": "code",
   "execution_count": 35,
   "id": "a4a897e2",
   "metadata": {
    "execution": {
     "iopub.execute_input": "2023-03-15T11:58:09.122156Z",
     "iopub.status.busy": "2023-03-15T11:58:09.121708Z",
     "iopub.status.idle": "2023-03-15T11:58:09.135990Z",
     "shell.execute_reply": "2023-03-15T11:58:09.134734Z"
    },
    "papermill": {
     "duration": 0.068672,
     "end_time": "2023-03-15T11:58:09.138323",
     "exception": false,
     "start_time": "2023-03-15T11:58:09.069651",
     "status": "completed"
    },
    "tags": []
   },
   "outputs": [
    {
     "data": {
      "text/plain": [
       "Female             38298\n",
       "Male               32937\n",
       "Unknown/Invalid        1\n",
       "Name: gender, dtype: int64"
      ]
     },
     "execution_count": 35,
     "metadata": {},
     "output_type": "execute_result"
    }
   ],
   "source": [
    "train['gender'].value_counts()"
   ]
  },
  {
   "cell_type": "code",
   "execution_count": 36,
   "id": "50d1ef21",
   "metadata": {
    "execution": {
     "iopub.execute_input": "2023-03-15T11:58:09.245411Z",
     "iopub.status.busy": "2023-03-15T11:58:09.244174Z",
     "iopub.status.idle": "2023-03-15T11:58:09.256813Z",
     "shell.execute_reply": "2023-03-15T11:58:09.255653Z"
    },
    "papermill": {
     "duration": 0.069921,
     "end_time": "2023-03-15T11:58:09.259703",
     "exception": false,
     "start_time": "2023-03-15T11:58:09.189782",
     "status": "completed"
    },
    "tags": []
   },
   "outputs": [
    {
     "data": {
      "text/plain": [
       "Female             16410\n",
       "Male               14118\n",
       "Unknown/Invalid        2\n",
       "Name: gender, dtype: int64"
      ]
     },
     "execution_count": 36,
     "metadata": {},
     "output_type": "execute_result"
    }
   ],
   "source": [
    "test['gender'].value_counts()"
   ]
  },
  {
   "cell_type": "code",
   "execution_count": 37,
   "id": "0b08f54b",
   "metadata": {
    "execution": {
     "iopub.execute_input": "2023-03-15T11:58:09.365660Z",
     "iopub.status.busy": "2023-03-15T11:58:09.364913Z",
     "iopub.status.idle": "2023-03-15T11:58:09.414317Z",
     "shell.execute_reply": "2023-03-15T11:58:09.413129Z"
    },
    "papermill": {
     "duration": 0.10589,
     "end_time": "2023-03-15T11:58:09.417139",
     "exception": false,
     "start_time": "2023-03-15T11:58:09.311249",
     "status": "completed"
    },
    "tags": []
   },
   "outputs": [],
   "source": [
    "# Replace 'Female' with 1 and 'Male' with 0\n",
    "train['gender'] = train['gender'].apply(lambda x : 0 if x == 'Male' else 1)\n",
    "\n",
    "test['gender'] = test['gender'].apply(lambda x : 0 if x == 'Male' else 1)"
   ]
  },
  {
   "cell_type": "markdown",
   "id": "846a7abe",
   "metadata": {
    "papermill": {
     "duration": 0.053314,
     "end_time": "2023-03-15T11:58:09.522431",
     "exception": false,
     "start_time": "2023-03-15T11:58:09.469117",
     "status": "completed"
    },
    "tags": []
   },
   "source": [
    "### age"
   ]
  },
  {
   "cell_type": "code",
   "execution_count": 38,
   "id": "4ebec2e8",
   "metadata": {
    "execution": {
     "iopub.execute_input": "2023-03-15T11:58:09.629354Z",
     "iopub.status.busy": "2023-03-15T11:58:09.628481Z",
     "iopub.status.idle": "2023-03-15T11:58:09.646438Z",
     "shell.execute_reply": "2023-03-15T11:58:09.645411Z"
    },
    "papermill": {
     "duration": 0.074369,
     "end_time": "2023-03-15T11:58:09.649319",
     "exception": false,
     "start_time": "2023-03-15T11:58:09.574950",
     "status": "completed"
    },
    "tags": []
   },
   "outputs": [],
   "source": [
    "# ordinal incoding to \"age\" feature\n",
    "\n",
    "# create a dictionary to map age ranges to integers\n",
    "age_map = {'[0-10)': 5, '[10-20)': 15, '[20-30)': 25, '[30-40)': 35, '[40-50)': 45, '[50-60)': 55, '[60-70)': 65,\n",
    "            '[70-80)': 75, '[80-90)': 85, '[90-100)': 95}\n",
    "\n",
    "# use the map method to replace age ranges with integers\n",
    "train['age'] = train['age'].map(age_map)\n",
    "\n",
    "# use the map method to replace age ranges with integers\n",
    "test['age'] = test['age'].map(age_map)"
   ]
  },
  {
   "cell_type": "markdown",
   "id": "98db2bd4",
   "metadata": {
    "papermill": {
     "duration": 0.050671,
     "end_time": "2023-03-15T11:58:09.751278",
     "exception": false,
     "start_time": "2023-03-15T11:58:09.700607",
     "status": "completed"
    },
    "tags": []
   },
   "source": [
    "### change"
   ]
  },
  {
   "cell_type": "code",
   "execution_count": 39,
   "id": "9bcc2ce5",
   "metadata": {
    "execution": {
     "iopub.execute_input": "2023-03-15T11:58:09.856581Z",
     "iopub.status.busy": "2023-03-15T11:58:09.855678Z",
     "iopub.status.idle": "2023-03-15T11:58:09.871887Z",
     "shell.execute_reply": "2023-03-15T11:58:09.870448Z"
    },
    "papermill": {
     "duration": 0.072777,
     "end_time": "2023-03-15T11:58:09.875315",
     "exception": false,
     "start_time": "2023-03-15T11:58:09.802538",
     "status": "completed"
    },
    "tags": []
   },
   "outputs": [
    {
     "data": {
      "text/plain": [
       "array(['Ch', 'No'], dtype=object)"
      ]
     },
     "execution_count": 39,
     "metadata": {},
     "output_type": "execute_result"
    }
   ],
   "source": [
    "train['change'].unique()"
   ]
  },
  {
   "cell_type": "code",
   "execution_count": 40,
   "id": "edf11705",
   "metadata": {
    "execution": {
     "iopub.execute_input": "2023-03-15T11:58:10.006214Z",
     "iopub.status.busy": "2023-03-15T11:58:10.005422Z",
     "iopub.status.idle": "2023-03-15T11:58:10.015204Z",
     "shell.execute_reply": "2023-03-15T11:58:10.013968Z"
    },
    "papermill": {
     "duration": 0.073415,
     "end_time": "2023-03-15T11:58:10.017505",
     "exception": false,
     "start_time": "2023-03-15T11:58:09.944090",
     "status": "completed"
    },
    "tags": []
   },
   "outputs": [
    {
     "data": {
      "text/plain": [
       "array(['No', 'Ch'], dtype=object)"
      ]
     },
     "execution_count": 40,
     "metadata": {},
     "output_type": "execute_result"
    }
   ],
   "source": [
    "test['change'].unique()"
   ]
  },
  {
   "cell_type": "code",
   "execution_count": 41,
   "id": "feb85340",
   "metadata": {
    "execution": {
     "iopub.execute_input": "2023-03-15T11:58:10.122724Z",
     "iopub.status.busy": "2023-03-15T11:58:10.121942Z",
     "iopub.status.idle": "2023-03-15T11:58:10.166827Z",
     "shell.execute_reply": "2023-03-15T11:58:10.165237Z"
    },
    "papermill": {
     "duration": 0.101389,
     "end_time": "2023-03-15T11:58:10.169974",
     "exception": false,
     "start_time": "2023-03-15T11:58:10.068585",
     "status": "completed"
    },
    "tags": []
   },
   "outputs": [],
   "source": [
    "# for the \"change\" feature\n",
    "\n",
    "train['change'] = train['change'].replace({'No': 0, 'Ch': 1})\n",
    "\n",
    "test['change'] = test['change'].replace({'No': 0, 'Ch': 1})"
   ]
  },
  {
   "cell_type": "markdown",
   "id": "7c39dd23",
   "metadata": {
    "papermill": {
     "duration": 0.051253,
     "end_time": "2023-03-15T11:58:10.273068",
     "exception": false,
     "start_time": "2023-03-15T11:58:10.221815",
     "status": "completed"
    },
    "tags": []
   },
   "source": [
    "### diabetesMed"
   ]
  },
  {
   "cell_type": "code",
   "execution_count": 42,
   "id": "0d03b4b5",
   "metadata": {
    "execution": {
     "iopub.execute_input": "2023-03-15T11:58:10.381327Z",
     "iopub.status.busy": "2023-03-15T11:58:10.380854Z",
     "iopub.status.idle": "2023-03-15T11:58:10.393448Z",
     "shell.execute_reply": "2023-03-15T11:58:10.392569Z"
    },
    "papermill": {
     "duration": 0.06949,
     "end_time": "2023-03-15T11:58:10.395755",
     "exception": false,
     "start_time": "2023-03-15T11:58:10.326265",
     "status": "completed"
    },
    "tags": []
   },
   "outputs": [
    {
     "data": {
      "text/plain": [
       "array(['Yes', 'No'], dtype=object)"
      ]
     },
     "execution_count": 42,
     "metadata": {},
     "output_type": "execute_result"
    }
   ],
   "source": [
    "train['diabetesMed'].unique()"
   ]
  },
  {
   "cell_type": "code",
   "execution_count": 43,
   "id": "5f670e48",
   "metadata": {
    "execution": {
     "iopub.execute_input": "2023-03-15T11:58:10.593140Z",
     "iopub.status.busy": "2023-03-15T11:58:10.592342Z",
     "iopub.status.idle": "2023-03-15T11:58:10.601457Z",
     "shell.execute_reply": "2023-03-15T11:58:10.600525Z"
    },
    "papermill": {
     "duration": 0.064637,
     "end_time": "2023-03-15T11:58:10.603604",
     "exception": false,
     "start_time": "2023-03-15T11:58:10.538967",
     "status": "completed"
    },
    "tags": []
   },
   "outputs": [
    {
     "data": {
      "text/plain": [
       "array(['Yes', 'No'], dtype=object)"
      ]
     },
     "execution_count": 43,
     "metadata": {},
     "output_type": "execute_result"
    }
   ],
   "source": [
    "test['diabetesMed'].unique()"
   ]
  },
  {
   "cell_type": "code",
   "execution_count": 44,
   "id": "532cc3b6",
   "metadata": {
    "execution": {
     "iopub.execute_input": "2023-03-15T11:58:10.710638Z",
     "iopub.status.busy": "2023-03-15T11:58:10.709721Z",
     "iopub.status.idle": "2023-03-15T11:58:10.753865Z",
     "shell.execute_reply": "2023-03-15T11:58:10.752832Z"
    },
    "papermill": {
     "duration": 0.100735,
     "end_time": "2023-03-15T11:58:10.756754",
     "exception": false,
     "start_time": "2023-03-15T11:58:10.656019",
     "status": "completed"
    },
    "tags": []
   },
   "outputs": [],
   "source": [
    "train['diabetesMed'] = train['diabetesMed'].replace({'No': 0, 'Yes': 1})\n",
    "\n",
    "test['diabetesMed'] = test['diabetesMed'].replace({'No': 0, 'Yes': 1})"
   ]
  },
  {
   "cell_type": "markdown",
   "id": "987a171c",
   "metadata": {
    "papermill": {
     "duration": 0.052893,
     "end_time": "2023-03-15T11:58:10.862685",
     "exception": false,
     "start_time": "2023-03-15T11:58:10.809792",
     "status": "completed"
    },
    "tags": []
   },
   "source": [
    "### insulin"
   ]
  },
  {
   "cell_type": "code",
   "execution_count": 45,
   "id": "bf7ea6a9",
   "metadata": {
    "execution": {
     "iopub.execute_input": "2023-03-15T11:58:10.970685Z",
     "iopub.status.busy": "2023-03-15T11:58:10.969459Z",
     "iopub.status.idle": "2023-03-15T11:58:10.977026Z",
     "shell.execute_reply": "2023-03-15T11:58:10.976265Z"
    },
    "papermill": {
     "duration": 0.063267,
     "end_time": "2023-03-15T11:58:10.979147",
     "exception": false,
     "start_time": "2023-03-15T11:58:10.915880",
     "status": "completed"
    },
    "tags": []
   },
   "outputs": [
    {
     "data": {
      "text/plain": [
       "array([0, 1])"
      ]
     },
     "execution_count": 45,
     "metadata": {},
     "output_type": "execute_result"
    }
   ],
   "source": [
    "train['insulin'].unique()"
   ]
  },
  {
   "cell_type": "code",
   "execution_count": 46,
   "id": "aa8b90e8",
   "metadata": {
    "execution": {
     "iopub.execute_input": "2023-03-15T11:58:11.086851Z",
     "iopub.status.busy": "2023-03-15T11:58:11.085374Z",
     "iopub.status.idle": "2023-03-15T11:58:11.094825Z",
     "shell.execute_reply": "2023-03-15T11:58:11.093845Z"
    },
    "papermill": {
     "duration": 0.065873,
     "end_time": "2023-03-15T11:58:11.096933",
     "exception": false,
     "start_time": "2023-03-15T11:58:11.031060",
     "status": "completed"
    },
    "tags": []
   },
   "outputs": [
    {
     "data": {
      "text/plain": [
       "array([1, 0])"
      ]
     },
     "execution_count": 46,
     "metadata": {},
     "output_type": "execute_result"
    }
   ],
   "source": [
    "test['insulin'].unique()"
   ]
  },
  {
   "cell_type": "markdown",
   "id": "174ed179",
   "metadata": {
    "papermill": {
     "duration": 0.051811,
     "end_time": "2023-03-15T11:58:11.201171",
     "exception": false,
     "start_time": "2023-03-15T11:58:11.149360",
     "status": "completed"
    },
    "tags": []
   },
   "source": [
    "### race"
   ]
  },
  {
   "cell_type": "code",
   "execution_count": 47,
   "id": "40ac8e27",
   "metadata": {
    "execution": {
     "iopub.execute_input": "2023-03-15T11:58:11.310064Z",
     "iopub.status.busy": "2023-03-15T11:58:11.308807Z",
     "iopub.status.idle": "2023-03-15T11:58:11.316959Z",
     "shell.execute_reply": "2023-03-15T11:58:11.315430Z"
    },
    "papermill": {
     "duration": 0.065396,
     "end_time": "2023-03-15T11:58:11.319512",
     "exception": false,
     "start_time": "2023-03-15T11:58:11.254116",
     "status": "completed"
    },
    "tags": []
   },
   "outputs": [],
   "source": [
    "def deal_with_race(df):\n",
    "    df = df.replace('Asian', 0)\n",
    "    df = df.replace('AfricanAmerican', 1)\n",
    "    df = df.replace('Caucasian', 2)\n",
    "    df = df.replace('Hispanic', 3)\n",
    "    df = df.replace('Other', 4)\n",
    "    df = df.replace('?', np.nan)\n",
    "    return df"
   ]
  },
  {
   "cell_type": "code",
   "execution_count": 48,
   "id": "d34ad6be",
   "metadata": {
    "execution": {
     "iopub.execute_input": "2023-03-15T11:58:11.426330Z",
     "iopub.status.busy": "2023-03-15T11:58:11.425835Z",
     "iopub.status.idle": "2023-03-15T11:58:11.476118Z",
     "shell.execute_reply": "2023-03-15T11:58:11.474939Z"
    },
    "papermill": {
     "duration": 0.107045,
     "end_time": "2023-03-15T11:58:11.479061",
     "exception": false,
     "start_time": "2023-03-15T11:58:11.372016",
     "status": "completed"
    },
    "tags": []
   },
   "outputs": [],
   "source": [
    "train['race']=deal_with_race(train['race'])\n",
    "test['race']=deal_with_race(test['race'])"
   ]
  },
  {
   "cell_type": "markdown",
   "id": "2595fb73",
   "metadata": {
    "papermill": {
     "duration": 0.051905,
     "end_time": "2023-03-15T11:58:11.583972",
     "exception": false,
     "start_time": "2023-03-15T11:58:11.532067",
     "status": "completed"
    },
    "tags": []
   },
   "source": [
    "### A1Cresult"
   ]
  },
  {
   "cell_type": "code",
   "execution_count": 49,
   "id": "ccaa9876",
   "metadata": {
    "execution": {
     "iopub.execute_input": "2023-03-15T11:58:11.689257Z",
     "iopub.status.busy": "2023-03-15T11:58:11.688828Z",
     "iopub.status.idle": "2023-03-15T11:58:11.695009Z",
     "shell.execute_reply": "2023-03-15T11:58:11.693699Z"
    },
    "papermill": {
     "duration": 0.061555,
     "end_time": "2023-03-15T11:58:11.697303",
     "exception": false,
     "start_time": "2023-03-15T11:58:11.635748",
     "status": "completed"
    },
    "tags": []
   },
   "outputs": [],
   "source": [
    "def deal_with_A1Cresult(df):\n",
    "    df = df.replace('None', -99)  # -1 -> -99\n",
    "    df = df.replace('>8', 1)\n",
    "    df = df.replace('>7', 1)\n",
    "    df = df.replace('Norm', 0)\n",
    "    return df"
   ]
  },
  {
   "cell_type": "code",
   "execution_count": 50,
   "id": "33ef8af6",
   "metadata": {
    "execution": {
     "iopub.execute_input": "2023-03-15T11:58:11.803208Z",
     "iopub.status.busy": "2023-03-15T11:58:11.802765Z",
     "iopub.status.idle": "2023-03-15T11:58:11.844622Z",
     "shell.execute_reply": "2023-03-15T11:58:11.843725Z"
    },
    "papermill": {
     "duration": 0.098015,
     "end_time": "2023-03-15T11:58:11.847262",
     "exception": false,
     "start_time": "2023-03-15T11:58:11.749247",
     "status": "completed"
    },
    "tags": []
   },
   "outputs": [],
   "source": [
    "train['A1Cresult']=deal_with_A1Cresult(train['A1Cresult'])\n",
    "test['A1Cresult']=deal_with_A1Cresult(test['A1Cresult'])"
   ]
  },
  {
   "cell_type": "markdown",
   "id": "3b27a501",
   "metadata": {
    "papermill": {
     "duration": 0.052101,
     "end_time": "2023-03-15T11:58:11.951583",
     "exception": false,
     "start_time": "2023-03-15T11:58:11.899482",
     "status": "completed"
    },
    "tags": []
   },
   "source": [
    "### max_glu_serum"
   ]
  },
  {
   "cell_type": "code",
   "execution_count": 51,
   "id": "0bb8104f",
   "metadata": {
    "execution": {
     "iopub.execute_input": "2023-03-15T11:58:12.060374Z",
     "iopub.status.busy": "2023-03-15T11:58:12.059671Z",
     "iopub.status.idle": "2023-03-15T11:58:12.065940Z",
     "shell.execute_reply": "2023-03-15T11:58:12.065100Z"
    },
    "papermill": {
     "duration": 0.062942,
     "end_time": "2023-03-15T11:58:12.068667",
     "exception": false,
     "start_time": "2023-03-15T11:58:12.005725",
     "status": "completed"
    },
    "tags": []
   },
   "outputs": [],
   "source": [
    "def deal_with_mgs(df):\n",
    "    df = df.replace('>200', 1)\n",
    "    df = df.replace('>300', 1)\n",
    "    df = df.replace('Norm', 0)\n",
    "    df = df.replace('None', -99)  # -1 -> -99\n",
    "    return df"
   ]
  },
  {
   "cell_type": "code",
   "execution_count": 52,
   "id": "d03311de",
   "metadata": {
    "execution": {
     "iopub.execute_input": "2023-03-15T11:58:12.178600Z",
     "iopub.status.busy": "2023-03-15T11:58:12.178103Z",
     "iopub.status.idle": "2023-03-15T11:58:12.219902Z",
     "shell.execute_reply": "2023-03-15T11:58:12.218280Z"
    },
    "papermill": {
     "duration": 0.0995,
     "end_time": "2023-03-15T11:58:12.223026",
     "exception": false,
     "start_time": "2023-03-15T11:58:12.123526",
     "status": "completed"
    },
    "tags": []
   },
   "outputs": [],
   "source": [
    "train['max_glu_serum']=deal_with_mgs(train['max_glu_serum'])\n",
    "test['max_glu_serum']=deal_with_mgs(test['max_glu_serum'])"
   ]
  },
  {
   "cell_type": "markdown",
   "id": "f8f1e63b",
   "metadata": {
    "papermill": {
     "duration": 0.054051,
     "end_time": "2023-03-15T11:58:12.332392",
     "exception": false,
     "start_time": "2023-03-15T11:58:12.278341",
     "status": "completed"
    },
    "tags": []
   },
   "source": [
    "### admission_type_id"
   ]
  },
  {
   "cell_type": "code",
   "execution_count": 53,
   "id": "5b56d781",
   "metadata": {
    "execution": {
     "iopub.execute_input": "2023-03-15T11:58:12.444755Z",
     "iopub.status.busy": "2023-03-15T11:58:12.443542Z",
     "iopub.status.idle": "2023-03-15T11:58:12.451281Z",
     "shell.execute_reply": "2023-03-15T11:58:12.450486Z"
    },
    "papermill": {
     "duration": 0.065867,
     "end_time": "2023-03-15T11:58:12.453311",
     "exception": false,
     "start_time": "2023-03-15T11:58:12.387444",
     "status": "completed"
    },
    "tags": []
   },
   "outputs": [
    {
     "data": {
      "text/plain": [
       "array([3, 6, 1, 2, 5, 8, 7, 4])"
      ]
     },
     "execution_count": 53,
     "metadata": {},
     "output_type": "execute_result"
    }
   ],
   "source": [
    "train['admission_type_id'].unique()"
   ]
  },
  {
   "cell_type": "code",
   "execution_count": 54,
   "id": "f4e0356a",
   "metadata": {
    "execution": {
     "iopub.execute_input": "2023-03-15T11:58:12.561267Z",
     "iopub.status.busy": "2023-03-15T11:58:12.560474Z",
     "iopub.status.idle": "2023-03-15T11:58:12.567659Z",
     "shell.execute_reply": "2023-03-15T11:58:12.566815Z"
    },
    "papermill": {
     "duration": 0.064471,
     "end_time": "2023-03-15T11:58:12.569976",
     "exception": false,
     "start_time": "2023-03-15T11:58:12.505505",
     "status": "completed"
    },
    "tags": []
   },
   "outputs": [
    {
     "data": {
      "text/plain": [
       "array([2, 1, 3, 6, 5, 8, 7, 4])"
      ]
     },
     "execution_count": 54,
     "metadata": {},
     "output_type": "execute_result"
    }
   ],
   "source": [
    "test['admission_type_id'].unique()"
   ]
  },
  {
   "cell_type": "code",
   "execution_count": 55,
   "id": "d6010bbe",
   "metadata": {
    "execution": {
     "iopub.execute_input": "2023-03-15T11:58:12.679235Z",
     "iopub.status.busy": "2023-03-15T11:58:12.678457Z",
     "iopub.status.idle": "2023-03-15T11:58:12.684733Z",
     "shell.execute_reply": "2023-03-15T11:58:12.683257Z"
    },
    "papermill": {
     "duration": 0.06304,
     "end_time": "2023-03-15T11:58:12.687379",
     "exception": false,
     "start_time": "2023-03-15T11:58:12.624339",
     "status": "completed"
    },
    "tags": []
   },
   "outputs": [],
   "source": [
    "def deal_with_admi(df):\n",
    "    # simplify\n",
    "    # admission_type_id : [2, 7] -> 1, [6, 8] -> 5\n",
    "    df = df.replace(2, 1)\n",
    "    df = df.replace(7, 1)\n",
    "    df = df.replace(6, 5)\n",
    "    df = df.replace(8, 5)\n",
    "    return df"
   ]
  },
  {
   "cell_type": "code",
   "execution_count": 56,
   "id": "344d89b8",
   "metadata": {
    "execution": {
     "iopub.execute_input": "2023-03-15T11:58:12.795169Z",
     "iopub.status.busy": "2023-03-15T11:58:12.794752Z",
     "iopub.status.idle": "2023-03-15T11:58:12.804035Z",
     "shell.execute_reply": "2023-03-15T11:58:12.802902Z"
    },
    "papermill": {
     "duration": 0.067293,
     "end_time": "2023-03-15T11:58:12.806910",
     "exception": false,
     "start_time": "2023-03-15T11:58:12.739617",
     "status": "completed"
    },
    "tags": []
   },
   "outputs": [],
   "source": [
    "train['admission_type_id']=deal_with_admi(train['admission_type_id'])\n",
    "test['admission_type_id']=deal_with_admi(test['admission_type_id'])"
   ]
  },
  {
   "cell_type": "markdown",
   "id": "f6158c5b",
   "metadata": {
    "papermill": {
     "duration": 0.052482,
     "end_time": "2023-03-15T11:58:12.912340",
     "exception": false,
     "start_time": "2023-03-15T11:58:12.859858",
     "status": "completed"
    },
    "tags": []
   },
   "source": [
    "### admission_source_id"
   ]
  },
  {
   "cell_type": "code",
   "execution_count": 57,
   "id": "551ffdb9",
   "metadata": {
    "execution": {
     "iopub.execute_input": "2023-03-15T11:58:13.019161Z",
     "iopub.status.busy": "2023-03-15T11:58:13.017760Z",
     "iopub.status.idle": "2023-03-15T11:58:13.025705Z",
     "shell.execute_reply": "2023-03-15T11:58:13.024773Z"
    },
    "papermill": {
     "duration": 0.064022,
     "end_time": "2023-03-15T11:58:13.028113",
     "exception": false,
     "start_time": "2023-03-15T11:58:12.964091",
     "status": "completed"
    },
    "tags": []
   },
   "outputs": [],
   "source": [
    "def deal_with_admsi(df):\n",
    "    # admission_source_id : [3, 2] -> 1, [5, 6, 10, 22, 25] -> 4,\n",
    "    #                       [15, 17, 20, 21] -> 9, [13, 14] -> 11\n",
    "    a, b, c, d = [3, 2], [5, 6, 10, 22, 25], [15, 17, 20, 21], [13, 14]\n",
    "    for i in a:\n",
    "        df = df.replace(i, 1)\n",
    "    for j in b:\n",
    "        df = df.replace(j, 4)\n",
    "    for k in c:\n",
    "        df = df.replace(k, 9)\n",
    "    for p in d:\n",
    "        df = df.replace(p, 11)\n",
    "    return df"
   ]
  },
  {
   "cell_type": "code",
   "execution_count": 58,
   "id": "d14a50c7",
   "metadata": {
    "execution": {
     "iopub.execute_input": "2023-03-15T11:58:13.135106Z",
     "iopub.status.busy": "2023-03-15T11:58:13.134272Z",
     "iopub.status.idle": "2023-03-15T11:58:13.147775Z",
     "shell.execute_reply": "2023-03-15T11:58:13.146432Z"
    },
    "papermill": {
     "duration": 0.069977,
     "end_time": "2023-03-15T11:58:13.150702",
     "exception": false,
     "start_time": "2023-03-15T11:58:13.080725",
     "status": "completed"
    },
    "tags": []
   },
   "outputs": [],
   "source": [
    "train['admission_source_id']=deal_with_admsi(train['admission_source_id'])\n",
    "test['admission_source_id']=deal_with_admsi(test['admission_source_id'])"
   ]
  },
  {
   "cell_type": "markdown",
   "id": "70964a0b",
   "metadata": {
    "papermill": {
     "duration": 0.051604,
     "end_time": "2023-03-15T11:58:13.254468",
     "exception": false,
     "start_time": "2023-03-15T11:58:13.202864",
     "status": "completed"
    },
    "tags": []
   },
   "source": [
    "### discharge_disposition_id"
   ]
  },
  {
   "cell_type": "code",
   "execution_count": 59,
   "id": "2b8f0b23",
   "metadata": {
    "execution": {
     "iopub.execute_input": "2023-03-15T11:58:13.361157Z",
     "iopub.status.busy": "2023-03-15T11:58:13.360710Z",
     "iopub.status.idle": "2023-03-15T11:58:13.369583Z",
     "shell.execute_reply": "2023-03-15T11:58:13.368788Z"
    },
    "papermill": {
     "duration": 0.065269,
     "end_time": "2023-03-15T11:58:13.371794",
     "exception": false,
     "start_time": "2023-03-15T11:58:13.306525",
     "status": "completed"
    },
    "tags": []
   },
   "outputs": [
    {
     "data": {
      "text/plain": [
       "1     42164\n",
       "3      9820\n",
       "6      9025\n",
       "18     2600\n",
       "2      1466\n",
       "22     1405\n",
       "11     1147\n",
       "5       829\n",
       "25      667\n",
       "4       566\n",
       "7       427\n",
       "13      274\n",
       "23      274\n",
       "14      263\n",
       "28       99\n",
       "8        80\n",
       "15       44\n",
       "24       33\n",
       "9        17\n",
       "17       12\n",
       "16        7\n",
       "10        6\n",
       "27        4\n",
       "19        4\n",
       "12        2\n",
       "20        1\n",
       "Name: discharge_disposition_id, dtype: int64"
      ]
     },
     "execution_count": 59,
     "metadata": {},
     "output_type": "execute_result"
    }
   ],
   "source": [
    "train['discharge_disposition_id'].value_counts()"
   ]
  },
  {
   "cell_type": "code",
   "execution_count": 60,
   "id": "5bac12ce",
   "metadata": {
    "execution": {
     "iopub.execute_input": "2023-03-15T11:58:13.478682Z",
     "iopub.status.busy": "2023-03-15T11:58:13.477804Z",
     "iopub.status.idle": "2023-03-15T11:58:13.487814Z",
     "shell.execute_reply": "2023-03-15T11:58:13.486625Z"
    },
    "papermill": {
     "duration": 0.066589,
     "end_time": "2023-03-15T11:58:13.490596",
     "exception": false,
     "start_time": "2023-03-15T11:58:13.424007",
     "status": "completed"
    },
    "tags": []
   },
   "outputs": [
    {
     "data": {
      "text/plain": [
       "1     18070\n",
       "3      4134\n",
       "6      3877\n",
       "18     1091\n",
       "2       662\n",
       "22      588\n",
       "11      495\n",
       "5       355\n",
       "25      322\n",
       "4       249\n",
       "7       196\n",
       "23      138\n",
       "13      125\n",
       "14      109\n",
       "28       40\n",
       "8        28\n",
       "15       19\n",
       "24       15\n",
       "16        4\n",
       "19        4\n",
       "9         4\n",
       "17        2\n",
       "20        1\n",
       "27        1\n",
       "12        1\n",
       "Name: discharge_disposition_id, dtype: int64"
      ]
     },
     "execution_count": 60,
     "metadata": {},
     "output_type": "execute_result"
    }
   ],
   "source": [
    "test['discharge_disposition_id'].value_counts()"
   ]
  },
  {
   "cell_type": "code",
   "execution_count": 61,
   "id": "3a0d7235",
   "metadata": {
    "execution": {
     "iopub.execute_input": "2023-03-15T11:58:13.603577Z",
     "iopub.status.busy": "2023-03-15T11:58:13.602778Z",
     "iopub.status.idle": "2023-03-15T11:58:13.610430Z",
     "shell.execute_reply": "2023-03-15T11:58:13.609382Z"
    },
    "papermill": {
     "duration": 0.065928,
     "end_time": "2023-03-15T11:58:13.612775",
     "exception": false,
     "start_time": "2023-03-15T11:58:13.546847",
     "status": "completed"
    },
    "tags": []
   },
   "outputs": [],
   "source": [
    "def deal_with_ddi(df):\n",
    "    # discharge_disposition_id : [6, 8, 9, 13] -> 1, [3, 4, 5, 14, 22, 23, 24] -> 2,\n",
    "    #                            [12, 15, 16, 17] -> 10, [19, 20, 21] -> 11, [25, 26] -> 18\n",
    "\n",
    "    a, b, c, d, e = [6, 8, 9, 13], [3, 4, 5, 14, 22, 23, 24], [12, 15, 16, 17], \\\n",
    "                    [19, 20, 21], [25, 26]\n",
    "    for i in a:\n",
    "        df = df.replace(i, 1)\n",
    "    for j in b:\n",
    "        df = df.replace(j, 2)\n",
    "    for k in c:\n",
    "        df = df.replace(k, 10)\n",
    "    # data of died patients \n",
    "    for p in d:\n",
    "        df = df.replace(p, 11)\n",
    "    for q in e:\n",
    "        df = df.replace(q, 18)\n",
    "    \n",
    "    return df\n",
    "\n"
   ]
  },
  {
   "cell_type": "code",
   "execution_count": 62,
   "id": "dee8a2f1",
   "metadata": {
    "execution": {
     "iopub.execute_input": "2023-03-15T11:58:13.722442Z",
     "iopub.status.busy": "2023-03-15T11:58:13.721662Z",
     "iopub.status.idle": "2023-03-15T11:58:13.734840Z",
     "shell.execute_reply": "2023-03-15T11:58:13.733684Z"
    },
    "papermill": {
     "duration": 0.071417,
     "end_time": "2023-03-15T11:58:13.737810",
     "exception": false,
     "start_time": "2023-03-15T11:58:13.666393",
     "status": "completed"
    },
    "tags": []
   },
   "outputs": [],
   "source": [
    "train['discharge_disposition_id']=deal_with_admsi(train['discharge_disposition_id'])\n",
    "test['discharge_disposition_id']=deal_with_admsi(test['discharge_disposition_id'])"
   ]
  },
  {
   "cell_type": "code",
   "execution_count": 63,
   "id": "0ce0edc1",
   "metadata": {
    "execution": {
     "iopub.execute_input": "2023-03-15T11:58:13.848330Z",
     "iopub.status.busy": "2023-03-15T11:58:13.847552Z",
     "iopub.status.idle": "2023-03-15T11:58:13.952472Z",
     "shell.execute_reply": "2023-03-15T11:58:13.951117Z"
    },
    "papermill": {
     "duration": 0.164086,
     "end_time": "2023-03-15T11:58:13.955927",
     "exception": false,
     "start_time": "2023-03-15T11:58:13.791841",
     "status": "completed"
    },
    "tags": []
   },
   "outputs": [],
   "source": [
    "# Frequency Encoding encoding to 'medical_specialty' feature\n",
    "\n",
    "# create a dictionary of category frequencies\n",
    "freq_dict = train['medical_specialty'].value_counts().to_dict()\n",
    "\n",
    "# replace categories with their frequencies\n",
    "train['medical_specialty_freq'] = train['medical_specialty'].map(freq_dict)\n",
    "\n",
    "\n",
    "# Frequency Encoding encoding to 'medical_specialty' feature\n",
    "\n",
    "# create a dictionary of category frequencies\n",
    "freq_dict = test['medical_specialty'].value_counts().to_dict()\n",
    "\n",
    "# replace categories with their frequencies\n",
    "test['medical_specialty_freq'] = test['medical_specialty'].map(freq_dict)\n",
    "\n",
    "# Frequency Encoding encoding to 'payer_code' feature\n",
    "\n",
    "# create a dictionary of category frequencies\n",
    "freq_dict = train['payer_code'].value_counts().to_dict()\n",
    "\n",
    "# replace categories with their frequencies\n",
    "train['payer_code_freq'] = train['payer_code'].map(freq_dict)\n",
    "\n",
    "\n",
    "# Frequency Encoding encoding to 'payer_code' feature\n",
    "\n",
    "# create a dictionary of category frequencies\n",
    "freq_dict = test['payer_code'].value_counts().to_dict()\n",
    "\n",
    "# replace categories with their frequencies\n",
    "test['payer_code_freq'] = test['payer_code'].map(freq_dict)\n",
    "\n",
    "train.drop('payer_code',axis=1,inplace=True)\n",
    "train.drop('medical_specialty',axis=1,inplace=True)\n",
    "\n",
    "test.drop('payer_code',axis=1,inplace=True)\n",
    "test.drop('medical_specialty',axis=1,inplace=True)"
   ]
  },
  {
   "cell_type": "markdown",
   "id": "aa41f3d6",
   "metadata": {
    "papermill": {
     "duration": 0.053496,
     "end_time": "2023-03-15T11:58:14.064283",
     "exception": false,
     "start_time": "2023-03-15T11:58:14.010787",
     "status": "completed"
    },
    "tags": []
   },
   "source": [
    "### diag_1"
   ]
  },
  {
   "cell_type": "markdown",
   "id": "1dd781ab",
   "metadata": {
    "papermill": {
     "duration": 0.054431,
     "end_time": "2023-03-15T11:58:14.172499",
     "exception": false,
     "start_time": "2023-03-15T11:58:14.118068",
     "status": "completed"
    },
    "tags": []
   },
   "source": [
    "- The grouping is based on the research paper table (https://www.hindawi.com/journals/bmri/2014/781670/tab2/)"
   ]
  },
  {
   "cell_type": "code",
   "execution_count": 64,
   "id": "dd8b6556",
   "metadata": {
    "execution": {
     "iopub.execute_input": "2023-03-15T11:58:14.282718Z",
     "iopub.status.busy": "2023-03-15T11:58:14.282264Z",
     "iopub.status.idle": "2023-03-15T11:58:14.294156Z",
     "shell.execute_reply": "2023-03-15T11:58:14.293142Z"
    },
    "papermill": {
     "duration": 0.069831,
     "end_time": "2023-03-15T11:58:14.296714",
     "exception": false,
     "start_time": "2023-03-15T11:58:14.226883",
     "status": "completed"
    },
    "tags": []
   },
   "outputs": [],
   "source": [
    "def encode_diag(df):\n",
    "    # Circulatory\n",
    "    codes =[str(i) for i in list(range(390,460)) + [785]]\n",
    "    df = df.replace(codes, 8)\n",
    "\n",
    "    # Respiratory\n",
    "    codes =[str(i) for i in list(range(460,520)) + [786]]\n",
    "    df = df.replace(codes, 7)\n",
    "\n",
    "    # Digestive\n",
    "    codes =[str(i) for i in list(range(520,580)) + [787]]\n",
    "    df = df.replace(codes, 6)\n",
    "\n",
    "    # Diabetes\n",
    "    df = df.replace(regex=r'^250.*', value=5)\n",
    "\n",
    "    # Injury\n",
    "    codes =[str(i) for i in range(800,1000)]\n",
    "    df = df.replace(codes, 4)\n",
    "\n",
    "    # Musculoskeletal\n",
    "    codes =[str(i) for i in range(710,740)]\n",
    "    df = df.replace(codes, 3)\n",
    "\n",
    "    # Genitourinary\n",
    "    codes =[str(i) for i in list(range(580,630)) + [788]]\n",
    "    df = df.replace(codes, 2)\n",
    "\n",
    "    # Neoplasms\n",
    "    codes =[str(i) for i in range(140,240)]\n",
    "    df = df.replace(codes, 1)\n",
    "\n",
    "    # Other\n",
    "    df = df.replace(regex=r'^[E,V].*', value=0)\n",
    "\n",
    "    codes =[str(i) for i in range(0,1000)]\n",
    "    df = df.replace(codes, 0)\n",
    "\n",
    "    # need to add 365.44 to Other\n",
    "    df = df.replace('365.44',0)\n",
    "#     df = df.replace('?',0)\n",
    "#     df = df.replace(np.NaN,0)\n",
    "    \n",
    "    return df\n"
   ]
  },
  {
   "cell_type": "code",
   "execution_count": 65,
   "id": "d6d9109b",
   "metadata": {
    "execution": {
     "iopub.execute_input": "2023-03-15T11:58:14.408297Z",
     "iopub.status.busy": "2023-03-15T11:58:14.407587Z",
     "iopub.status.idle": "2023-03-15T11:58:20.176540Z",
     "shell.execute_reply": "2023-03-15T11:58:20.175244Z"
    },
    "papermill": {
     "duration": 5.828509,
     "end_time": "2023-03-15T11:58:20.179633",
     "exception": false,
     "start_time": "2023-03-15T11:58:14.351124",
     "status": "completed"
    },
    "tags": []
   },
   "outputs": [],
   "source": [
    "train['diag_1']=encode_diag(train['diag_1'])\n",
    "test['diag_1']=encode_diag(test['diag_1'])"
   ]
  },
  {
   "cell_type": "code",
   "execution_count": 66,
   "id": "acff617e",
   "metadata": {
    "execution": {
     "iopub.execute_input": "2023-03-15T11:58:20.286604Z",
     "iopub.status.busy": "2023-03-15T11:58:20.286134Z",
     "iopub.status.idle": "2023-03-15T11:58:26.249388Z",
     "shell.execute_reply": "2023-03-15T11:58:26.248053Z"
    },
    "papermill": {
     "duration": 6.020347,
     "end_time": "2023-03-15T11:58:26.252377",
     "exception": false,
     "start_time": "2023-03-15T11:58:20.232030",
     "status": "completed"
    },
    "tags": []
   },
   "outputs": [],
   "source": [
    "train['diag_2']=encode_diag(train['diag_2'])\n",
    "test['diag_2']=encode_diag(test['diag_2'])"
   ]
  },
  {
   "cell_type": "code",
   "execution_count": 67,
   "id": "a22122c7",
   "metadata": {
    "execution": {
     "iopub.execute_input": "2023-03-15T11:58:26.364458Z",
     "iopub.status.busy": "2023-03-15T11:58:26.363248Z",
     "iopub.status.idle": "2023-03-15T11:58:32.435433Z",
     "shell.execute_reply": "2023-03-15T11:58:32.434100Z"
    },
    "papermill": {
     "duration": 6.131157,
     "end_time": "2023-03-15T11:58:32.438586",
     "exception": false,
     "start_time": "2023-03-15T11:58:26.307429",
     "status": "completed"
    },
    "tags": []
   },
   "outputs": [],
   "source": [
    "train['diag_3']=encode_diag(train['diag_3'])\n",
    "test['diag_3']=encode_diag(test['diag_3'])"
   ]
  },
  {
   "cell_type": "code",
   "execution_count": 68,
   "id": "e8e41f11",
   "metadata": {
    "execution": {
     "iopub.execute_input": "2023-03-15T11:58:32.546552Z",
     "iopub.status.busy": "2023-03-15T11:58:32.545645Z",
     "iopub.status.idle": "2023-03-15T11:58:32.550643Z",
     "shell.execute_reply": "2023-03-15T11:58:32.549829Z"
    },
    "papermill": {
     "duration": 0.061839,
     "end_time": "2023-03-15T11:58:32.552965",
     "exception": false,
     "start_time": "2023-03-15T11:58:32.491126",
     "status": "completed"
    },
    "tags": []
   },
   "outputs": [],
   "source": [
    "# def graph_diag(train):\n",
    "#     plt.figure(figsize=(20, 8))\n",
    "#     for diag in ['diag_1','diag_2','diag_3']:\n",
    "#         sns.lineplot(x=train[diag].value_counts().sort_index().index, y= train[diag].value_counts().sort_index().values, marker='o')\n",
    "#     plt.legend(['diag_1','diag_2','diag_3'])\n",
    "#     plt.show()"
   ]
  },
  {
   "cell_type": "code",
   "execution_count": 69,
   "id": "c2243237",
   "metadata": {
    "execution": {
     "iopub.execute_input": "2023-03-15T11:58:32.659754Z",
     "iopub.status.busy": "2023-03-15T11:58:32.659312Z",
     "iopub.status.idle": "2023-03-15T11:58:32.666722Z",
     "shell.execute_reply": "2023-03-15T11:58:32.665314Z"
    },
    "papermill": {
     "duration": 0.063928,
     "end_time": "2023-03-15T11:58:32.669491",
     "exception": false,
     "start_time": "2023-03-15T11:58:32.605563",
     "status": "completed"
    },
    "tags": []
   },
   "outputs": [],
   "source": [
    "def plot_diag(train):\n",
    "    plt.figure(figsize=(8,5))\n",
    "    ax = train.number_diagnoses.value_counts().sort_index().plot.bar()\n",
    "    for p in ax.patches:\n",
    "            ax.annotate('{:.0f}'.format(p.get_height()), \n",
    "                        (p.get_x(), p.get_height()+100),size=10)\n",
    "    "
   ]
  },
  {
   "cell_type": "markdown",
   "id": "09277754",
   "metadata": {
    "papermill": {
     "duration": 0.052709,
     "end_time": "2023-03-15T11:58:32.774375",
     "exception": false,
     "start_time": "2023-03-15T11:58:32.721666",
     "status": "completed"
    },
    "tags": []
   },
   "source": [
    "- For a small number of observations with number of diagnoses greater than 9, let's change the number of diagnoses to 9."
   ]
  },
  {
   "cell_type": "code",
   "execution_count": 70,
   "id": "1db5b306",
   "metadata": {
    "execution": {
     "iopub.execute_input": "2023-03-15T11:58:32.880911Z",
     "iopub.status.busy": "2023-03-15T11:58:32.880474Z",
     "iopub.status.idle": "2023-03-15T11:58:32.891871Z",
     "shell.execute_reply": "2023-03-15T11:58:32.890434Z"
    },
    "papermill": {
     "duration": 0.068461,
     "end_time": "2023-03-15T11:58:32.894844",
     "exception": false,
     "start_time": "2023-03-15T11:58:32.826383",
     "status": "completed"
    },
    "tags": []
   },
   "outputs": [],
   "source": [
    "train.number_diagnoses = train.number_diagnoses.replace([10,11,12,13,14,15,16],9)\n",
    "test.number_diagnoses = test.number_diagnoses.replace([10,11,12,13,14,15,16],9)"
   ]
  },
  {
   "cell_type": "code",
   "execution_count": 71,
   "id": "240f95ba",
   "metadata": {
    "execution": {
     "iopub.execute_input": "2023-03-15T11:58:33.002497Z",
     "iopub.status.busy": "2023-03-15T11:58:33.000905Z",
     "iopub.status.idle": "2023-03-15T11:58:33.045798Z",
     "shell.execute_reply": "2023-03-15T11:58:33.044630Z"
    },
    "papermill": {
     "duration": 0.100976,
     "end_time": "2023-03-15T11:58:33.048414",
     "exception": false,
     "start_time": "2023-03-15T11:58:32.947438",
     "status": "completed"
    },
    "tags": []
   },
   "outputs": [
    {
     "data": {
      "text/html": [
       "<div>\n",
       "<style scoped>\n",
       "    .dataframe tbody tr th:only-of-type {\n",
       "        vertical-align: middle;\n",
       "    }\n",
       "\n",
       "    .dataframe tbody tr th {\n",
       "        vertical-align: top;\n",
       "    }\n",
       "\n",
       "    .dataframe thead th {\n",
       "        text-align: right;\n",
       "    }\n",
       "</style>\n",
       "<table border=\"1\" class=\"dataframe\">\n",
       "  <thead>\n",
       "    <tr style=\"text-align: right;\">\n",
       "      <th></th>\n",
       "      <th>service_utilization</th>\n",
       "      <th>race</th>\n",
       "      <th>gender</th>\n",
       "      <th>age</th>\n",
       "      <th>admission_type_id</th>\n",
       "      <th>discharge_disposition_id</th>\n",
       "      <th>admission_source_id</th>\n",
       "      <th>time_in_hospital</th>\n",
       "      <th>num_lab_procedures</th>\n",
       "      <th>num_procedures</th>\n",
       "      <th>...</th>\n",
       "      <th>max_glu_serum</th>\n",
       "      <th>A1Cresult</th>\n",
       "      <th>metformin</th>\n",
       "      <th>repaglinide</th>\n",
       "      <th>pioglitazone</th>\n",
       "      <th>rosiglitazone</th>\n",
       "      <th>num_med_changed</th>\n",
       "      <th>num_med_taken</th>\n",
       "      <th>medical_specialty_freq</th>\n",
       "      <th>payer_code_freq</th>\n",
       "    </tr>\n",
       "  </thead>\n",
       "  <tbody>\n",
       "    <tr>\n",
       "      <th>0</th>\n",
       "      <td>0</td>\n",
       "      <td>2.0</td>\n",
       "      <td>1</td>\n",
       "      <td>85</td>\n",
       "      <td>3</td>\n",
       "      <td>1</td>\n",
       "      <td>7</td>\n",
       "      <td>5</td>\n",
       "      <td>40</td>\n",
       "      <td>2</td>\n",
       "      <td>...</td>\n",
       "      <td>-99</td>\n",
       "      <td>1</td>\n",
       "      <td>0</td>\n",
       "      <td>0</td>\n",
       "      <td>0</td>\n",
       "      <td>0</td>\n",
       "      <td>0</td>\n",
       "      <td>2</td>\n",
       "      <td>5252.0</td>\n",
       "      <td>22647.0</td>\n",
       "    </tr>\n",
       "    <tr>\n",
       "      <th>1</th>\n",
       "      <td>0</td>\n",
       "      <td>2.0</td>\n",
       "      <td>0</td>\n",
       "      <td>75</td>\n",
       "      <td>3</td>\n",
       "      <td>4</td>\n",
       "      <td>1</td>\n",
       "      <td>3</td>\n",
       "      <td>22</td>\n",
       "      <td>1</td>\n",
       "      <td>...</td>\n",
       "      <td>-99</td>\n",
       "      <td>-99</td>\n",
       "      <td>0</td>\n",
       "      <td>0</td>\n",
       "      <td>0</td>\n",
       "      <td>0</td>\n",
       "      <td>0</td>\n",
       "      <td>1</td>\n",
       "      <td>978.0</td>\n",
       "      <td>NaN</td>\n",
       "    </tr>\n",
       "    <tr>\n",
       "      <th>2</th>\n",
       "      <td>0</td>\n",
       "      <td>2.0</td>\n",
       "      <td>1</td>\n",
       "      <td>75</td>\n",
       "      <td>3</td>\n",
       "      <td>1</td>\n",
       "      <td>1</td>\n",
       "      <td>8</td>\n",
       "      <td>33</td>\n",
       "      <td>5</td>\n",
       "      <td>...</td>\n",
       "      <td>-99</td>\n",
       "      <td>-99</td>\n",
       "      <td>0</td>\n",
       "      <td>0</td>\n",
       "      <td>0</td>\n",
       "      <td>0</td>\n",
       "      <td>1</td>\n",
       "      <td>1</td>\n",
       "      <td>5254.0</td>\n",
       "      <td>22647.0</td>\n",
       "    </tr>\n",
       "    <tr>\n",
       "      <th>3</th>\n",
       "      <td>4</td>\n",
       "      <td>2.0</td>\n",
       "      <td>0</td>\n",
       "      <td>55</td>\n",
       "      <td>5</td>\n",
       "      <td>1</td>\n",
       "      <td>7</td>\n",
       "      <td>7</td>\n",
       "      <td>52</td>\n",
       "      <td>1</td>\n",
       "      <td>...</td>\n",
       "      <td>1</td>\n",
       "      <td>-99</td>\n",
       "      <td>0</td>\n",
       "      <td>0</td>\n",
       "      <td>0</td>\n",
       "      <td>0</td>\n",
       "      <td>0</td>\n",
       "      <td>0</td>\n",
       "      <td>NaN</td>\n",
       "      <td>NaN</td>\n",
       "    </tr>\n",
       "    <tr>\n",
       "      <th>4</th>\n",
       "      <td>1</td>\n",
       "      <td>2.0</td>\n",
       "      <td>0</td>\n",
       "      <td>45</td>\n",
       "      <td>1</td>\n",
       "      <td>1</td>\n",
       "      <td>4</td>\n",
       "      <td>2</td>\n",
       "      <td>47</td>\n",
       "      <td>2</td>\n",
       "      <td>...</td>\n",
       "      <td>-99</td>\n",
       "      <td>-99</td>\n",
       "      <td>0</td>\n",
       "      <td>0</td>\n",
       "      <td>0</td>\n",
       "      <td>0</td>\n",
       "      <td>0</td>\n",
       "      <td>1</td>\n",
       "      <td>10229.0</td>\n",
       "      <td>1729.0</td>\n",
       "    </tr>\n",
       "    <tr>\n",
       "      <th>...</th>\n",
       "      <td>...</td>\n",
       "      <td>...</td>\n",
       "      <td>...</td>\n",
       "      <td>...</td>\n",
       "      <td>...</td>\n",
       "      <td>...</td>\n",
       "      <td>...</td>\n",
       "      <td>...</td>\n",
       "      <td>...</td>\n",
       "      <td>...</td>\n",
       "      <td>...</td>\n",
       "      <td>...</td>\n",
       "      <td>...</td>\n",
       "      <td>...</td>\n",
       "      <td>...</td>\n",
       "      <td>...</td>\n",
       "      <td>...</td>\n",
       "      <td>...</td>\n",
       "      <td>...</td>\n",
       "      <td>...</td>\n",
       "      <td>...</td>\n",
       "    </tr>\n",
       "    <tr>\n",
       "      <th>71231</th>\n",
       "      <td>1</td>\n",
       "      <td>2.0</td>\n",
       "      <td>0</td>\n",
       "      <td>45</td>\n",
       "      <td>1</td>\n",
       "      <td>1</td>\n",
       "      <td>7</td>\n",
       "      <td>1</td>\n",
       "      <td>34</td>\n",
       "      <td>0</td>\n",
       "      <td>...</td>\n",
       "      <td>-99</td>\n",
       "      <td>-99</td>\n",
       "      <td>0</td>\n",
       "      <td>0</td>\n",
       "      <td>0</td>\n",
       "      <td>0</td>\n",
       "      <td>0</td>\n",
       "      <td>1</td>\n",
       "      <td>NaN</td>\n",
       "      <td>2469.0</td>\n",
       "    </tr>\n",
       "    <tr>\n",
       "      <th>71232</th>\n",
       "      <td>6</td>\n",
       "      <td>2.0</td>\n",
       "      <td>0</td>\n",
       "      <td>75</td>\n",
       "      <td>3</td>\n",
       "      <td>1</td>\n",
       "      <td>1</td>\n",
       "      <td>2</td>\n",
       "      <td>26</td>\n",
       "      <td>0</td>\n",
       "      <td>...</td>\n",
       "      <td>-99</td>\n",
       "      <td>-99</td>\n",
       "      <td>0</td>\n",
       "      <td>0</td>\n",
       "      <td>0</td>\n",
       "      <td>0</td>\n",
       "      <td>0</td>\n",
       "      <td>0</td>\n",
       "      <td>5254.0</td>\n",
       "      <td>22647.0</td>\n",
       "    </tr>\n",
       "    <tr>\n",
       "      <th>71233</th>\n",
       "      <td>4</td>\n",
       "      <td>2.0</td>\n",
       "      <td>0</td>\n",
       "      <td>65</td>\n",
       "      <td>1</td>\n",
       "      <td>1</td>\n",
       "      <td>7</td>\n",
       "      <td>3</td>\n",
       "      <td>44</td>\n",
       "      <td>1</td>\n",
       "      <td>...</td>\n",
       "      <td>-99</td>\n",
       "      <td>1</td>\n",
       "      <td>0</td>\n",
       "      <td>0</td>\n",
       "      <td>0</td>\n",
       "      <td>0</td>\n",
       "      <td>0</td>\n",
       "      <td>1</td>\n",
       "      <td>1130.0</td>\n",
       "      <td>NaN</td>\n",
       "    </tr>\n",
       "    <tr>\n",
       "      <th>71234</th>\n",
       "      <td>0</td>\n",
       "      <td>2.0</td>\n",
       "      <td>1</td>\n",
       "      <td>65</td>\n",
       "      <td>1</td>\n",
       "      <td>1</td>\n",
       "      <td>7</td>\n",
       "      <td>1</td>\n",
       "      <td>12</td>\n",
       "      <td>0</td>\n",
       "      <td>...</td>\n",
       "      <td>-99</td>\n",
       "      <td>1</td>\n",
       "      <td>0</td>\n",
       "      <td>0</td>\n",
       "      <td>0</td>\n",
       "      <td>0</td>\n",
       "      <td>0</td>\n",
       "      <td>0</td>\n",
       "      <td>NaN</td>\n",
       "      <td>22647.0</td>\n",
       "    </tr>\n",
       "    <tr>\n",
       "      <th>71235</th>\n",
       "      <td>0</td>\n",
       "      <td>2.0</td>\n",
       "      <td>0</td>\n",
       "      <td>75</td>\n",
       "      <td>3</td>\n",
       "      <td>1</td>\n",
       "      <td>1</td>\n",
       "      <td>4</td>\n",
       "      <td>47</td>\n",
       "      <td>0</td>\n",
       "      <td>...</td>\n",
       "      <td>-99</td>\n",
       "      <td>1</td>\n",
       "      <td>0</td>\n",
       "      <td>0</td>\n",
       "      <td>0</td>\n",
       "      <td>0</td>\n",
       "      <td>0</td>\n",
       "      <td>1</td>\n",
       "      <td>NaN</td>\n",
       "      <td>3522.0</td>\n",
       "    </tr>\n",
       "  </tbody>\n",
       "</table>\n",
       "<p>71236 rows × 28 columns</p>\n",
       "</div>"
      ],
      "text/plain": [
       "       service_utilization  race  gender  age  admission_type_id  \\\n",
       "0                        0   2.0       1   85                  3   \n",
       "1                        0   2.0       0   75                  3   \n",
       "2                        0   2.0       1   75                  3   \n",
       "3                        4   2.0       0   55                  5   \n",
       "4                        1   2.0       0   45                  1   \n",
       "...                    ...   ...     ...  ...                ...   \n",
       "71231                    1   2.0       0   45                  1   \n",
       "71232                    6   2.0       0   75                  3   \n",
       "71233                    4   2.0       0   65                  1   \n",
       "71234                    0   2.0       1   65                  1   \n",
       "71235                    0   2.0       0   75                  3   \n",
       "\n",
       "       discharge_disposition_id  admission_source_id  time_in_hospital  \\\n",
       "0                             1                    7                 5   \n",
       "1                             4                    1                 3   \n",
       "2                             1                    1                 8   \n",
       "3                             1                    7                 7   \n",
       "4                             1                    4                 2   \n",
       "...                         ...                  ...               ...   \n",
       "71231                         1                    7                 1   \n",
       "71232                         1                    1                 2   \n",
       "71233                         1                    7                 3   \n",
       "71234                         1                    7                 1   \n",
       "71235                         1                    1                 4   \n",
       "\n",
       "       num_lab_procedures  num_procedures  ...  max_glu_serum  A1Cresult  \\\n",
       "0                      40               2  ...            -99          1   \n",
       "1                      22               1  ...            -99        -99   \n",
       "2                      33               5  ...            -99        -99   \n",
       "3                      52               1  ...              1        -99   \n",
       "4                      47               2  ...            -99        -99   \n",
       "...                   ...             ...  ...            ...        ...   \n",
       "71231                  34               0  ...            -99        -99   \n",
       "71232                  26               0  ...            -99        -99   \n",
       "71233                  44               1  ...            -99          1   \n",
       "71234                  12               0  ...            -99          1   \n",
       "71235                  47               0  ...            -99          1   \n",
       "\n",
       "       metformin  repaglinide  pioglitazone  rosiglitazone  num_med_changed  \\\n",
       "0              0            0             0              0                0   \n",
       "1              0            0             0              0                0   \n",
       "2              0            0             0              0                1   \n",
       "3              0            0             0              0                0   \n",
       "4              0            0             0              0                0   \n",
       "...          ...          ...           ...            ...              ...   \n",
       "71231          0            0             0              0                0   \n",
       "71232          0            0             0              0                0   \n",
       "71233          0            0             0              0                0   \n",
       "71234          0            0             0              0                0   \n",
       "71235          0            0             0              0                0   \n",
       "\n",
       "       num_med_taken  medical_specialty_freq  payer_code_freq  \n",
       "0                  2                  5252.0          22647.0  \n",
       "1                  1                   978.0              NaN  \n",
       "2                  1                  5254.0          22647.0  \n",
       "3                  0                     NaN              NaN  \n",
       "4                  1                 10229.0           1729.0  \n",
       "...              ...                     ...              ...  \n",
       "71231              1                     NaN           2469.0  \n",
       "71232              0                  5254.0          22647.0  \n",
       "71233              1                  1130.0              NaN  \n",
       "71234              0                     NaN          22647.0  \n",
       "71235              1                     NaN           3522.0  \n",
       "\n",
       "[71236 rows x 28 columns]"
      ]
     },
     "execution_count": 71,
     "metadata": {},
     "output_type": "execute_result"
    }
   ],
   "source": [
    "train"
   ]
  },
  {
   "cell_type": "code",
   "execution_count": 72,
   "id": "7069d491",
   "metadata": {
    "execution": {
     "iopub.execute_input": "2023-03-15T11:58:33.156094Z",
     "iopub.status.busy": "2023-03-15T11:58:33.155660Z",
     "iopub.status.idle": "2023-03-15T11:58:33.169284Z",
     "shell.execute_reply": "2023-03-15T11:58:33.168460Z"
    },
    "papermill": {
     "duration": 0.069858,
     "end_time": "2023-03-15T11:58:33.171437",
     "exception": false,
     "start_time": "2023-03-15T11:58:33.101579",
     "status": "completed"
    },
    "tags": []
   },
   "outputs": [
    {
     "data": {
      "text/plain": [
       "medical_specialty_freq      34987\n",
       "payer_code_freq             28218\n",
       "race                         1592\n",
       "diag_3                       1009\n",
       "diag_2                        245\n",
       "diag_1                         12\n",
       "change                          0\n",
       "num_med_taken                   0\n",
       "num_med_changed                 0\n",
       "rosiglitazone                   0\n",
       "pioglitazone                    0\n",
       "repaglinide                     0\n",
       "metformin                       0\n",
       "A1Cresult                       0\n",
       "max_glu_serum                   0\n",
       "diabetesMed                     0\n",
       "service_utilization             0\n",
       "insulin                         0\n",
       "num_medications                 0\n",
       "num_procedures                  0\n",
       "num_lab_procedures              0\n",
       "time_in_hospital                0\n",
       "admission_source_id             0\n",
       "discharge_disposition_id        0\n",
       "admission_type_id               0\n",
       "age                             0\n",
       "gender                          0\n",
       "number_diagnoses                0\n",
       "dtype: int64"
      ]
     },
     "execution_count": 72,
     "metadata": {},
     "output_type": "execute_result"
    }
   ],
   "source": [
    "train.isna().sum().sort_values(ascending=False)"
   ]
  },
  {
   "cell_type": "markdown",
   "id": "6fe6de38",
   "metadata": {
    "papermill": {
     "duration": 0.053984,
     "end_time": "2023-03-15T11:58:33.277859",
     "exception": false,
     "start_time": "2023-03-15T11:58:33.223875",
     "status": "completed"
    },
    "tags": []
   },
   "source": [
    "## Imputation for completing missing values using k-Nearest Neighbors."
   ]
  },
  {
   "cell_type": "code",
   "execution_count": 73,
   "id": "99decd57",
   "metadata": {
    "execution": {
     "iopub.execute_input": "2023-03-15T11:58:33.386973Z",
     "iopub.status.busy": "2023-03-15T11:58:33.386176Z",
     "iopub.status.idle": "2023-03-15T12:04:58.681698Z",
     "shell.execute_reply": "2023-03-15T12:04:58.680065Z"
    },
    "papermill": {
     "duration": 385.353536,
     "end_time": "2023-03-15T12:04:58.684635",
     "exception": false,
     "start_time": "2023-03-15T11:58:33.331099",
     "status": "completed"
    },
    "tags": []
   },
   "outputs": [],
   "source": [
    "from sklearn.impute import KNNImputer\n",
    "\n",
    "# initialize KNNImputer object\n",
    "imputer = KNNImputer(n_neighbors=5)\n",
    "\n",
    "# fill missing values with KNN algorithm\n",
    "train = pd.DataFrame(imputer.fit_transform(train), columns=train.columns)\n",
    "\n",
    "test = pd.DataFrame(imputer.fit_transform(test), columns=test.columns)"
   ]
  },
  {
   "cell_type": "code",
   "execution_count": 74,
   "id": "b908ec46",
   "metadata": {
    "execution": {
     "iopub.execute_input": "2023-03-15T12:04:58.796704Z",
     "iopub.status.busy": "2023-03-15T12:04:58.796213Z",
     "iopub.status.idle": "2023-03-15T12:04:58.806299Z",
     "shell.execute_reply": "2023-03-15T12:04:58.805141Z"
    },
    "papermill": {
     "duration": 0.069415,
     "end_time": "2023-03-15T12:04:58.808860",
     "exception": false,
     "start_time": "2023-03-15T12:04:58.739445",
     "status": "completed"
    },
    "tags": []
   },
   "outputs": [],
   "source": [
    "trainCopy1=train.copy()\n",
    "testCopy1=test.copy()"
   ]
  },
  {
   "cell_type": "markdown",
   "id": "36e85fdf",
   "metadata": {
    "papermill": {
     "duration": 0.054761,
     "end_time": "2023-03-15T12:04:58.919542",
     "exception": false,
     "start_time": "2023-03-15T12:04:58.864781",
     "status": "completed"
    },
    "tags": []
   },
   "source": [
    "# StandardScaler"
   ]
  },
  {
   "cell_type": "code",
   "execution_count": 75,
   "id": "32d701c8",
   "metadata": {
    "execution": {
     "iopub.execute_input": "2023-03-15T12:04:59.031546Z",
     "iopub.status.busy": "2023-03-15T12:04:59.030060Z",
     "iopub.status.idle": "2023-03-15T12:04:59.111762Z",
     "shell.execute_reply": "2023-03-15T12:04:59.110463Z"
    },
    "papermill": {
     "duration": 0.140405,
     "end_time": "2023-03-15T12:04:59.114766",
     "exception": false,
     "start_time": "2023-03-15T12:04:58.974361",
     "status": "completed"
    },
    "tags": []
   },
   "outputs": [],
   "source": [
    "from sklearn.preprocessing import StandardScaler\n",
    "scaler = StandardScaler().fit(train[train.columns])\n",
    "scaled_trian = scaler.transform(train[train.columns])\n",
    "scaled_test = scaler.transform(test[test.columns])\n",
    "\n",
    "train[train.columns]=scaled_trian\n",
    "test[test.columns]=scaled_test"
   ]
  },
  {
   "cell_type": "code",
   "execution_count": 76,
   "id": "ae05dca6",
   "metadata": {
    "execution": {
     "iopub.execute_input": "2023-03-15T12:04:59.225769Z",
     "iopub.status.busy": "2023-03-15T12:04:59.225306Z",
     "iopub.status.idle": "2023-03-15T12:04:59.231665Z",
     "shell.execute_reply": "2023-03-15T12:04:59.230484Z"
    },
    "id": "OWCOPHGuRxgz",
    "outputId": "14c69d6a-49a6-443c-da60-eb16a96a4f48",
    "papermill": {
     "duration": 0.065678,
     "end_time": "2023-03-15T12:04:59.234504",
     "exception": false,
     "start_time": "2023-03-15T12:04:59.168826",
     "status": "completed"
    },
    "tags": []
   },
   "outputs": [
    {
     "name": "stdout",
     "output_type": "stream",
     "text": [
      "train.shape  (71236, 28)\n",
      "test.shape  (30530, 28)\n"
     ]
    }
   ],
   "source": [
    "print('train.shape ',train.shape )\n",
    "print('test.shape ', test.shape)"
   ]
  },
  {
   "cell_type": "code",
   "execution_count": 77,
   "id": "293e2de4",
   "metadata": {
    "execution": {
     "iopub.execute_input": "2023-03-15T12:04:59.343212Z",
     "iopub.status.busy": "2023-03-15T12:04:59.342737Z",
     "iopub.status.idle": "2023-03-15T12:04:59.347223Z",
     "shell.execute_reply": "2023-03-15T12:04:59.346370Z"
    },
    "id": "_f6sn-zQS1oA",
    "outputId": "09836aad-f6ca-4173-db21-70cc34e2947a",
    "papermill": {
     "duration": 0.061437,
     "end_time": "2023-03-15T12:04:59.349404",
     "exception": false,
     "start_time": "2023-03-15T12:04:59.287967",
     "status": "completed"
    },
    "tags": []
   },
   "outputs": [],
   "source": [
    "# from collections import Counter \n",
    "# from imblearn.over_sampling import SMOTE\n",
    "# print(\"Before OverSampling count of labels : {} \".format(Counter(target)))\n",
    "# smote=SMOTE()\n",
    "\n",
    "# train_with_smote,target_with_smote=train,target\n",
    "# train_with_smote,target_with_smote=smote.fit_resample(train_with_smote,target_with_smote)\n",
    "\n",
    "# print(\"After OverSampling count of labels : {} \".format(Counter(target_with_smote)))"
   ]
  },
  {
   "cell_type": "code",
   "execution_count": 78,
   "id": "0481c2f2",
   "metadata": {
    "execution": {
     "iopub.execute_input": "2023-03-15T12:04:59.459761Z",
     "iopub.status.busy": "2023-03-15T12:04:59.458413Z",
     "iopub.status.idle": "2023-03-15T12:04:59.463656Z",
     "shell.execute_reply": "2023-03-15T12:04:59.462730Z"
    },
    "id": "CLK1MsLVS1lH",
    "outputId": "8f0682e5-5508-4c1f-8959-a47fe4c18fe7",
    "papermill": {
     "duration": 0.06222,
     "end_time": "2023-03-15T12:04:59.465789",
     "exception": false,
     "start_time": "2023-03-15T12:04:59.403569",
     "status": "completed"
    },
    "tags": []
   },
   "outputs": [],
   "source": [
    "# plt.figure(figsize=(12,8))\n",
    "# target_with_smote.value_counts().plot(kind='pie', title='Distribution of predicted classes',autopct='%1.1f%%')"
   ]
  },
  {
   "cell_type": "code",
   "execution_count": 79,
   "id": "e3f313ee",
   "metadata": {
    "execution": {
     "iopub.execute_input": "2023-03-15T12:04:59.574875Z",
     "iopub.status.busy": "2023-03-15T12:04:59.573695Z",
     "iopub.status.idle": "2023-03-15T12:04:59.626802Z",
     "shell.execute_reply": "2023-03-15T12:04:59.625616Z"
    },
    "id": "mz9GBa2bWcNY",
    "outputId": "d595fc96-44ce-46a1-89d3-be6288aeca84",
    "papermill": {
     "duration": 0.110311,
     "end_time": "2023-03-15T12:04:59.629373",
     "exception": false,
     "start_time": "2023-03-15T12:04:59.519062",
     "status": "completed"
    },
    "tags": []
   },
   "outputs": [
    {
     "data": {
      "text/html": [
       "<div>\n",
       "<style scoped>\n",
       "    .dataframe tbody tr th:only-of-type {\n",
       "        vertical-align: middle;\n",
       "    }\n",
       "\n",
       "    .dataframe tbody tr th {\n",
       "        vertical-align: top;\n",
       "    }\n",
       "\n",
       "    .dataframe thead th {\n",
       "        text-align: right;\n",
       "    }\n",
       "</style>\n",
       "<table border=\"1\" class=\"dataframe\">\n",
       "  <thead>\n",
       "    <tr style=\"text-align: right;\">\n",
       "      <th></th>\n",
       "      <th>service_utilization</th>\n",
       "      <th>race</th>\n",
       "      <th>gender</th>\n",
       "      <th>age</th>\n",
       "      <th>admission_type_id</th>\n",
       "      <th>discharge_disposition_id</th>\n",
       "      <th>admission_source_id</th>\n",
       "      <th>time_in_hospital</th>\n",
       "      <th>num_lab_procedures</th>\n",
       "      <th>num_procedures</th>\n",
       "      <th>...</th>\n",
       "      <th>A1Cresult</th>\n",
       "      <th>metformin</th>\n",
       "      <th>repaglinide</th>\n",
       "      <th>pioglitazone</th>\n",
       "      <th>rosiglitazone</th>\n",
       "      <th>num_med_changed</th>\n",
       "      <th>num_med_taken</th>\n",
       "      <th>medical_specialty_freq</th>\n",
       "      <th>payer_code_freq</th>\n",
       "      <th>readmitted</th>\n",
       "    </tr>\n",
       "  </thead>\n",
       "  <tbody>\n",
       "    <tr>\n",
       "      <th>0</th>\n",
       "      <td>-0.531502</td>\n",
       "      <td>0.297995</td>\n",
       "      <td>0.92736</td>\n",
       "      <td>1.193988</td>\n",
       "      <td>0.914930</td>\n",
       "      <td>-0.398651</td>\n",
       "      <td>0.647893</td>\n",
       "      <td>0.201862</td>\n",
       "      <td>-0.157699</td>\n",
       "      <td>0.388500</td>\n",
       "      <td>...</td>\n",
       "      <td>2.247138</td>\n",
       "      <td>-0.495077</td>\n",
       "      <td>-0.122548</td>\n",
       "      <td>-0.279099</td>\n",
       "      <td>-0.257665</td>\n",
       "      <td>-0.588547</td>\n",
       "      <td>0.889756</td>\n",
       "      <td>-0.012684</td>\n",
       "      <td>1.097418</td>\n",
       "      <td>1</td>\n",
       "    </tr>\n",
       "    <tr>\n",
       "      <th>1</th>\n",
       "      <td>-0.531502</td>\n",
       "      <td>0.297995</td>\n",
       "      <td>-1.07833</td>\n",
       "      <td>0.567021</td>\n",
       "      <td>0.914930</td>\n",
       "      <td>0.361943</td>\n",
       "      <td>-1.436970</td>\n",
       "      <td>-0.468620</td>\n",
       "      <td>-1.073498</td>\n",
       "      <td>-0.197752</td>\n",
       "      <td>...</td>\n",
       "      <td>-0.446560</td>\n",
       "      <td>-0.495077</td>\n",
       "      <td>-0.122548</td>\n",
       "      <td>-0.279099</td>\n",
       "      <td>-0.257665</td>\n",
       "      <td>-0.588547</td>\n",
       "      <td>-0.198284</td>\n",
       "      <td>-1.407815</td>\n",
       "      <td>1.097418</td>\n",
       "      <td>2</td>\n",
       "    </tr>\n",
       "    <tr>\n",
       "      <th>2</th>\n",
       "      <td>-0.531502</td>\n",
       "      <td>0.297995</td>\n",
       "      <td>0.92736</td>\n",
       "      <td>0.567021</td>\n",
       "      <td>0.914930</td>\n",
       "      <td>-0.398651</td>\n",
       "      <td>-1.436970</td>\n",
       "      <td>1.207583</td>\n",
       "      <td>-0.513843</td>\n",
       "      <td>2.147255</td>\n",
       "      <td>...</td>\n",
       "      <td>-0.446560</td>\n",
       "      <td>-0.495077</td>\n",
       "      <td>-0.122548</td>\n",
       "      <td>-0.279099</td>\n",
       "      <td>-0.257665</td>\n",
       "      <td>1.462012</td>\n",
       "      <td>-0.198284</td>\n",
       "      <td>-0.012031</td>\n",
       "      <td>1.097418</td>\n",
       "      <td>2</td>\n",
       "    </tr>\n",
       "    <tr>\n",
       "      <th>3</th>\n",
       "      <td>1.247104</td>\n",
       "      <td>0.297995</td>\n",
       "      <td>-1.07833</td>\n",
       "      <td>-0.686912</td>\n",
       "      <td>2.416145</td>\n",
       "      <td>-0.398651</td>\n",
       "      <td>0.647893</td>\n",
       "      <td>0.872343</td>\n",
       "      <td>0.452833</td>\n",
       "      <td>-0.197752</td>\n",
       "      <td>...</td>\n",
       "      <td>-0.446560</td>\n",
       "      <td>-0.495077</td>\n",
       "      <td>-0.122548</td>\n",
       "      <td>-0.279099</td>\n",
       "      <td>-0.257665</td>\n",
       "      <td>-0.588547</td>\n",
       "      <td>-1.286323</td>\n",
       "      <td>1.087231</td>\n",
       "      <td>-0.151221</td>\n",
       "      <td>1</td>\n",
       "    </tr>\n",
       "    <tr>\n",
       "      <th>4</th>\n",
       "      <td>-0.086851</td>\n",
       "      <td>0.297995</td>\n",
       "      <td>-1.07833</td>\n",
       "      <td>-1.313879</td>\n",
       "      <td>-0.586284</td>\n",
       "      <td>-0.398651</td>\n",
       "      <td>-0.394538</td>\n",
       "      <td>-0.803860</td>\n",
       "      <td>0.198445</td>\n",
       "      <td>0.388500</td>\n",
       "      <td>...</td>\n",
       "      <td>-0.446560</td>\n",
       "      <td>-0.495077</td>\n",
       "      <td>-0.122548</td>\n",
       "      <td>-0.279099</td>\n",
       "      <td>-0.257665</td>\n",
       "      <td>-0.588547</td>\n",
       "      <td>-0.198284</td>\n",
       "      <td>1.611923</td>\n",
       "      <td>-1.285662</td>\n",
       "      <td>2</td>\n",
       "    </tr>\n",
       "    <tr>\n",
       "      <th>...</th>\n",
       "      <td>...</td>\n",
       "      <td>...</td>\n",
       "      <td>...</td>\n",
       "      <td>...</td>\n",
       "      <td>...</td>\n",
       "      <td>...</td>\n",
       "      <td>...</td>\n",
       "      <td>...</td>\n",
       "      <td>...</td>\n",
       "      <td>...</td>\n",
       "      <td>...</td>\n",
       "      <td>...</td>\n",
       "      <td>...</td>\n",
       "      <td>...</td>\n",
       "      <td>...</td>\n",
       "      <td>...</td>\n",
       "      <td>...</td>\n",
       "      <td>...</td>\n",
       "      <td>...</td>\n",
       "      <td>...</td>\n",
       "      <td>...</td>\n",
       "    </tr>\n",
       "    <tr>\n",
       "      <th>71231</th>\n",
       "      <td>-0.086851</td>\n",
       "      <td>0.297995</td>\n",
       "      <td>-1.07833</td>\n",
       "      <td>-1.313879</td>\n",
       "      <td>-0.586284</td>\n",
       "      <td>-0.398651</td>\n",
       "      <td>0.647893</td>\n",
       "      <td>-1.139101</td>\n",
       "      <td>-0.462965</td>\n",
       "      <td>-0.784003</td>\n",
       "      <td>...</td>\n",
       "      <td>-0.446560</td>\n",
       "      <td>-0.495077</td>\n",
       "      <td>-0.122548</td>\n",
       "      <td>-0.279099</td>\n",
       "      <td>-0.257665</td>\n",
       "      <td>-0.588547</td>\n",
       "      <td>-0.198284</td>\n",
       "      <td>-0.195676</td>\n",
       "      <td>-1.201357</td>\n",
       "      <td>1</td>\n",
       "    </tr>\n",
       "    <tr>\n",
       "      <th>71232</th>\n",
       "      <td>2.136408</td>\n",
       "      <td>0.297995</td>\n",
       "      <td>-1.07833</td>\n",
       "      <td>0.567021</td>\n",
       "      <td>0.914930</td>\n",
       "      <td>-0.398651</td>\n",
       "      <td>-1.436970</td>\n",
       "      <td>-0.803860</td>\n",
       "      <td>-0.869987</td>\n",
       "      <td>-0.784003</td>\n",
       "      <td>...</td>\n",
       "      <td>-0.446560</td>\n",
       "      <td>-0.495077</td>\n",
       "      <td>-0.122548</td>\n",
       "      <td>-0.279099</td>\n",
       "      <td>-0.257665</td>\n",
       "      <td>-0.588547</td>\n",
       "      <td>-1.286323</td>\n",
       "      <td>-0.012031</td>\n",
       "      <td>1.097418</td>\n",
       "      <td>2</td>\n",
       "    </tr>\n",
       "    <tr>\n",
       "      <th>71233</th>\n",
       "      <td>1.247104</td>\n",
       "      <td>0.297995</td>\n",
       "      <td>-1.07833</td>\n",
       "      <td>-0.059945</td>\n",
       "      <td>-0.586284</td>\n",
       "      <td>-0.398651</td>\n",
       "      <td>0.647893</td>\n",
       "      <td>-0.468620</td>\n",
       "      <td>0.045812</td>\n",
       "      <td>-0.197752</td>\n",
       "      <td>...</td>\n",
       "      <td>2.247138</td>\n",
       "      <td>-0.495077</td>\n",
       "      <td>-0.122548</td>\n",
       "      <td>-0.279099</td>\n",
       "      <td>-0.257665</td>\n",
       "      <td>-0.588547</td>\n",
       "      <td>-0.198284</td>\n",
       "      <td>-1.358199</td>\n",
       "      <td>0.240430</td>\n",
       "      <td>0</td>\n",
       "    </tr>\n",
       "    <tr>\n",
       "      <th>71234</th>\n",
       "      <td>-0.531502</td>\n",
       "      <td>0.297995</td>\n",
       "      <td>0.92736</td>\n",
       "      <td>-0.059945</td>\n",
       "      <td>-0.586284</td>\n",
       "      <td>-0.398651</td>\n",
       "      <td>0.647893</td>\n",
       "      <td>-1.139101</td>\n",
       "      <td>-1.582275</td>\n",
       "      <td>-0.784003</td>\n",
       "      <td>...</td>\n",
       "      <td>2.247138</td>\n",
       "      <td>-0.495077</td>\n",
       "      <td>-0.122548</td>\n",
       "      <td>-0.279099</td>\n",
       "      <td>-0.257665</td>\n",
       "      <td>-0.588547</td>\n",
       "      <td>-1.286323</td>\n",
       "      <td>-0.917005</td>\n",
       "      <td>1.097418</td>\n",
       "      <td>2</td>\n",
       "    </tr>\n",
       "    <tr>\n",
       "      <th>71235</th>\n",
       "      <td>-0.531502</td>\n",
       "      <td>0.297995</td>\n",
       "      <td>-1.07833</td>\n",
       "      <td>0.567021</td>\n",
       "      <td>0.914930</td>\n",
       "      <td>-0.398651</td>\n",
       "      <td>-1.436970</td>\n",
       "      <td>-0.133379</td>\n",
       "      <td>0.198445</td>\n",
       "      <td>-0.784003</td>\n",
       "      <td>...</td>\n",
       "      <td>2.247138</td>\n",
       "      <td>-0.495077</td>\n",
       "      <td>-0.122548</td>\n",
       "      <td>-0.279099</td>\n",
       "      <td>-0.257665</td>\n",
       "      <td>-0.588547</td>\n",
       "      <td>-0.198284</td>\n",
       "      <td>0.866504</td>\n",
       "      <td>-1.081395</td>\n",
       "      <td>2</td>\n",
       "    </tr>\n",
       "  </tbody>\n",
       "</table>\n",
       "<p>71236 rows × 29 columns</p>\n",
       "</div>"
      ],
      "text/plain": [
       "       service_utilization      race   gender       age  admission_type_id  \\\n",
       "0                -0.531502  0.297995  0.92736  1.193988           0.914930   \n",
       "1                -0.531502  0.297995 -1.07833  0.567021           0.914930   \n",
       "2                -0.531502  0.297995  0.92736  0.567021           0.914930   \n",
       "3                 1.247104  0.297995 -1.07833 -0.686912           2.416145   \n",
       "4                -0.086851  0.297995 -1.07833 -1.313879          -0.586284   \n",
       "...                    ...       ...      ...       ...                ...   \n",
       "71231            -0.086851  0.297995 -1.07833 -1.313879          -0.586284   \n",
       "71232             2.136408  0.297995 -1.07833  0.567021           0.914930   \n",
       "71233             1.247104  0.297995 -1.07833 -0.059945          -0.586284   \n",
       "71234            -0.531502  0.297995  0.92736 -0.059945          -0.586284   \n",
       "71235            -0.531502  0.297995 -1.07833  0.567021           0.914930   \n",
       "\n",
       "       discharge_disposition_id  admission_source_id  time_in_hospital  \\\n",
       "0                     -0.398651             0.647893          0.201862   \n",
       "1                      0.361943            -1.436970         -0.468620   \n",
       "2                     -0.398651            -1.436970          1.207583   \n",
       "3                     -0.398651             0.647893          0.872343   \n",
       "4                     -0.398651            -0.394538         -0.803860   \n",
       "...                         ...                  ...               ...   \n",
       "71231                 -0.398651             0.647893         -1.139101   \n",
       "71232                 -0.398651            -1.436970         -0.803860   \n",
       "71233                 -0.398651             0.647893         -0.468620   \n",
       "71234                 -0.398651             0.647893         -1.139101   \n",
       "71235                 -0.398651            -1.436970         -0.133379   \n",
       "\n",
       "       num_lab_procedures  num_procedures  ...  A1Cresult  metformin  \\\n",
       "0               -0.157699        0.388500  ...   2.247138  -0.495077   \n",
       "1               -1.073498       -0.197752  ...  -0.446560  -0.495077   \n",
       "2               -0.513843        2.147255  ...  -0.446560  -0.495077   \n",
       "3                0.452833       -0.197752  ...  -0.446560  -0.495077   \n",
       "4                0.198445        0.388500  ...  -0.446560  -0.495077   \n",
       "...                   ...             ...  ...        ...        ...   \n",
       "71231           -0.462965       -0.784003  ...  -0.446560  -0.495077   \n",
       "71232           -0.869987       -0.784003  ...  -0.446560  -0.495077   \n",
       "71233            0.045812       -0.197752  ...   2.247138  -0.495077   \n",
       "71234           -1.582275       -0.784003  ...   2.247138  -0.495077   \n",
       "71235            0.198445       -0.784003  ...   2.247138  -0.495077   \n",
       "\n",
       "       repaglinide  pioglitazone  rosiglitazone  num_med_changed  \\\n",
       "0        -0.122548     -0.279099      -0.257665        -0.588547   \n",
       "1        -0.122548     -0.279099      -0.257665        -0.588547   \n",
       "2        -0.122548     -0.279099      -0.257665         1.462012   \n",
       "3        -0.122548     -0.279099      -0.257665        -0.588547   \n",
       "4        -0.122548     -0.279099      -0.257665        -0.588547   \n",
       "...            ...           ...            ...              ...   \n",
       "71231    -0.122548     -0.279099      -0.257665        -0.588547   \n",
       "71232    -0.122548     -0.279099      -0.257665        -0.588547   \n",
       "71233    -0.122548     -0.279099      -0.257665        -0.588547   \n",
       "71234    -0.122548     -0.279099      -0.257665        -0.588547   \n",
       "71235    -0.122548     -0.279099      -0.257665        -0.588547   \n",
       "\n",
       "       num_med_taken  medical_specialty_freq  payer_code_freq  readmitted  \n",
       "0           0.889756               -0.012684         1.097418           1  \n",
       "1          -0.198284               -1.407815         1.097418           2  \n",
       "2          -0.198284               -0.012031         1.097418           2  \n",
       "3          -1.286323                1.087231        -0.151221           1  \n",
       "4          -0.198284                1.611923        -1.285662           2  \n",
       "...              ...                     ...              ...         ...  \n",
       "71231      -0.198284               -0.195676        -1.201357           1  \n",
       "71232      -1.286323               -0.012031         1.097418           2  \n",
       "71233      -0.198284               -1.358199         0.240430           0  \n",
       "71234      -1.286323               -0.917005         1.097418           2  \n",
       "71235      -0.198284                0.866504        -1.081395           2  \n",
       "\n",
       "[71236 rows x 29 columns]"
      ]
     },
     "execution_count": 79,
     "metadata": {},
     "output_type": "execute_result"
    }
   ],
   "source": [
    "train = pd.concat([train, target], axis=1)\n",
    "train"
   ]
  },
  {
   "cell_type": "code",
   "execution_count": 80,
   "id": "31e697c1",
   "metadata": {
    "execution": {
     "iopub.execute_input": "2023-03-15T12:04:59.739788Z",
     "iopub.status.busy": "2023-03-15T12:04:59.738366Z",
     "iopub.status.idle": "2023-03-15T12:04:59.744530Z",
     "shell.execute_reply": "2023-03-15T12:04:59.742992Z"
    },
    "papermill": {
     "duration": 0.063949,
     "end_time": "2023-03-15T12:04:59.746987",
     "exception": false,
     "start_time": "2023-03-15T12:04:59.683038",
     "status": "completed"
    },
    "tags": []
   },
   "outputs": [],
   "source": [
    "# train_with_smote=pd.concat([train_with_smote,target_with_smote],axis=1)"
   ]
  },
  {
   "cell_type": "code",
   "execution_count": 81,
   "id": "6d2b16c2",
   "metadata": {
    "execution": {
     "iopub.execute_input": "2023-03-15T12:04:59.858030Z",
     "iopub.status.busy": "2023-03-15T12:04:59.857558Z",
     "iopub.status.idle": "2023-03-15T12:04:59.907181Z",
     "shell.execute_reply": "2023-03-15T12:04:59.905974Z"
    },
    "id": "4d45gK0uVMfx",
    "papermill": {
     "duration": 0.109461,
     "end_time": "2023-03-15T12:04:59.910253",
     "exception": false,
     "start_time": "2023-03-15T12:04:59.800792",
     "status": "completed"
    },
    "tags": []
   },
   "outputs": [],
   "source": [
    "from sklearn.model_selection import train_test_split\n",
    "train_df, val_df = train_test_split(train, test_size=0.2,stratify=target, random_state=0)\n"
   ]
  },
  {
   "cell_type": "code",
   "execution_count": 82,
   "id": "78a6f771",
   "metadata": {
    "execution": {
     "iopub.execute_input": "2023-03-15T12:05:00.021683Z",
     "iopub.status.busy": "2023-03-15T12:05:00.021165Z",
     "iopub.status.idle": "2023-03-15T12:05:00.026801Z",
     "shell.execute_reply": "2023-03-15T12:05:00.025299Z"
    },
    "papermill": {
     "duration": 0.064129,
     "end_time": "2023-03-15T12:05:00.029015",
     "exception": false,
     "start_time": "2023-03-15T12:04:59.964886",
     "status": "completed"
    },
    "tags": []
   },
   "outputs": [],
   "source": [
    "# from sklearn.model_selection import train_test_split\n",
    "# train_df2, val_df2 = train_test_split(train_with_smote, test_size=0.1, random_state=0) # Try adding `stratify` here"
   ]
  },
  {
   "cell_type": "code",
   "execution_count": 83,
   "id": "785d6352",
   "metadata": {
    "execution": {
     "iopub.execute_input": "2023-03-15T12:05:00.141472Z",
     "iopub.status.busy": "2023-03-15T12:05:00.141001Z",
     "iopub.status.idle": "2023-03-15T12:05:00.154879Z",
     "shell.execute_reply": "2023-03-15T12:05:00.153793Z"
    },
    "papermill": {
     "duration": 0.074541,
     "end_time": "2023-03-15T12:05:00.157636",
     "exception": false,
     "start_time": "2023-03-15T12:05:00.083095",
     "status": "completed"
    },
    "tags": []
   },
   "outputs": [],
   "source": [
    "y_train = train_df['readmitted']\n",
    "X_train = train_df.drop(columns='readmitted')\n",
    "\n",
    "y_val = val_df['readmitted']\n",
    "X_val = val_df.drop(columns='readmitted')"
   ]
  },
  {
   "cell_type": "code",
   "execution_count": 84,
   "id": "5fe3be91",
   "metadata": {
    "execution": {
     "iopub.execute_input": "2023-03-15T12:05:00.272137Z",
     "iopub.status.busy": "2023-03-15T12:05:00.271313Z",
     "iopub.status.idle": "2023-03-15T12:05:00.278979Z",
     "shell.execute_reply": "2023-03-15T12:05:00.278177Z"
    },
    "papermill": {
     "duration": 0.068191,
     "end_time": "2023-03-15T12:05:00.281448",
     "exception": false,
     "start_time": "2023-03-15T12:05:00.213257",
     "status": "completed"
    },
    "tags": []
   },
   "outputs": [
    {
     "name": "stdout",
     "output_type": "stream",
     "text": [
      "2    38405\n",
      "1    24881\n",
      "0     7950\n",
      "Name: readmitted, dtype: int64\n"
     ]
    }
   ],
   "source": [
    "print(target.value_counts())"
   ]
  },
  {
   "cell_type": "markdown",
   "id": "71a5da43",
   "metadata": {
    "papermill": {
     "duration": 0.131823,
     "end_time": "2023-03-15T12:05:00.470460",
     "exception": false,
     "start_time": "2023-03-15T12:05:00.338637",
     "status": "completed"
    },
    "tags": []
   },
   "source": [
    "**Up Sampling**"
   ]
  },
  {
   "cell_type": "code",
   "execution_count": 85,
   "id": "2f3f67e0",
   "metadata": {
    "execution": {
     "iopub.execute_input": "2023-03-15T12:05:00.585129Z",
     "iopub.status.busy": "2023-03-15T12:05:00.584311Z",
     "iopub.status.idle": "2023-03-15T12:05:00.589150Z",
     "shell.execute_reply": "2023-03-15T12:05:00.588289Z"
    },
    "papermill": {
     "duration": 0.064881,
     "end_time": "2023-03-15T12:05:00.591362",
     "exception": false,
     "start_time": "2023-03-15T12:05:00.526481",
     "status": "completed"
    },
    "tags": []
   },
   "outputs": [],
   "source": [
    "# from collections import Counter \n",
    "# from imblearn.over_sampling import SMOTE\n",
    "# print(\"Before OverSampling count of labels : {} \".format(Counter(target)))\n",
    "# smote=SMOTE()\n",
    "\n",
    "# X_train,y_train=smote.fit_resample(X_train,y_train)\n",
    "\n",
    "# print(\"After OverSampling count of labels : {} \".format(Counter(y_train)))"
   ]
  },
  {
   "cell_type": "markdown",
   "id": "e88f2c71",
   "metadata": {
    "papermill": {
     "duration": 0.055108,
     "end_time": "2023-03-15T12:05:00.701332",
     "exception": false,
     "start_time": "2023-03-15T12:05:00.646224",
     "status": "completed"
    },
    "tags": []
   },
   "source": [
    "**Down Sampling**"
   ]
  },
  {
   "cell_type": "code",
   "execution_count": 86,
   "id": "e3d4b434",
   "metadata": {
    "execution": {
     "iopub.execute_input": "2023-03-15T12:05:00.813547Z",
     "iopub.status.busy": "2023-03-15T12:05:00.813071Z",
     "iopub.status.idle": "2023-03-15T12:05:00.817645Z",
     "shell.execute_reply": "2023-03-15T12:05:00.816527Z"
    },
    "papermill": {
     "duration": 0.06352,
     "end_time": "2023-03-15T12:05:00.819829",
     "exception": false,
     "start_time": "2023-03-15T12:05:00.756309",
     "status": "completed"
    },
    "tags": []
   },
   "outputs": [],
   "source": [
    "# from collections import Counter\n",
    "# from imblearn.under_sampling import RandomUnderSampler\n",
    "\n",
    "# print(\"Before Undersampling count of labels: {}\".format(Counter(target)))\n",
    "\n",
    "# rus = RandomUnderSampler()\n",
    "# X_train, y_train = rus.fit_resample(X_train, y_train)\n",
    "\n",
    "# print(\"After Undersampling count of labels: {}\".format(Counter(y_train)))\n"
   ]
  },
  {
   "cell_type": "markdown",
   "id": "ef3811e1",
   "metadata": {
    "papermill": {
     "duration": 0.054919,
     "end_time": "2023-03-15T12:05:00.931252",
     "exception": false,
     "start_time": "2023-03-15T12:05:00.876333",
     "status": "completed"
    },
    "tags": []
   },
   "source": [
    "**Both**"
   ]
  },
  {
   "cell_type": "code",
   "execution_count": 87,
   "id": "ca173a0a",
   "metadata": {
    "execution": {
     "iopub.execute_input": "2023-03-15T12:05:01.045851Z",
     "iopub.status.busy": "2023-03-15T12:05:01.045345Z",
     "iopub.status.idle": "2023-03-15T12:05:10.512680Z",
     "shell.execute_reply": "2023-03-15T12:05:10.511734Z"
    },
    "papermill": {
     "duration": 9.528098,
     "end_time": "2023-03-15T12:05:10.515744",
     "exception": false,
     "start_time": "2023-03-15T12:05:00.987646",
     "status": "completed"
    },
    "tags": []
   },
   "outputs": [
    {
     "name": "stdout",
     "output_type": "stream",
     "text": [
      "Before Sampling count of labels: Counter({2: 38405, 1: 24881, 0: 7950})\n",
      "After Sampling count of labels: Counter({0: 30724, 1: 30724, 2: 30724})\n"
     ]
    }
   ],
   "source": [
    "from collections import Counter\n",
    "from imblearn.over_sampling import SMOTE\n",
    "from imblearn.under_sampling import RandomUnderSampler\n",
    "\n",
    "# Count the frequency of each label in the target column\n",
    "print(\"Before Sampling count of labels: {}\".format(Counter(target)))\n",
    "\n",
    "# Up-sampling using SMOTE\n",
    "smote = SMOTE()\n",
    "X_train_resampled, y_train_resampled = smote.fit_resample(X_train, y_train)\n",
    "\n",
    "# Down-sampling using RandomUnderSampler\n",
    "rus = RandomUnderSampler()\n",
    "X_train_resampled, y_train_resampled = rus.fit_resample(X_train_resampled, y_train_resampled)\n",
    "\n",
    "# Count the frequency of each label after sampling\n",
    "print(\"After Sampling count of labels: {}\".format(Counter(y_train_resampled)))\n"
   ]
  },
  {
   "cell_type": "code",
   "execution_count": 88,
   "id": "3234b7a5",
   "metadata": {
    "execution": {
     "iopub.execute_input": "2023-03-15T12:05:10.632102Z",
     "iopub.status.busy": "2023-03-15T12:05:10.631348Z",
     "iopub.status.idle": "2023-03-15T12:05:10.777544Z",
     "shell.execute_reply": "2023-03-15T12:05:10.776441Z"
    },
    "papermill": {
     "duration": 0.209643,
     "end_time": "2023-03-15T12:05:10.782997",
     "exception": false,
     "start_time": "2023-03-15T12:05:10.573354",
     "status": "completed"
    },
    "tags": []
   },
   "outputs": [
    {
     "data": {
      "text/plain": [
       "<AxesSubplot:title={'center':'Distribution of predicted classes'}, ylabel='readmitted'>"
      ]
     },
     "execution_count": 88,
     "metadata": {},
     "output_type": "execute_result"
    },
    {
     "data": {
      "image/png": "[encoded data removed]",
      "text/plain": [
       "<Figure size 864x576 with 1 Axes>"
      ]
     },
     "metadata": {},
     "output_type": "display_data"
    }
   ],
   "source": [
    "plt.figure(figsize=(12,8))\n",
    "y_train_resampled.value_counts().plot(kind='pie', title='Distribution of predicted classes',autopct='%1.1f%%')"
   ]
  },
  {
   "cell_type": "code",
   "execution_count": 89,
   "id": "5341da51",
   "metadata": {
    "execution": {
     "iopub.execute_input": "2023-03-15T12:05:10.923483Z",
     "iopub.status.busy": "2023-03-15T12:05:10.922972Z",
     "iopub.status.idle": "2023-03-15T12:05:10.930640Z",
     "shell.execute_reply": "2023-03-15T12:05:10.929466Z"
    },
    "papermill": {
     "duration": 0.068435,
     "end_time": "2023-03-15T12:05:10.932996",
     "exception": false,
     "start_time": "2023-03-15T12:05:10.864561",
     "status": "completed"
    },
    "tags": []
   },
   "outputs": [
    {
     "name": "stdout",
     "output_type": "stream",
     "text": [
      "0    30724\n",
      "1    30724\n",
      "2    30724\n",
      "Name: readmitted, dtype: int64\n"
     ]
    }
   ],
   "source": [
    "print(y_train_resampled.value_counts())"
   ]
  },
  {
   "cell_type": "code",
   "execution_count": 90,
   "id": "f7be4e62",
   "metadata": {
    "execution": {
     "iopub.execute_input": "2023-03-15T12:05:11.049621Z",
     "iopub.status.busy": "2023-03-15T12:05:11.048801Z",
     "iopub.status.idle": "2023-03-15T12:05:11.053841Z",
     "shell.execute_reply": "2023-03-15T12:05:11.052504Z"
    },
    "papermill": {
     "duration": 0.065701,
     "end_time": "2023-03-15T12:05:11.056330",
     "exception": false,
     "start_time": "2023-03-15T12:05:10.990629",
     "status": "completed"
    },
    "tags": []
   },
   "outputs": [],
   "source": [
    "y_train = y_train_resampled\n",
    "X_train = X_train_resampled"
   ]
  },
  {
   "cell_type": "code",
   "execution_count": 91,
   "id": "fb8feb99",
   "metadata": {
    "execution": {
     "iopub.execute_input": "2023-03-15T12:05:11.172245Z",
     "iopub.status.busy": "2023-03-15T12:05:11.171419Z",
     "iopub.status.idle": "2023-03-15T12:05:11.176095Z",
     "shell.execute_reply": "2023-03-15T12:05:11.174802Z"
    },
    "papermill": {
     "duration": 0.064861,
     "end_time": "2023-03-15T12:05:11.178432",
     "exception": false,
     "start_time": "2023-03-15T12:05:11.113571",
     "status": "completed"
    },
    "tags": []
   },
   "outputs": [],
   "source": [
    "# train_with_smote=pd.concat([train_with_smote,target_with_smote],axis=1)"
   ]
  },
  {
   "cell_type": "code",
   "execution_count": 92,
   "id": "b7f0e01c",
   "metadata": {
    "execution": {
     "iopub.execute_input": "2023-03-15T12:05:11.294181Z",
     "iopub.status.busy": "2023-03-15T12:05:11.293381Z",
     "iopub.status.idle": "2023-03-15T12:05:11.300017Z",
     "shell.execute_reply": "2023-03-15T12:05:11.298665Z"
    },
    "papermill": {
     "duration": 0.066908,
     "end_time": "2023-03-15T12:05:11.302279",
     "exception": false,
     "start_time": "2023-03-15T12:05:11.235371",
     "status": "completed"
    },
    "tags": []
   },
   "outputs": [
    {
     "data": {
      "text/plain": [
       "(56988, 29)"
      ]
     },
     "execution_count": 92,
     "metadata": {},
     "output_type": "execute_result"
    }
   ],
   "source": [
    "train_df.shape"
   ]
  },
  {
   "cell_type": "code",
   "execution_count": 93,
   "id": "3285e697",
   "metadata": {
    "execution": {
     "iopub.execute_input": "2023-03-15T12:05:11.418587Z",
     "iopub.status.busy": "2023-03-15T12:05:11.417866Z",
     "iopub.status.idle": "2023-03-15T12:05:11.422607Z",
     "shell.execute_reply": "2023-03-15T12:05:11.421404Z"
    },
    "papermill": {
     "duration": 0.066343,
     "end_time": "2023-03-15T12:05:11.425231",
     "exception": false,
     "start_time": "2023-03-15T12:05:11.358888",
     "status": "completed"
    },
    "tags": []
   },
   "outputs": [],
   "source": [
    "# train_df2.shape"
   ]
  },
  {
   "cell_type": "code",
   "execution_count": 94,
   "id": "3571150a",
   "metadata": {
    "execution": {
     "iopub.execute_input": "2023-03-15T12:05:11.541539Z",
     "iopub.status.busy": "2023-03-15T12:05:11.541089Z",
     "iopub.status.idle": "2023-03-15T12:05:11.548348Z",
     "shell.execute_reply": "2023-03-15T12:05:11.547076Z"
    },
    "papermill": {
     "duration": 0.06885,
     "end_time": "2023-03-15T12:05:11.550930",
     "exception": false,
     "start_time": "2023-03-15T12:05:11.482080",
     "status": "completed"
    },
    "tags": []
   },
   "outputs": [
    {
     "data": {
      "text/plain": [
       "(14248, 29)"
      ]
     },
     "execution_count": 94,
     "metadata": {},
     "output_type": "execute_result"
    }
   ],
   "source": [
    "val_df.shape"
   ]
  },
  {
   "cell_type": "code",
   "execution_count": 95,
   "id": "562480d5",
   "metadata": {
    "execution": {
     "iopub.execute_input": "2023-03-15T12:05:11.667151Z",
     "iopub.status.busy": "2023-03-15T12:05:11.666374Z",
     "iopub.status.idle": "2023-03-15T12:05:11.670684Z",
     "shell.execute_reply": "2023-03-15T12:05:11.669580Z"
    },
    "papermill": {
     "duration": 0.065509,
     "end_time": "2023-03-15T12:05:11.672946",
     "exception": false,
     "start_time": "2023-03-15T12:05:11.607437",
     "status": "completed"
    },
    "tags": []
   },
   "outputs": [],
   "source": [
    "# val_df2.shape"
   ]
  },
  {
   "cell_type": "code",
   "execution_count": 96,
   "id": "4066e2d2",
   "metadata": {
    "execution": {
     "iopub.execute_input": "2023-03-15T12:05:11.792482Z",
     "iopub.status.busy": "2023-03-15T12:05:11.791693Z",
     "iopub.status.idle": "2023-03-15T12:05:11.795717Z",
     "shell.execute_reply": "2023-03-15T12:05:11.794953Z"
    },
    "id": "RpCTJQwEWnrI",
    "papermill": {
     "duration": 0.067248,
     "end_time": "2023-03-15T12:05:11.797914",
     "exception": false,
     "start_time": "2023-03-15T12:05:11.730666",
     "status": "completed"
    },
    "tags": []
   },
   "outputs": [],
   "source": [
    "\n",
    "# y_train = train_df['readmitted']\n",
    "# X_train = train_df.drop(columns='readmitted')\n",
    "\n",
    "# y_val = val_df['readmitted']\n",
    "# X_val = val_df.drop(columns='readmitted')\n"
   ]
  },
  {
   "cell_type": "code",
   "execution_count": 97,
   "id": "7e13f7ab",
   "metadata": {
    "execution": {
     "iopub.execute_input": "2023-03-15T12:05:11.919119Z",
     "iopub.status.busy": "2023-03-15T12:05:11.917724Z",
     "iopub.status.idle": "2023-03-15T12:05:11.922837Z",
     "shell.execute_reply": "2023-03-15T12:05:11.921961Z"
    },
    "papermill": {
     "duration": 0.06765,
     "end_time": "2023-03-15T12:05:11.924968",
     "exception": false,
     "start_time": "2023-03-15T12:05:11.857318",
     "status": "completed"
    },
    "tags": []
   },
   "outputs": [],
   "source": [
    "# y_train2 = train_df2['readmitted']\n",
    "# X_train2 = train_df2.drop(columns='readmitted')\n",
    "\n",
    "# y_val2 = val_df2['readmitted']\n",
    "# X_val2 = val_df2.drop(columns='readmitted')"
   ]
  },
  {
   "cell_type": "code",
   "execution_count": 98,
   "id": "0e068d62",
   "metadata": {
    "execution": {
     "iopub.execute_input": "2023-03-15T12:05:12.039063Z",
     "iopub.status.busy": "2023-03-15T12:05:12.038303Z",
     "iopub.status.idle": "2023-03-15T12:05:12.042980Z",
     "shell.execute_reply": "2023-03-15T12:05:12.042178Z"
    },
    "id": "RATBc9txS1iW",
    "papermill": {
     "duration": 0.063697,
     "end_time": "2023-03-15T12:05:12.045155",
     "exception": false,
     "start_time": "2023-03-15T12:05:11.981458",
     "status": "completed"
    },
    "tags": []
   },
   "outputs": [],
   "source": [
    "# models = {}\n",
    "\n",
    "# # Logistic Regression\n",
    "# from sklearn.linear_model import LogisticRegression\n",
    "# models['Logistic Regression'] = LogisticRegression()\n",
    "\n",
    "# # Support Vector Machines\n",
    "# from sklearn.svm import LinearSVC\n",
    "# models['Support Vector Machines'] = LinearSVC()\n",
    "\n",
    "# # Decision Trees\n",
    "# from sklearn.tree import DecisionTreeClassifier\n",
    "# models['Decision Trees'] = DecisionTreeClassifier()\n",
    "\n",
    "# # Random Forest\n",
    "# from sklearn.ensemble import RandomForestClassifier\n",
    "# models['Random Forest'] = RandomForestClassifier()\n",
    "\n",
    "# # Naive Bayes\n",
    "# from sklearn.naive_bayes import GaussianNB\n",
    "# models['Naive Bayes'] = GaussianNB()\n",
    "\n",
    "# # K-Nearest Neighbors\n",
    "# from sklearn.neighbors import KNeighborsClassifier\n",
    "# models['K-Nearest Neighbor'] = KNeighborsClassifier()"
   ]
  },
  {
   "cell_type": "code",
   "execution_count": 99,
   "id": "3f9692e5",
   "metadata": {
    "execution": {
     "iopub.execute_input": "2023-03-15T12:05:12.156970Z",
     "iopub.status.busy": "2023-03-15T12:05:12.156521Z",
     "iopub.status.idle": "2023-03-15T12:52:40.594147Z",
     "shell.execute_reply": "2023-03-15T12:52:40.591953Z"
    },
    "papermill": {
     "duration": 2848.497302,
     "end_time": "2023-03-15T12:52:40.597821",
     "exception": false,
     "start_time": "2023-03-15T12:05:12.100519",
     "status": "completed"
    },
    "tags": []
   },
   "outputs": [
    {
     "name": "stderr",
     "output_type": "stream",
     "text": [
      "/opt/conda/lib/python3.7/site-packages/sklearn/svm/_base.py:1208: ConvergenceWarning: Liblinear failed to converge, increase the number of iterations.\n",
      "  ConvergenceWarning,\n",
      "/opt/conda/lib/python3.7/site-packages/sklearn/svm/_base.py:1208: ConvergenceWarning: Liblinear failed to converge, increase the number of iterations.\n",
      "  ConvergenceWarning,\n",
      "/opt/conda/lib/python3.7/site-packages/sklearn/svm/_base.py:1208: ConvergenceWarning: Liblinear failed to converge, increase the number of iterations.\n",
      "  ConvergenceWarning,\n",
      "/opt/conda/lib/python3.7/site-packages/sklearn/svm/_base.py:1208: ConvergenceWarning: Liblinear failed to converge, increase the number of iterations.\n",
      "  ConvergenceWarning,\n",
      "/opt/conda/lib/python3.7/site-packages/sklearn/svm/_base.py:1208: ConvergenceWarning: Liblinear failed to converge, increase the number of iterations.\n",
      "  ConvergenceWarning,\n",
      "/opt/conda/lib/python3.7/site-packages/sklearn/svm/_base.py:1208: ConvergenceWarning: Liblinear failed to converge, increase the number of iterations.\n",
      "  ConvergenceWarning,\n",
      "/opt/conda/lib/python3.7/site-packages/sklearn/svm/_base.py:1208: ConvergenceWarning: Liblinear failed to converge, increase the number of iterations.\n",
      "  ConvergenceWarning,\n",
      "/opt/conda/lib/python3.7/site-packages/sklearn/svm/_base.py:1208: ConvergenceWarning: Liblinear failed to converge, increase the number of iterations.\n",
      "  ConvergenceWarning,\n",
      "/opt/conda/lib/python3.7/site-packages/sklearn/svm/_base.py:1208: ConvergenceWarning: Liblinear failed to converge, increase the number of iterations.\n",
      "  ConvergenceWarning,\n",
      "/opt/conda/lib/python3.7/site-packages/sklearn/svm/_base.py:1208: ConvergenceWarning: Liblinear failed to converge, increase the number of iterations.\n",
      "  ConvergenceWarning,\n",
      "/opt/conda/lib/python3.7/site-packages/sklearn/svm/_base.py:1208: ConvergenceWarning: Liblinear failed to converge, increase the number of iterations.\n",
      "  ConvergenceWarning,\n",
      "/opt/conda/lib/python3.7/site-packages/sklearn/svm/_base.py:1208: ConvergenceWarning: Liblinear failed to converge, increase the number of iterations.\n",
      "  ConvergenceWarning,\n",
      "/opt/conda/lib/python3.7/site-packages/sklearn/svm/_base.py:1208: ConvergenceWarning: Liblinear failed to converge, increase the number of iterations.\n",
      "  ConvergenceWarning,\n",
      "/opt/conda/lib/python3.7/site-packages/sklearn/svm/_base.py:1208: ConvergenceWarning: Liblinear failed to converge, increase the number of iterations.\n",
      "  ConvergenceWarning,\n",
      "/opt/conda/lib/python3.7/site-packages/sklearn/svm/_base.py:1208: ConvergenceWarning: Liblinear failed to converge, increase the number of iterations.\n",
      "  ConvergenceWarning,\n",
      "/opt/conda/lib/python3.7/site-packages/sklearn/svm/_base.py:1208: ConvergenceWarning: Liblinear failed to converge, increase the number of iterations.\n",
      "  ConvergenceWarning,\n"
     ]
    }
   ],
   "source": [
    "from sklearn.model_selection import GridSearchCV\n",
    "\n",
    "# Logistic Regression\n",
    "from sklearn.linear_model import LogisticRegression\n",
    "lr_params = {'C': [0.1, 1, 10]}\n",
    "lr_grid = GridSearchCV(LogisticRegression(), lr_params, cv=5)\n",
    "lr_grid.fit(X_train, y_train)\n",
    "best_lr_model = lr_grid.best_estimator_\n",
    "\n",
    "# Support Vector Machines\n",
    "from sklearn.svm import LinearSVC\n",
    "svc_params = {'C': [0.1, 1, 10]}\n",
    "svc_grid = GridSearchCV(LinearSVC(), svc_params, cv=5)\n",
    "svc_grid.fit(X_train, y_train)\n",
    "best_svc_model = svc_grid.best_estimator_\n",
    "\n",
    "# Decision Trees\n",
    "from sklearn.tree import DecisionTreeClassifier\n",
    "dt_params = {'max_depth': [3, 5, 7]}\n",
    "dt_grid = GridSearchCV(DecisionTreeClassifier(), dt_params, cv=5)\n",
    "dt_grid.fit(X_train, y_train)\n",
    "best_dt_model = dt_grid.best_estimator_\n",
    "\n",
    "# Random Forest\n",
    "from sklearn.ensemble import RandomForestClassifier\n",
    "rf_params = {'n_estimators': [50, 100, 200]}\n",
    "rf_grid = GridSearchCV(RandomForestClassifier(), rf_params, cv=5)\n",
    "rf_grid.fit(X_train, y_train)\n",
    "best_rf_model = rf_grid.best_estimator_\n",
    "\n",
    "# Naive Bayes\n",
    "from sklearn.naive_bayes import GaussianNB\n",
    "best_nb_model = GaussianNB()\n",
    "best_nb_model.fit(X_train, y_train)\n",
    "\n",
    "# K-Nearest Neighbors\n",
    "from sklearn.neighbors import KNeighborsClassifier\n",
    "knn_params = {'n_neighbors': [3, 5, 7]}\n",
    "knn_grid = GridSearchCV(KNeighborsClassifier(), knn_params, cv=5)\n",
    "knn_grid.fit(X_train, y_train)\n",
    "best_knn_model = knn_grid.best_estimator_\n",
    "\n",
    "# Store the best models in a dictionary\n",
    "best_models = {'Logistic Regression': best_lr_model,\n",
    "               'Support Vector Machines': best_svc_model,\n",
    "               'Decision Trees': best_dt_model,\n",
    "               'Random Forest': best_rf_model,\n",
    "               'Naive Bayes': best_nb_model,\n",
    "               'K-Nearest Neighbor': best_knn_model}\n"
   ]
  },
  {
   "cell_type": "code",
   "execution_count": 100,
   "id": "3600ba39",
   "metadata": {
    "execution": {
     "iopub.execute_input": "2023-03-15T12:52:40.725504Z",
     "iopub.status.busy": "2023-03-15T12:52:40.724505Z",
     "iopub.status.idle": "2023-03-15T12:56:05.863759Z",
     "shell.execute_reply": "2023-03-15T12:56:05.862648Z"
    },
    "papermill": {
     "duration": 205.268547,
     "end_time": "2023-03-15T12:56:05.926252",
     "exception": false,
     "start_time": "2023-03-15T12:52:40.657705",
     "status": "completed"
    },
    "tags": []
   },
   "outputs": [
    {
     "name": "stderr",
     "output_type": "stream",
     "text": [
      "/opt/conda/lib/python3.7/site-packages/sklearn/svm/_base.py:1208: ConvergenceWarning: Liblinear failed to converge, increase the number of iterations.\n",
      "  ConvergenceWarning,\n"
     ]
    },
    {
     "data": {
      "text/plain": [
       "VotingClassifier(estimators=[('Logistic Regression', LogisticRegression(C=0.1)),\n",
       "                             ('Support Vector Machines', LinearSVC(C=1)),\n",
       "                             ('Decision Trees',\n",
       "                              DecisionTreeClassifier(max_depth=7)),\n",
       "                             ('Random Forest',\n",
       "                              RandomForestClassifier(n_estimators=200)),\n",
       "                             ('Naive Bayes', GaussianNB()),\n",
       "                             ('K-Nearest Neighbor',\n",
       "                              KNeighborsClassifier(n_neighbors=3))])"
      ]
     },
     "execution_count": 100,
     "metadata": {},
     "output_type": "execute_result"
    }
   ],
   "source": [
    "from sklearn.ensemble import VotingClassifier\n",
    "\n",
    "# Create a list of tuples containing the name of the classifier and the model\n",
    "model_list = [(name, model) for name, model in best_models.items()]\n",
    "\n",
    "# Create the voting classifier\n",
    "voting_classifier = VotingClassifier(estimators=model_list, voting='hard')\n",
    "voting_classifier.fit(X_train, y_train)"
   ]
  },
  {
   "cell_type": "code",
   "execution_count": 101,
   "id": "82cc4291",
   "metadata": {
    "execution": {
     "iopub.execute_input": "2023-03-15T12:56:06.171512Z",
     "iopub.status.busy": "2023-03-15T12:56:06.170394Z",
     "iopub.status.idle": "2023-03-15T12:56:06.181020Z",
     "shell.execute_reply": "2023-03-15T12:56:06.179390Z"
    },
    "papermill": {
     "duration": 0.197764,
     "end_time": "2023-03-15T12:56:06.183884",
     "exception": false,
     "start_time": "2023-03-15T12:56:05.986120",
     "status": "completed"
    },
    "tags": []
   },
   "outputs": [
    {
     "name": "stdout",
     "output_type": "stream",
     "text": [
      "[('Logistic Regression', LogisticRegression(C=0.1)), ('Support Vector Machines', LinearSVC(C=1)), ('Decision Trees', DecisionTreeClassifier(max_depth=7)), ('Random Forest', RandomForestClassifier(n_estimators=200)), ('Naive Bayes', GaussianNB()), ('K-Nearest Neighbor', KNeighborsClassifier(n_neighbors=3))]\n",
      "\n",
      " {'Logistic Regression': LogisticRegression(C=0.1), 'Support Vector Machines': LinearSVC(C=1), 'Decision Trees': DecisionTreeClassifier(max_depth=7), 'Random Forest': RandomForestClassifier(n_estimators=200), 'Naive Bayes': GaussianNB(), 'K-Nearest Neighbor': KNeighborsClassifier(n_neighbors=3)}\n"
     ]
    }
   ],
   "source": [
    "print(model_list)\n",
    "print(\"\\n\",best_models)"
   ]
  },
  {
   "cell_type": "code",
   "execution_count": 102,
   "id": "88aaca1b",
   "metadata": {
    "execution": {
     "iopub.execute_input": "2023-03-15T12:56:06.305426Z",
     "iopub.status.busy": "2023-03-15T12:56:06.304064Z",
     "iopub.status.idle": "2023-03-15T12:56:06.310165Z",
     "shell.execute_reply": "2023-03-15T12:56:06.309201Z"
    },
    "id": "YPypxWfDS1gL",
    "papermill": {
     "duration": 0.069882,
     "end_time": "2023-03-15T12:56:06.312717",
     "exception": false,
     "start_time": "2023-03-15T12:56:06.242835",
     "status": "completed"
    },
    "tags": []
   },
   "outputs": [],
   "source": [
    "from sklearn.metrics import accuracy_score, precision_score, recall_score"
   ]
  },
  {
   "cell_type": "code",
   "execution_count": 103,
   "id": "06ddc443",
   "metadata": {
    "execution": {
     "iopub.execute_input": "2023-03-15T12:56:06.434742Z",
     "iopub.status.busy": "2023-03-15T12:56:06.433878Z",
     "iopub.status.idle": "2023-03-15T12:56:30.426368Z",
     "shell.execute_reply": "2023-03-15T12:56:30.424262Z"
    },
    "papermill": {
     "duration": 24.05632,
     "end_time": "2023-03-15T12:56:30.429077",
     "exception": false,
     "start_time": "2023-03-15T12:56:06.372757",
     "status": "completed"
    },
    "tags": []
   },
   "outputs": [
    {
     "name": "stdout",
     "output_type": "stream",
     "text": [
      "0.48308534531162267\n"
     ]
    }
   ],
   "source": [
    "predictions=voting_classifier.predict(X_val)\n",
    "print(accuracy_score(predictions, y_val))"
   ]
  },
  {
   "cell_type": "code",
   "execution_count": 104,
   "id": "1145ca57",
   "metadata": {
    "execution": {
     "iopub.execute_input": "2023-03-15T12:56:30.562523Z",
     "iopub.status.busy": "2023-03-15T12:56:30.561757Z",
     "iopub.status.idle": "2023-03-15T12:56:30.571181Z",
     "shell.execute_reply": "2023-03-15T12:56:30.569822Z"
    },
    "papermill": {
     "duration": 0.075982,
     "end_time": "2023-03-15T12:56:30.574031",
     "exception": false,
     "start_time": "2023-03-15T12:56:30.498049",
     "status": "completed"
    },
    "tags": []
   },
   "outputs": [
    {
     "data": {
      "text/plain": [
       "{'Logistic Regression': LogisticRegression(C=0.1),\n",
       " 'Support Vector Machines': LinearSVC(C=1),\n",
       " 'Decision Trees': DecisionTreeClassifier(max_depth=7),\n",
       " 'Random Forest': RandomForestClassifier(n_estimators=200),\n",
       " 'Naive Bayes': GaussianNB(),\n",
       " 'K-Nearest Neighbor': KNeighborsClassifier(n_neighbors=3)}"
      ]
     },
     "execution_count": 104,
     "metadata": {},
     "output_type": "execute_result"
    }
   ],
   "source": [
    "best_models"
   ]
  },
  {
   "cell_type": "code",
   "execution_count": 105,
   "id": "4f54346e",
   "metadata": {
    "execution": {
     "iopub.execute_input": "2023-03-15T12:56:30.695790Z",
     "iopub.status.busy": "2023-03-15T12:56:30.694322Z",
     "iopub.status.idle": "2023-03-15T12:56:30.703619Z",
     "shell.execute_reply": "2023-03-15T12:56:30.702169Z"
    },
    "papermill": {
     "duration": 0.07269,
     "end_time": "2023-03-15T12:56:30.706701",
     "exception": false,
     "start_time": "2023-03-15T12:56:30.634011",
     "status": "completed"
    },
    "tags": []
   },
   "outputs": [],
   "source": [
    "def check_models(models):\n",
    "    accuracy={}\n",
    "\n",
    "    for key in models:\n",
    "\n",
    "        # Fit the classifier model\n",
    "#         models[key].fit(X_train, y_train)\n",
    "\n",
    "        # Prediction \n",
    "        predictions = models[key].predict(X_val)\n",
    "\n",
    "        # Calculate Accuracy, Precision and Recall Metrics\n",
    "        accuracy[key] = accuracy_score(predictions, y_val)\n",
    "    #     precision[key] = precision_score(predictions, y_val)\n",
    "    #     recall[key] = recall_score(predictions, y_val)\n",
    "\n",
    "\n",
    "\n",
    "    df_model = pd.DataFrame(index=models.keys(), columns=['Accuracy'])\n",
    "    df_model['Accuracy'] = accuracy.values()\n",
    "    # df_model['Precision'] = precision.values()\n",
    "    # df_model['Recall'] = recall.values()\n",
    "    return df_model"
   ]
  },
  {
   "cell_type": "markdown",
   "id": "79192a0b",
   "metadata": {
    "papermill": {
     "duration": 0.058114,
     "end_time": "2023-03-15T12:56:30.822661",
     "exception": false,
     "start_time": "2023-03-15T12:56:30.764547",
     "status": "completed"
    },
    "tags": []
   },
   "source": [
    "# Experements"
   ]
  },
  {
   "cell_type": "markdown",
   "id": "cd80fb75",
   "metadata": {
    "papermill": {
     "duration": 0.057483,
     "end_time": "2023-03-15T12:56:30.937862",
     "exception": false,
     "start_time": "2023-03-15T12:56:30.880379",
     "status": "completed"
    },
    "tags": []
   },
   "source": [
    "## moldels with sampling"
   ]
  },
  {
   "cell_type": "code",
   "execution_count": 106,
   "id": "4be24c93",
   "metadata": {
    "execution": {
     "iopub.execute_input": "2023-03-15T12:56:31.057274Z",
     "iopub.status.busy": "2023-03-15T12:56:31.056367Z",
     "iopub.status.idle": "2023-03-15T12:56:55.350347Z",
     "shell.execute_reply": "2023-03-15T12:56:55.349028Z"
    },
    "id": "UAQgU2eSS1cf",
    "outputId": "25edfb25-30fd-405e-9bdd-c2c4d860e8db",
    "papermill": {
     "duration": 24.356525,
     "end_time": "2023-03-15T12:56:55.353088",
     "exception": false,
     "start_time": "2023-03-15T12:56:30.996563",
     "status": "completed"
    },
    "tags": []
   },
   "outputs": [
    {
     "data": {
      "text/html": [
       "<div>\n",
       "<style scoped>\n",
       "    .dataframe tbody tr th:only-of-type {\n",
       "        vertical-align: middle;\n",
       "    }\n",
       "\n",
       "    .dataframe tbody tr th {\n",
       "        vertical-align: top;\n",
       "    }\n",
       "\n",
       "    .dataframe thead th {\n",
       "        text-align: right;\n",
       "    }\n",
       "</style>\n",
       "<table border=\"1\" class=\"dataframe\">\n",
       "  <thead>\n",
       "    <tr style=\"text-align: right;\">\n",
       "      <th></th>\n",
       "      <th>Accuracy</th>\n",
       "    </tr>\n",
       "  </thead>\n",
       "  <tbody>\n",
       "    <tr>\n",
       "      <th>Logistic Regression</th>\n",
       "      <td>0.464346</td>\n",
       "    </tr>\n",
       "    <tr>\n",
       "      <th>Support Vector Machines</th>\n",
       "      <td>0.457608</td>\n",
       "    </tr>\n",
       "    <tr>\n",
       "      <th>Decision Trees</th>\n",
       "      <td>0.541058</td>\n",
       "    </tr>\n",
       "    <tr>\n",
       "      <th>Random Forest</th>\n",
       "      <td>0.574677</td>\n",
       "    </tr>\n",
       "    <tr>\n",
       "      <th>Naive Bayes</th>\n",
       "      <td>0.458801</td>\n",
       "    </tr>\n",
       "    <tr>\n",
       "      <th>K-Nearest Neighbor</th>\n",
       "      <td>0.388546</td>\n",
       "    </tr>\n",
       "  </tbody>\n",
       "</table>\n",
       "</div>"
      ],
      "text/plain": [
       "                         Accuracy\n",
       "Logistic Regression      0.464346\n",
       "Support Vector Machines  0.457608\n",
       "Decision Trees           0.541058\n",
       "Random Forest            0.574677\n",
       "Naive Bayes              0.458801\n",
       "K-Nearest Neighbor       0.388546"
      ]
     },
     "execution_count": 106,
     "metadata": {},
     "output_type": "execute_result"
    }
   ],
   "source": [
    "df_model=check_models(best_models)\n",
    "df_model"
   ]
  },
  {
   "cell_type": "markdown",
   "id": "26ba0593",
   "metadata": {
    "papermill": {
     "duration": 0.062954,
     "end_time": "2023-03-15T12:56:55.477631",
     "exception": false,
     "start_time": "2023-03-15T12:56:55.414677",
     "status": "completed"
    },
    "tags": []
   },
   "source": [
    "## moldels without resampling "
   ]
  },
  {
   "cell_type": "code",
   "execution_count": 107,
   "id": "d7841231",
   "metadata": {
    "execution": {
     "iopub.execute_input": "2023-03-15T12:56:55.602072Z",
     "iopub.status.busy": "2023-03-15T12:56:55.601630Z",
     "iopub.status.idle": "2023-03-15T12:56:55.607810Z",
     "shell.execute_reply": "2023-03-15T12:56:55.605865Z"
    },
    "papermill": {
     "duration": 0.071866,
     "end_time": "2023-03-15T12:56:55.610984",
     "exception": false,
     "start_time": "2023-03-15T12:56:55.539118",
     "status": "completed"
    },
    "tags": []
   },
   "outputs": [],
   "source": [
    "# df_model2=check_models(X_train2,y_train2,X_val2,y_val2)\n",
    "# df_model2"
   ]
  },
  {
   "cell_type": "code",
   "execution_count": 108,
   "id": "7a59709e",
   "metadata": {
    "execution": {
     "iopub.execute_input": "2023-03-15T12:56:55.733418Z",
     "iopub.status.busy": "2023-03-15T12:56:55.732940Z",
     "iopub.status.idle": "2023-03-15T12:56:55.916050Z",
     "shell.execute_reply": "2023-03-15T12:56:55.915015Z"
    },
    "papermill": {
     "duration": 0.248097,
     "end_time": "2023-03-15T12:56:55.919238",
     "exception": false,
     "start_time": "2023-03-15T12:56:55.671141",
     "status": "completed"
    },
    "tags": []
   },
   "outputs": [],
   "source": [
    "import xgboost as xgb\n",
    "from sklearn.model_selection import train_test_split, cross_val_score,GridSearchCV\n",
    "from sklearn.metrics import accuracy_score, confusion_matrix, classification_report, f1_score"
   ]
  },
  {
   "cell_type": "code",
   "execution_count": 109,
   "id": "ef9e0106",
   "metadata": {
    "execution": {
     "iopub.execute_input": "2023-03-15T12:56:56.041003Z",
     "iopub.status.busy": "2023-03-15T12:56:56.039615Z",
     "iopub.status.idle": "2023-03-15T12:56:56.050438Z",
     "shell.execute_reply": "2023-03-15T12:56:56.048816Z"
    },
    "papermill": {
     "duration": 0.074661,
     "end_time": "2023-03-15T12:56:56.053485",
     "exception": false,
     "start_time": "2023-03-15T12:56:55.978824",
     "status": "completed"
    },
    "tags": []
   },
   "outputs": [],
   "source": [
    "def Xgb(X_train,Y_train,X_test,Y_test):\n",
    "    \n",
    "    xg_parameters = {'n_estimators': np.arange(7,15,2),'max_depth': np.arange(1,10,2),'learning_rate': np.arange(0.5,1,0.2)}\n",
    "    # grid search pitch\n",
    "    xg_reg = xgb.XGBClassifier(random_state=0,verbosity = 0)\n",
    "\n",
    "    xg_reg = GridSearchCV(estimator = xg_reg,param_grid = xg_parameters)\n",
    "    \n",
    "    #xg_reg = xgb.XGBClassifier()\n",
    "\n",
    "    \n",
    "    xg_reg.fit(X_train, Y_train)\n",
    "\n",
    "    Y_test_predict = xg_reg.predict(X_test)\n",
    "    acc = accuracy_score(Y_test, Y_test_predict)\n",
    "    mat = confusion_matrix(Y_test, Y_test_predict)\n",
    "    f1 = f1_score(Y_test, Y_test_predict, average='weighted')\n",
    "    print(\"Accuracy: \", acc)\n",
    "    print(\"F1 score: \", f1)\n",
    "    print(\"Confusion matrix: \\n\", mat)\n",
    "    print('Overall report: \\n', classification_report(Y_test, Y_test_predict))\n",
    "    return xg_reg"
   ]
  },
  {
   "cell_type": "code",
   "execution_count": 110,
   "id": "6e6d6fb8",
   "metadata": {
    "execution": {
     "iopub.execute_input": "2023-03-15T12:56:56.177437Z",
     "iopub.status.busy": "2023-03-15T12:56:56.175891Z",
     "iopub.status.idle": "2023-03-15T12:56:56.181415Z",
     "shell.execute_reply": "2023-03-15T12:56:56.180515Z"
    },
    "papermill": {
     "duration": 0.069422,
     "end_time": "2023-03-15T12:56:56.183877",
     "exception": false,
     "start_time": "2023-03-15T12:56:56.114455",
     "status": "completed"
    },
    "tags": []
   },
   "outputs": [],
   "source": [
    "# xg_reg2=Xgb(X_train2,y_train2,X_val2,y_val2)\n",
    "# xg_reg2"
   ]
  },
  {
   "cell_type": "code",
   "execution_count": 111,
   "id": "d11fa650",
   "metadata": {
    "execution": {
     "iopub.execute_input": "2023-03-15T12:56:56.305716Z",
     "iopub.status.busy": "2023-03-15T12:56:56.304312Z",
     "iopub.status.idle": "2023-03-15T13:10:02.458608Z",
     "shell.execute_reply": "2023-03-15T13:10:02.457331Z"
    },
    "papermill": {
     "duration": 786.276153,
     "end_time": "2023-03-15T13:10:02.519480",
     "exception": false,
     "start_time": "2023-03-15T12:56:56.243327",
     "status": "completed"
    },
    "tags": []
   },
   "outputs": [
    {
     "name": "stdout",
     "output_type": "stream",
     "text": [
      "Accuracy:  0.5676586187535093\n",
      "F1 score:  0.5352507640957114\n",
      "Confusion matrix: \n",
      " [[  69  654  867]\n",
      " [ 113 2137 2727]\n",
      " [  74 1725 5882]]\n",
      "Overall report: \n",
      "               precision    recall  f1-score   support\n",
      "\n",
      "           0       0.27      0.04      0.07      1590\n",
      "           1       0.47      0.43      0.45      4977\n",
      "           2       0.62      0.77      0.69      7681\n",
      "\n",
      "    accuracy                           0.57     14248\n",
      "   macro avg       0.45      0.41      0.40     14248\n",
      "weighted avg       0.53      0.57      0.54     14248\n",
      "\n"
     ]
    },
    {
     "data": {
      "text/plain": [
       "GridSearchCV(estimator=XGBClassifier(base_score=None, booster=None,\n",
       "                                     callbacks=None, colsample_bylevel=None,\n",
       "                                     colsample_bynode=None,\n",
       "                                     colsample_bytree=None,\n",
       "                                     early_stopping_rounds=None,\n",
       "                                     enable_categorical=False, eval_metric=None,\n",
       "                                     gamma=None, gpu_id=None, grow_policy=None,\n",
       "                                     importance_type=None,\n",
       "                                     interaction_constraints=None,\n",
       "                                     learning_rate=None, max_bin=None,\n",
       "                                     max_cat_to_...=None,\n",
       "                                     max_delta_step=None, max_depth=None,\n",
       "                                     max_leaves=None, min_child_weight=None,\n",
       "                                     missing=nan, monotone_constraints=None,\n",
       "                                     n_estimators=100, n_jobs=None,\n",
       "                                     num_parallel_tree=None, predictor=None,\n",
       "                                     random_state=0, reg_alpha=None,\n",
       "                                     reg_lambda=None, ...),\n",
       "             param_grid={'learning_rate': array([0.5, 0.7, 0.9]),\n",
       "                         'max_depth': array([1, 3, 5, 7, 9]),\n",
       "                         'n_estimators': array([ 7,  9, 11, 13])})"
      ]
     },
     "execution_count": 111,
     "metadata": {},
     "output_type": "execute_result"
    }
   ],
   "source": [
    "xg_reg1=Xgb(X_train,y_train,X_val,y_val)\n",
    "xg_reg1"
   ]
  },
  {
   "cell_type": "code",
   "execution_count": 112,
   "id": "b7353b37",
   "metadata": {
    "execution": {
     "iopub.execute_input": "2023-03-15T13:10:02.651779Z",
     "iopub.status.busy": "2023-03-15T13:10:02.650982Z",
     "iopub.status.idle": "2023-03-15T13:10:02.660321Z",
     "shell.execute_reply": "2023-03-15T13:10:02.659453Z"
    },
    "papermill": {
     "duration": 0.078854,
     "end_time": "2023-03-15T13:10:02.662881",
     "exception": false,
     "start_time": "2023-03-15T13:10:02.584027",
     "status": "completed"
    },
    "tags": []
   },
   "outputs": [],
   "source": [
    "def RF(X_train,Y_train,X_test,Y_test):\n",
    "    forest = RandomForestClassifier(n_estimators=100, max_depth=120, criterion=\"entropy\")\n",
    "    # print(\"Cross Validation Score: \", np.mean(cross_val_score(forest, X_train, Y_train, cv=10)))\n",
    "    forest.fit(X_train, Y_train)\n",
    "\n",
    "    Y_test_predict = forest.predict(X_test)\n",
    "    acc = accuracy_score(Y_test, Y_test_predict)\n",
    "    mat = confusion_matrix(Y_test, Y_test_predict)\n",
    "    f1 = f1_score(Y_test, Y_test_predict, average='weighted')\n",
    "    print(\"Accuracy: \", acc)\n",
    "    print(\"F1 score: \", f1)\n",
    "    print(\"Confusion matrix: \\n\", mat)\n",
    "    print('Overall report: \\n', classification_report(Y_test, Y_test_predict))\n",
    "    \n",
    "    return forest"
   ]
  },
  {
   "cell_type": "code",
   "execution_count": 113,
   "id": "5829b670",
   "metadata": {
    "execution": {
     "iopub.execute_input": "2023-03-15T13:10:02.792214Z",
     "iopub.status.busy": "2023-03-15T13:10:02.791304Z",
     "iopub.status.idle": "2023-03-15T13:10:44.005159Z",
     "shell.execute_reply": "2023-03-15T13:10:44.003806Z"
    },
    "papermill": {
     "duration": 41.343266,
     "end_time": "2023-03-15T13:10:44.067022",
     "exception": false,
     "start_time": "2023-03-15T13:10:02.723756",
     "status": "completed"
    },
    "tags": []
   },
   "outputs": [
    {
     "name": "stdout",
     "output_type": "stream",
     "text": [
      "Accuracy:  0.5679393599101629\n",
      "F1 score:  0.5286576152451696\n",
      "Confusion matrix: \n",
      " [[  33  664  893]\n",
      " [  70 2019 2888]\n",
      " [  41 1600 6040]]\n",
      "Overall report: \n",
      "               precision    recall  f1-score   support\n",
      "\n",
      "           0       0.23      0.02      0.04      1590\n",
      "           1       0.47      0.41      0.44      4977\n",
      "           2       0.62      0.79      0.69      7681\n",
      "\n",
      "    accuracy                           0.57     14248\n",
      "   macro avg       0.44      0.40      0.39     14248\n",
      "weighted avg       0.52      0.57      0.53     14248\n",
      "\n"
     ]
    },
    {
     "data": {
      "text/plain": [
       "RandomForestClassifier(criterion='entropy', max_depth=120)"
      ]
     },
     "execution_count": 113,
     "metadata": {},
     "output_type": "execute_result"
    }
   ],
   "source": [
    "forest1=RF(X_train,y_train,X_val,y_val)\n",
    "forest1"
   ]
  },
  {
   "cell_type": "code",
   "execution_count": 114,
   "id": "1af2cac1",
   "metadata": {
    "execution": {
     "iopub.execute_input": "2023-03-15T13:10:44.191093Z",
     "iopub.status.busy": "2023-03-15T13:10:44.190615Z",
     "iopub.status.idle": "2023-03-15T13:10:44.195901Z",
     "shell.execute_reply": "2023-03-15T13:10:44.194677Z"
    },
    "papermill": {
     "duration": 0.068797,
     "end_time": "2023-03-15T13:10:44.198147",
     "exception": false,
     "start_time": "2023-03-15T13:10:44.129350",
     "status": "completed"
    },
    "tags": []
   },
   "outputs": [],
   "source": [
    "# forest2=RF(X_train2,y_train2,X_val2,y_val2)\n",
    "# forest2"
   ]
  },
  {
   "cell_type": "markdown",
   "id": "fc6ff144",
   "metadata": {
    "papermill": {
     "duration": 0.059831,
     "end_time": "2023-03-15T13:10:44.317300",
     "exception": false,
     "start_time": "2023-03-15T13:10:44.257469",
     "status": "completed"
    },
    "tags": []
   },
   "source": [
    "## Model Training\n",
    "\n",
    "Let's train a model with the data! We'll train a Random Forest Classifier to demonstrate the process of making submissions. "
   ]
  },
  {
   "cell_type": "code",
   "execution_count": 115,
   "id": "2e778a75",
   "metadata": {
    "execution": {
     "iopub.execute_input": "2023-03-15T13:10:44.439912Z",
     "iopub.status.busy": "2023-03-15T13:10:44.439149Z",
     "iopub.status.idle": "2023-03-15T13:10:44.443007Z",
     "shell.execute_reply": "2023-03-15T13:10:44.442248Z"
    },
    "papermill": {
     "duration": 0.068085,
     "end_time": "2023-03-15T13:10:44.445144",
     "exception": false,
     "start_time": "2023-03-15T13:10:44.377059",
     "status": "completed"
    },
    "tags": []
   },
   "outputs": [],
   "source": [
    "# forest3=RF(X_train2,y_train2,X_val2,y_val2)\n",
    "# forest3"
   ]
  },
  {
   "cell_type": "markdown",
   "id": "1a756875",
   "metadata": {
    "papermill": {
     "duration": 0.062766,
     "end_time": "2023-03-15T13:10:44.566720",
     "exception": false,
     "start_time": "2023-03-15T13:10:44.503954",
     "status": "completed"
    },
    "tags": []
   },
   "source": [
    "## Submission File Generation\n",
    "\n",
    "We have built a model and we'd like to submit our predictions on the test set! In order to do that, we'll load the test set, predict the class and save the submission file. \n",
    "\n",
    "First, we'll load the data."
   ]
  },
  {
   "cell_type": "markdown",
   "id": "d9f8a9bf",
   "metadata": {
    "papermill": {
     "duration": 0.058799,
     "end_time": "2023-03-15T13:10:44.684729",
     "exception": false,
     "start_time": "2023-03-15T13:10:44.625930",
     "status": "completed"
    },
    "tags": []
   },
   "source": [
    "Note that the test set has the same features and doesn't have the `readmitted` column.\n",
    "At this stage one must **NOT** forget to apply the same processing done on the training set on the features of the test set.\n",
    "\n",
    "Now we'll add `readmitted` column to the test `DataFrame` and add the values of the predicted class to it.\n",
    "\n",
    "**I'll select the numerical features here as I did in the training set. DO NOT forget to change this step as you change the preprocessing of the training data.**"
   ]
  },
  {
   "cell_type": "code",
   "execution_count": 116,
   "id": "8f5c144f",
   "metadata": {
    "execution": {
     "iopub.execute_input": "2023-03-15T13:10:44.804948Z",
     "iopub.status.busy": "2023-03-15T13:10:44.804138Z",
     "iopub.status.idle": "2023-03-15T13:10:44.808712Z",
     "shell.execute_reply": "2023-03-15T13:10:44.807711Z"
    },
    "papermill": {
     "duration": 0.067201,
     "end_time": "2023-03-15T13:10:44.810848",
     "exception": false,
     "start_time": "2023-03-15T13:10:44.743647",
     "status": "completed"
    },
    "tags": []
   },
   "outputs": [],
   "source": [
    "test_df=test"
   ]
  },
  {
   "cell_type": "code",
   "execution_count": 117,
   "id": "1c8393f2",
   "metadata": {
    "execution": {
     "iopub.execute_input": "2023-03-15T13:10:44.933043Z",
     "iopub.status.busy": "2023-03-15T13:10:44.931936Z",
     "iopub.status.idle": "2023-03-15T13:10:44.984409Z",
     "shell.execute_reply": "2023-03-15T13:10:44.983274Z"
    },
    "papermill": {
     "duration": 0.116921,
     "end_time": "2023-03-15T13:10:44.987252",
     "exception": false,
     "start_time": "2023-03-15T13:10:44.870331",
     "status": "completed"
    },
    "tags": []
   },
   "outputs": [
    {
     "data": {
      "text/plain": [
       "0        2\n",
       "1        2\n",
       "2        2\n",
       "3        1\n",
       "4        1\n",
       "        ..\n",
       "30525    1\n",
       "30526    2\n",
       "30527    2\n",
       "30528    1\n",
       "30529    1\n",
       "Name: readmitted, Length: 30530, dtype: int64"
      ]
     },
     "execution_count": 117,
     "metadata": {},
     "output_type": "execute_result"
    }
   ],
   "source": [
    "y_test_predicted = xg_reg1.predict(test_df)\n",
    "test_df['readmitted'] = y_test_predicted\n",
    "test_df['readmitted']"
   ]
  },
  {
   "cell_type": "code",
   "execution_count": 118,
   "id": "507c679c",
   "metadata": {
    "execution": {
     "iopub.execute_input": "2023-03-15T13:10:45.110030Z",
     "iopub.status.busy": "2023-03-15T13:10:45.109589Z",
     "iopub.status.idle": "2023-03-15T13:10:45.121101Z",
     "shell.execute_reply": "2023-03-15T13:10:45.119860Z"
    },
    "papermill": {
     "duration": 0.075053,
     "end_time": "2023-03-15T13:10:45.123826",
     "exception": false,
     "start_time": "2023-03-15T13:10:45.048773",
     "status": "completed"
    },
    "tags": []
   },
   "outputs": [],
   "source": [
    "\n",
    "test_df['readmitted'] = test_df['readmitted'].replace({0:'<30', 1:'>30',2:'NO'})\n",
    "#test_df['readmitted'] = test_df['readmitted'].apply(lambda x : '<30' if x == 1 else '>30')\n",
    "\n",
    "test_df['encounter_id']=counter_Id2\n"
   ]
  },
  {
   "cell_type": "code",
   "execution_count": 119,
   "id": "667b04e8",
   "metadata": {
    "execution": {
     "iopub.execute_input": "2023-03-15T13:10:45.245151Z",
     "iopub.status.busy": "2023-03-15T13:10:45.244719Z",
     "iopub.status.idle": "2023-03-15T13:10:45.292396Z",
     "shell.execute_reply": "2023-03-15T13:10:45.291200Z"
    },
    "papermill": {
     "duration": 0.111803,
     "end_time": "2023-03-15T13:10:45.295348",
     "exception": false,
     "start_time": "2023-03-15T13:10:45.183545",
     "status": "completed"
    },
    "tags": []
   },
   "outputs": [],
   "source": [
    "test_df[['encounter_id', 'readmitted']].to_csv('/kaggle/working/submission.csv', index=False)"
   ]
  },
  {
   "cell_type": "markdown",
   "id": "71b12066",
   "metadata": {
    "papermill": {
     "duration": 0.060121,
     "end_time": "2023-03-15T13:10:45.415669",
     "exception": false,
     "start_time": "2023-03-15T13:10:45.355548",
     "status": "completed"
    },
    "tags": []
   },
   "source": [
    "The remaining steps is to submit the generated file and are as follows. \n",
    "\n",
    "1. Press `Save Version` on the upper right corner of this notebook.\n",
    "2. Write a `Version Name` of your choice and choose `Save & Run All (Commit)` then click `Save`.\n",
    "3. Wait for the saved notebook to finish running the go to the saved notebook.\n",
    "4. Under the title of your notebook you'll find multiple tabs (notebook, data, logs, comments). Select `Data` tab. \n",
    "4. Select the `submission.csv` file and click `Submit`.\n",
    "\n",
    "Now your submission will be evaluated and your score will be updated on the leaderboard! CONGRATULATIONS!!"
   ]
  },
  {
   "cell_type": "markdown",
   "id": "9931d967",
   "metadata": {
    "papermill": {
     "duration": 0.059564,
     "end_time": "2023-03-15T13:10:45.534526",
     "exception": false,
     "start_time": "2023-03-15T13:10:45.474962",
     "status": "completed"
    },
    "tags": []
   },
   "source": [
    "## Conclusion\n",
    "\n",
    "In this notebook, we have demonstrated the essential steps that one should do in order to get \"slightly\" familiar with the data and the submission process. We chose not to go into details in each step to keep the welcoming notebook simple and make a room for improvement.\n",
    "\n",
    "You're encourged to `Fork` the notebook, edit it, add your insights and use it to create your submission."
   ]
  },
  {
   "cell_type": "code",
   "execution_count": 120,
   "id": "d53f2e46",
   "metadata": {
    "execution": {
     "iopub.execute_input": "2023-03-15T13:10:45.657530Z",
     "iopub.status.busy": "2023-03-15T13:10:45.657074Z",
     "iopub.status.idle": "2023-03-15T13:10:45.672131Z",
     "shell.execute_reply": "2023-03-15T13:10:45.671028Z"
    },
    "papermill": {
     "duration": 0.078233,
     "end_time": "2023-03-15T13:10:45.674361",
     "exception": false,
     "start_time": "2023-03-15T13:10:45.596128",
     "status": "completed"
    },
    "tags": []
   },
   "outputs": [
    {
     "data": {
      "text/html": [
       "<div>\n",
       "<style scoped>\n",
       "    .dataframe tbody tr th:only-of-type {\n",
       "        vertical-align: middle;\n",
       "    }\n",
       "\n",
       "    .dataframe tbody tr th {\n",
       "        vertical-align: top;\n",
       "    }\n",
       "\n",
       "    .dataframe thead th {\n",
       "        text-align: right;\n",
       "    }\n",
       "</style>\n",
       "<table border=\"1\" class=\"dataframe\">\n",
       "  <thead>\n",
       "    <tr style=\"text-align: right;\">\n",
       "      <th></th>\n",
       "      <th>encounter_id</th>\n",
       "      <th>readmitted</th>\n",
       "    </tr>\n",
       "  </thead>\n",
       "  <tbody>\n",
       "    <tr>\n",
       "      <th>0</th>\n",
       "      <td>109962834</td>\n",
       "      <td>NO</td>\n",
       "    </tr>\n",
       "    <tr>\n",
       "      <th>1</th>\n",
       "      <td>240829854</td>\n",
       "      <td>NO</td>\n",
       "    </tr>\n",
       "    <tr>\n",
       "      <th>2</th>\n",
       "      <td>44942994</td>\n",
       "      <td>NO</td>\n",
       "    </tr>\n",
       "    <tr>\n",
       "      <th>3</th>\n",
       "      <td>302469824</td>\n",
       "      <td>&gt;30</td>\n",
       "    </tr>\n",
       "    <tr>\n",
       "      <th>4</th>\n",
       "      <td>172075704</td>\n",
       "      <td>&gt;30</td>\n",
       "    </tr>\n",
       "    <tr>\n",
       "      <th>...</th>\n",
       "      <td>...</td>\n",
       "      <td>...</td>\n",
       "    </tr>\n",
       "    <tr>\n",
       "      <th>30525</th>\n",
       "      <td>160817292</td>\n",
       "      <td>&gt;30</td>\n",
       "    </tr>\n",
       "    <tr>\n",
       "      <th>30526</th>\n",
       "      <td>296022602</td>\n",
       "      <td>NO</td>\n",
       "    </tr>\n",
       "    <tr>\n",
       "      <th>30527</th>\n",
       "      <td>156232536</td>\n",
       "      <td>NO</td>\n",
       "    </tr>\n",
       "    <tr>\n",
       "      <th>30528</th>\n",
       "      <td>407964242</td>\n",
       "      <td>&gt;30</td>\n",
       "    </tr>\n",
       "    <tr>\n",
       "      <th>30529</th>\n",
       "      <td>110113794</td>\n",
       "      <td>&gt;30</td>\n",
       "    </tr>\n",
       "  </tbody>\n",
       "</table>\n",
       "<p>30530 rows × 2 columns</p>\n",
       "</div>"
      ],
      "text/plain": [
       "       encounter_id readmitted\n",
       "0         109962834         NO\n",
       "1         240829854         NO\n",
       "2          44942994         NO\n",
       "3         302469824        >30\n",
       "4         172075704        >30\n",
       "...             ...        ...\n",
       "30525     160817292        >30\n",
       "30526     296022602         NO\n",
       "30527     156232536         NO\n",
       "30528     407964242        >30\n",
       "30529     110113794        >30\n",
       "\n",
       "[30530 rows x 2 columns]"
      ]
     },
     "execution_count": 120,
     "metadata": {},
     "output_type": "execute_result"
    }
   ],
   "source": [
    "test_df[['encounter_id', 'readmitted']]"
   ]
  },
  {
   "cell_type": "code",
   "execution_count": 121,
   "id": "774c0085",
   "metadata": {
    "execution": {
     "iopub.execute_input": "2023-03-15T13:10:45.796021Z",
     "iopub.status.busy": "2023-03-15T13:10:45.795206Z",
     "iopub.status.idle": "2023-03-15T13:10:45.805591Z",
     "shell.execute_reply": "2023-03-15T13:10:45.804385Z"
    },
    "papermill": {
     "duration": 0.074397,
     "end_time": "2023-03-15T13:10:45.808076",
     "exception": false,
     "start_time": "2023-03-15T13:10:45.733679",
     "status": "completed"
    },
    "tags": []
   },
   "outputs": [
    {
     "data": {
      "text/plain": [
       "array(['NO', '>30', '<30'], dtype=object)"
      ]
     },
     "execution_count": 121,
     "metadata": {},
     "output_type": "execute_result"
    }
   ],
   "source": [
    "test_df['readmitted'].unique()"
   ]
  },
  {
   "cell_type": "code",
   "execution_count": 122,
   "id": "32b4bf56",
   "metadata": {
    "execution": {
     "iopub.execute_input": "2023-03-15T13:10:45.929989Z",
     "iopub.status.busy": "2023-03-15T13:10:45.929510Z",
     "iopub.status.idle": "2023-03-15T13:10:45.972005Z",
     "shell.execute_reply": "2023-03-15T13:10:45.970874Z"
    },
    "papermill": {
     "duration": 0.106644,
     "end_time": "2023-03-15T13:10:45.974667",
     "exception": false,
     "start_time": "2023-03-15T13:10:45.868023",
     "status": "completed"
    },
    "tags": []
   },
   "outputs": [
    {
     "data": {
      "text/html": [
       "<div>\n",
       "<style scoped>\n",
       "    .dataframe tbody tr th:only-of-type {\n",
       "        vertical-align: middle;\n",
       "    }\n",
       "\n",
       "    .dataframe tbody tr th {\n",
       "        vertical-align: top;\n",
       "    }\n",
       "\n",
       "    .dataframe thead th {\n",
       "        text-align: right;\n",
       "    }\n",
       "</style>\n",
       "<table border=\"1\" class=\"dataframe\">\n",
       "  <thead>\n",
       "    <tr style=\"text-align: right;\">\n",
       "      <th></th>\n",
       "      <th>service_utilization</th>\n",
       "      <th>race</th>\n",
       "      <th>gender</th>\n",
       "      <th>age</th>\n",
       "      <th>admission_type_id</th>\n",
       "      <th>discharge_disposition_id</th>\n",
       "      <th>admission_source_id</th>\n",
       "      <th>time_in_hospital</th>\n",
       "      <th>num_lab_procedures</th>\n",
       "      <th>num_procedures</th>\n",
       "      <th>...</th>\n",
       "      <th>metformin</th>\n",
       "      <th>repaglinide</th>\n",
       "      <th>pioglitazone</th>\n",
       "      <th>rosiglitazone</th>\n",
       "      <th>num_med_changed</th>\n",
       "      <th>num_med_taken</th>\n",
       "      <th>medical_specialty_freq</th>\n",
       "      <th>payer_code_freq</th>\n",
       "      <th>readmitted</th>\n",
       "      <th>encounter_id</th>\n",
       "    </tr>\n",
       "  </thead>\n",
       "  <tbody>\n",
       "    <tr>\n",
       "      <th>0</th>\n",
       "      <td>-0.531502</td>\n",
       "      <td>-1.622947</td>\n",
       "      <td>0.92736</td>\n",
       "      <td>-0.059945</td>\n",
       "      <td>-0.586284</td>\n",
       "      <td>0.361943</td>\n",
       "      <td>-1.436970</td>\n",
       "      <td>-0.133379</td>\n",
       "      <td>0.147567</td>\n",
       "      <td>-0.197752</td>\n",
       "      <td>...</td>\n",
       "      <td>-0.495077</td>\n",
       "      <td>-0.122548</td>\n",
       "      <td>-0.279099</td>\n",
       "      <td>-0.257665</td>\n",
       "      <td>-0.588547</td>\n",
       "      <td>-0.198284</td>\n",
       "      <td>-0.288837</td>\n",
       "      <td>-0.367086</td>\n",
       "      <td>NO</td>\n",
       "      <td>109962834</td>\n",
       "    </tr>\n",
       "    <tr>\n",
       "      <th>1</th>\n",
       "      <td>-0.531502</td>\n",
       "      <td>0.297995</td>\n",
       "      <td>-1.07833</td>\n",
       "      <td>1.193988</td>\n",
       "      <td>-0.586284</td>\n",
       "      <td>2.136663</td>\n",
       "      <td>-1.436970</td>\n",
       "      <td>-0.468620</td>\n",
       "      <td>-0.055944</td>\n",
       "      <td>-0.784003</td>\n",
       "      <td>...</td>\n",
       "      <td>-0.495077</td>\n",
       "      <td>-0.122548</td>\n",
       "      <td>3.582961</td>\n",
       "      <td>-0.257665</td>\n",
       "      <td>-0.588547</td>\n",
       "      <td>0.889756</td>\n",
       "      <td>-0.855768</td>\n",
       "      <td>-0.367086</td>\n",
       "      <td>NO</td>\n",
       "      <td>240829854</td>\n",
       "    </tr>\n",
       "    <tr>\n",
       "      <th>2</th>\n",
       "      <td>-0.531502</td>\n",
       "      <td>-0.470382</td>\n",
       "      <td>0.92736</td>\n",
       "      <td>-2.567813</td>\n",
       "      <td>-0.586284</td>\n",
       "      <td>3.911383</td>\n",
       "      <td>-0.394538</td>\n",
       "      <td>-0.133379</td>\n",
       "      <td>1.419510</td>\n",
       "      <td>0.974751</td>\n",
       "      <td>...</td>\n",
       "      <td>-0.495077</td>\n",
       "      <td>-0.122548</td>\n",
       "      <td>-0.279099</td>\n",
       "      <td>-0.257665</td>\n",
       "      <td>-0.588547</td>\n",
       "      <td>-1.286323</td>\n",
       "      <td>-1.013496</td>\n",
       "      <td>-1.324533</td>\n",
       "      <td>NO</td>\n",
       "      <td>44942994</td>\n",
       "    </tr>\n",
       "    <tr>\n",
       "      <th>3</th>\n",
       "      <td>-0.531502</td>\n",
       "      <td>-1.622947</td>\n",
       "      <td>0.92736</td>\n",
       "      <td>-0.059945</td>\n",
       "      <td>-0.586284</td>\n",
       "      <td>0.361943</td>\n",
       "      <td>0.647893</td>\n",
       "      <td>0.872343</td>\n",
       "      <td>1.826531</td>\n",
       "      <td>-0.197752</td>\n",
       "      <td>...</td>\n",
       "      <td>-0.495077</td>\n",
       "      <td>-0.122548</td>\n",
       "      <td>-0.279099</td>\n",
       "      <td>-0.257665</td>\n",
       "      <td>-0.588547</td>\n",
       "      <td>-0.198284</td>\n",
       "      <td>-0.288837</td>\n",
       "      <td>-1.361536</td>\n",
       "      <td>&gt;30</td>\n",
       "      <td>302469824</td>\n",
       "    </tr>\n",
       "    <tr>\n",
       "      <th>4</th>\n",
       "      <td>1.247104</td>\n",
       "      <td>0.297995</td>\n",
       "      <td>-1.07833</td>\n",
       "      <td>-0.059945</td>\n",
       "      <td>-0.586284</td>\n",
       "      <td>0.361943</td>\n",
       "      <td>-1.436970</td>\n",
       "      <td>0.872343</td>\n",
       "      <td>-0.513843</td>\n",
       "      <td>0.388500</td>\n",
       "      <td>...</td>\n",
       "      <td>2.019886</td>\n",
       "      <td>-0.122548</td>\n",
       "      <td>-0.279099</td>\n",
       "      <td>-0.257665</td>\n",
       "      <td>-0.588547</td>\n",
       "      <td>-0.198284</td>\n",
       "      <td>-1.665362</td>\n",
       "      <td>-0.989776</td>\n",
       "      <td>&gt;30</td>\n",
       "      <td>172075704</td>\n",
       "    </tr>\n",
       "    <tr>\n",
       "      <th>...</th>\n",
       "      <td>...</td>\n",
       "      <td>...</td>\n",
       "      <td>...</td>\n",
       "      <td>...</td>\n",
       "      <td>...</td>\n",
       "      <td>...</td>\n",
       "      <td>...</td>\n",
       "      <td>...</td>\n",
       "      <td>...</td>\n",
       "      <td>...</td>\n",
       "      <td>...</td>\n",
       "      <td>...</td>\n",
       "      <td>...</td>\n",
       "      <td>...</td>\n",
       "      <td>...</td>\n",
       "      <td>...</td>\n",
       "      <td>...</td>\n",
       "      <td>...</td>\n",
       "      <td>...</td>\n",
       "      <td>...</td>\n",
       "      <td>...</td>\n",
       "    </tr>\n",
       "    <tr>\n",
       "      <th>30525</th>\n",
       "      <td>0.357801</td>\n",
       "      <td>0.297995</td>\n",
       "      <td>-1.07833</td>\n",
       "      <td>0.567021</td>\n",
       "      <td>-0.586284</td>\n",
       "      <td>0.361943</td>\n",
       "      <td>-1.436970</td>\n",
       "      <td>1.207583</td>\n",
       "      <td>0.147567</td>\n",
       "      <td>0.388500</td>\n",
       "      <td>...</td>\n",
       "      <td>-0.495077</td>\n",
       "      <td>-0.122548</td>\n",
       "      <td>-0.279099</td>\n",
       "      <td>-0.257665</td>\n",
       "      <td>1.462012</td>\n",
       "      <td>-0.198284</td>\n",
       "      <td>-1.412385</td>\n",
       "      <td>-0.367086</td>\n",
       "      <td>&gt;30</td>\n",
       "      <td>160817292</td>\n",
       "    </tr>\n",
       "    <tr>\n",
       "      <th>30526</th>\n",
       "      <td>0.357801</td>\n",
       "      <td>-1.622947</td>\n",
       "      <td>-1.07833</td>\n",
       "      <td>-0.686912</td>\n",
       "      <td>-0.586284</td>\n",
       "      <td>2.136663</td>\n",
       "      <td>0.647893</td>\n",
       "      <td>0.201862</td>\n",
       "      <td>-0.157699</td>\n",
       "      <td>-0.784003</td>\n",
       "      <td>...</td>\n",
       "      <td>2.019886</td>\n",
       "      <td>-0.122548</td>\n",
       "      <td>-0.279099</td>\n",
       "      <td>-0.257665</td>\n",
       "      <td>-0.588547</td>\n",
       "      <td>-0.198284</td>\n",
       "      <td>-1.209219</td>\n",
       "      <td>-0.367086</td>\n",
       "      <td>NO</td>\n",
       "      <td>296022602</td>\n",
       "    </tr>\n",
       "    <tr>\n",
       "      <th>30527</th>\n",
       "      <td>-0.531502</td>\n",
       "      <td>0.297995</td>\n",
       "      <td>0.92736</td>\n",
       "      <td>-0.059945</td>\n",
       "      <td>-0.586284</td>\n",
       "      <td>-0.398651</td>\n",
       "      <td>-1.436970</td>\n",
       "      <td>-0.133379</td>\n",
       "      <td>0.503711</td>\n",
       "      <td>-0.784003</td>\n",
       "      <td>...</td>\n",
       "      <td>-0.495077</td>\n",
       "      <td>-0.122548</td>\n",
       "      <td>-0.279099</td>\n",
       "      <td>-0.257665</td>\n",
       "      <td>1.462012</td>\n",
       "      <td>-0.198284</td>\n",
       "      <td>-0.288837</td>\n",
       "      <td>-1.171350</td>\n",
       "      <td>NO</td>\n",
       "      <td>156232536</td>\n",
       "    </tr>\n",
       "    <tr>\n",
       "      <th>30528</th>\n",
       "      <td>0.357801</td>\n",
       "      <td>0.297995</td>\n",
       "      <td>0.92736</td>\n",
       "      <td>-1.313879</td>\n",
       "      <td>-0.586284</td>\n",
       "      <td>0.361943</td>\n",
       "      <td>0.647893</td>\n",
       "      <td>2.548546</td>\n",
       "      <td>1.317754</td>\n",
       "      <td>0.388500</td>\n",
       "      <td>...</td>\n",
       "      <td>-0.495077</td>\n",
       "      <td>-0.122548</td>\n",
       "      <td>-0.279099</td>\n",
       "      <td>-0.257665</td>\n",
       "      <td>-0.588547</td>\n",
       "      <td>-0.198284</td>\n",
       "      <td>-1.121607</td>\n",
       "      <td>-1.266864</td>\n",
       "      <td>&gt;30</td>\n",
       "      <td>407964242</td>\n",
       "    </tr>\n",
       "    <tr>\n",
       "      <th>30529</th>\n",
       "      <td>-0.531502</td>\n",
       "      <td>0.297995</td>\n",
       "      <td>0.92736</td>\n",
       "      <td>-0.686912</td>\n",
       "      <td>-0.586284</td>\n",
       "      <td>-0.398651</td>\n",
       "      <td>-1.436970</td>\n",
       "      <td>-0.468620</td>\n",
       "      <td>0.198445</td>\n",
       "      <td>-0.784003</td>\n",
       "      <td>...</td>\n",
       "      <td>2.019886</td>\n",
       "      <td>-0.122548</td>\n",
       "      <td>-0.279099</td>\n",
       "      <td>-0.257665</td>\n",
       "      <td>1.462012</td>\n",
       "      <td>-0.198284</td>\n",
       "      <td>-0.288837</td>\n",
       "      <td>-1.400726</td>\n",
       "      <td>&gt;30</td>\n",
       "      <td>110113794</td>\n",
       "    </tr>\n",
       "  </tbody>\n",
       "</table>\n",
       "<p>30530 rows × 30 columns</p>\n",
       "</div>"
      ],
      "text/plain": [
       "       service_utilization      race   gender       age  admission_type_id  \\\n",
       "0                -0.531502 -1.622947  0.92736 -0.059945          -0.586284   \n",
       "1                -0.531502  0.297995 -1.07833  1.193988          -0.586284   \n",
       "2                -0.531502 -0.470382  0.92736 -2.567813          -0.586284   \n",
       "3                -0.531502 -1.622947  0.92736 -0.059945          -0.586284   \n",
       "4                 1.247104  0.297995 -1.07833 -0.059945          -0.586284   \n",
       "...                    ...       ...      ...       ...                ...   \n",
       "30525             0.357801  0.297995 -1.07833  0.567021          -0.586284   \n",
       "30526             0.357801 -1.622947 -1.07833 -0.686912          -0.586284   \n",
       "30527            -0.531502  0.297995  0.92736 -0.059945          -0.586284   \n",
       "30528             0.357801  0.297995  0.92736 -1.313879          -0.586284   \n",
       "30529            -0.531502  0.297995  0.92736 -0.686912          -0.586284   \n",
       "\n",
       "       discharge_disposition_id  admission_source_id  time_in_hospital  \\\n",
       "0                      0.361943            -1.436970         -0.133379   \n",
       "1                      2.136663            -1.436970         -0.468620   \n",
       "2                      3.911383            -0.394538         -0.133379   \n",
       "3                      0.361943             0.647893          0.872343   \n",
       "4                      0.361943            -1.436970          0.872343   \n",
       "...                         ...                  ...               ...   \n",
       "30525                  0.361943            -1.436970          1.207583   \n",
       "30526                  2.136663             0.647893          0.201862   \n",
       "30527                 -0.398651            -1.436970         -0.133379   \n",
       "30528                  0.361943             0.647893          2.548546   \n",
       "30529                 -0.398651            -1.436970         -0.468620   \n",
       "\n",
       "       num_lab_procedures  num_procedures  ...  metformin  repaglinide  \\\n",
       "0                0.147567       -0.197752  ...  -0.495077    -0.122548   \n",
       "1               -0.055944       -0.784003  ...  -0.495077    -0.122548   \n",
       "2                1.419510        0.974751  ...  -0.495077    -0.122548   \n",
       "3                1.826531       -0.197752  ...  -0.495077    -0.122548   \n",
       "4               -0.513843        0.388500  ...   2.019886    -0.122548   \n",
       "...                   ...             ...  ...        ...          ...   \n",
       "30525            0.147567        0.388500  ...  -0.495077    -0.122548   \n",
       "30526           -0.157699       -0.784003  ...   2.019886    -0.122548   \n",
       "30527            0.503711       -0.784003  ...  -0.495077    -0.122548   \n",
       "30528            1.317754        0.388500  ...  -0.495077    -0.122548   \n",
       "30529            0.198445       -0.784003  ...   2.019886    -0.122548   \n",
       "\n",
       "       pioglitazone  rosiglitazone  num_med_changed  num_med_taken  \\\n",
       "0         -0.279099      -0.257665        -0.588547      -0.198284   \n",
       "1          3.582961      -0.257665        -0.588547       0.889756   \n",
       "2         -0.279099      -0.257665        -0.588547      -1.286323   \n",
       "3         -0.279099      -0.257665        -0.588547      -0.198284   \n",
       "4         -0.279099      -0.257665        -0.588547      -0.198284   \n",
       "...             ...            ...              ...            ...   \n",
       "30525     -0.279099      -0.257665         1.462012      -0.198284   \n",
       "30526     -0.279099      -0.257665        -0.588547      -0.198284   \n",
       "30527     -0.279099      -0.257665         1.462012      -0.198284   \n",
       "30528     -0.279099      -0.257665        -0.588547      -0.198284   \n",
       "30529     -0.279099      -0.257665         1.462012      -0.198284   \n",
       "\n",
       "       medical_specialty_freq  payer_code_freq  readmitted  encounter_id  \n",
       "0                   -0.288837        -0.367086          NO     109962834  \n",
       "1                   -0.855768        -0.367086          NO     240829854  \n",
       "2                   -1.013496        -1.324533          NO      44942994  \n",
       "3                   -0.288837        -1.361536         >30     302469824  \n",
       "4                   -1.665362        -0.989776         >30     172075704  \n",
       "...                       ...              ...         ...           ...  \n",
       "30525               -1.412385        -0.367086         >30     160817292  \n",
       "30526               -1.209219        -0.367086          NO     296022602  \n",
       "30527               -0.288837        -1.171350          NO     156232536  \n",
       "30528               -1.121607        -1.266864         >30     407964242  \n",
       "30529               -0.288837        -1.400726         >30     110113794  \n",
       "\n",
       "[30530 rows x 30 columns]"
      ]
     },
     "execution_count": 122,
     "metadata": {},
     "output_type": "execute_result"
    }
   ],
   "source": [
    "test_df"
   ]
  }
 ],
 "metadata": {
  "kernelspec": {
   "display_name": "Python 3",
   "language": "python",
   "name": "python3"
  },
  "language_info": {
   "codemirror_mode": {
    "name": "ipython",
    "version": 3
   },
   "file_extension": ".py",
   "mimetype": "text/x-python",
   "name": "python",
   "nbconvert_exporter": "python",
   "pygments_lexer": "ipython3",
   "version": "3.7.12"
  },
  "papermill": {
   "default_parameters": {},
   "duration": 4410.162295,
   "end_time": "2023-03-15T13:10:47.772298",
   "environment_variables": {},
   "exception": null,
   "input_path": "__notebook__.ipynb",
   "output_path": "__notebook__.ipynb",
   "parameters": {},
   "start_time": "2023-03-15T11:57:17.610003",
   "version": "2.3.4"
  }
 },
 "nbformat": 4,
 "nbformat_minor": 5
}
